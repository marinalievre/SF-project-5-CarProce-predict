{
 "cells": [
  {
   "cell_type": "markdown",
   "metadata": {
    "_cell_guid": "b1076dfc-b9ad-4769-8c92-a6c4dae69d19",
    "_uuid": "8f2839f25d086af736a60e9eeb907d3b93b6e0e5"
   },
   "source": [
    "# Импорт библиотек "
   ]
  },
  {
   "cell_type": "code",
   "execution_count": 621,
   "metadata": {},
   "outputs": [],
   "source": [
    "import numpy as np \n",
    "import pandas as pd"
   ]
  },
  {
   "cell_type": "code",
   "execution_count": 622,
   "metadata": {
    "_cell_guid": "79c7e3d0-c299-4dcb-8224-4455121ee9b0",
    "_uuid": "d629ff2d2480ee46fbb7e2d37f6b5fab8052498a"
   },
   "outputs": [],
   "source": [
    "import sys\n",
    "from sklearn.model_selection import KFold\n",
    "from sklearn.linear_model import LinearRegression\n",
    "from tqdm.notebook import tqdm\n",
    "from catboost import CatBoostRegressor\n",
    "from bs4 import BeautifulSoup    \n",
    "import requests \n",
    "import unicodedata\n",
    "import re"
   ]
  },
  {
   "cell_type": "code",
   "execution_count": 623,
   "metadata": {},
   "outputs": [],
   "source": [
    "import matplotlib.pyplot as plt\n",
    "import seaborn as sns\n",
    "\n",
    "from sklearn.feature_selection import f_regression, mutual_info_regression, mutual_info_classif, f_classif\n",
    "from sklearn.preprocessing import LabelEncoder, OneHotEncoder, StandardScaler, PolynomialFeatures\n",
    "\n",
    "from sklearn.model_selection import train_test_split, RandomizedSearchCV\n",
    "from sklearn.linear_model import LogisticRegression\n",
    "from pandas import Series\n",
    "\n",
    "from sklearn.metrics import recall_score\n",
    "from sklearn.metrics import auc, roc_auc_score, roc_curve\n",
    "from sklearn.base import clone\n",
    "import datetime\n",
    "from datetime import datetime, timedelta\n",
    "import math\n",
    "from itertools import combinations\n",
    "from scipy import stats\n",
    "\n",
    "from sklearn.preprocessing import StandardScaler\n",
    "from sklearn.ensemble import BaggingRegressor\n",
    "from sklearn.tree import DecisionTreeRegressor\n",
    "from sklearn.ensemble import RandomForestRegressor, ExtraTreesRegressor\n",
    "from sklearn.ensemble import GradientBoostingRegressor, AdaBoostRegressor\n",
    "from tqdm.notebook import tqdm\n",
    "import xgboost as xgb\n",
    "from catboost import CatBoostRegressor\n",
    "from pprint import pprint"
   ]
  },
  {
   "cell_type": "code",
   "execution_count": 624,
   "metadata": {},
   "outputs": [],
   "source": [
    "# зафиксируем версию пакетов, чтобы эксперименты были воспроизводимы:\n",
    "!pip freeze > requirements.txt"
   ]
  },
  {
   "cell_type": "code",
   "execution_count": 625,
   "metadata": {},
   "outputs": [],
   "source": [
    "RANDOM_SEED = 42"
   ]
  },
  {
   "cell_type": "code",
   "execution_count": 626,
   "metadata": {},
   "outputs": [],
   "source": [
    "#определим функцию для оценки модели\n",
    "def mape(y_true, y_pred):\n",
    "    return np.mean(np.abs((y_pred-y_true)/y_true))"
   ]
  },
  {
   "cell_type": "code",
   "execution_count": 627,
   "metadata": {},
   "outputs": [],
   "source": [
    "#определим функцию для обучения и предсказания\n",
    "def learn_model_log(model):\n",
    "    model.fit(X_train,np.log(y_train+1))\n",
    "    y_pred = np.exp(model.predict(X_test))\n",
    "    print (f\"Точность модели по метрике MAPE: {(mape(y_test, y_pred))*100:0.2f}%\")"
   ]
  },
  {
   "cell_type": "markdown",
   "metadata": {},
   "source": [
    "# Парсинг"
   ]
  },
  {
   "cell_type": "markdown",
   "metadata": {},
   "source": [
    "Для начала посмотрим тестовый датасет"
   ]
  },
  {
   "cell_type": "code",
   "execution_count": 628,
   "metadata": {},
   "outputs": [],
   "source": [
    "data_test = pd.read_csv('data/test.csv')\n",
    "data_sample = pd.read_csv('data/sample_submission.csv')"
   ]
  },
  {
   "cell_type": "code",
   "execution_count": 629,
   "metadata": {},
   "outputs": [
    {
     "data": {
      "text/html": [
       "<div>\n",
       "<style scoped>\n",
       "    .dataframe tbody tr th:only-of-type {\n",
       "        vertical-align: middle;\n",
       "    }\n",
       "\n",
       "    .dataframe tbody tr th {\n",
       "        vertical-align: top;\n",
       "    }\n",
       "\n",
       "    .dataframe thead th {\n",
       "        text-align: right;\n",
       "    }\n",
       "</style>\n",
       "<table border=\"1\" class=\"dataframe\">\n",
       "  <thead>\n",
       "    <tr style=\"text-align: right;\">\n",
       "      <th></th>\n",
       "      <th>bodyType</th>\n",
       "      <th>brand</th>\n",
       "      <th>car_url</th>\n",
       "      <th>color</th>\n",
       "      <th>complectation_dict</th>\n",
       "      <th>description</th>\n",
       "      <th>engineDisplacement</th>\n",
       "      <th>enginePower</th>\n",
       "      <th>equipment_dict</th>\n",
       "      <th>fuelType</th>\n",
       "      <th>...</th>\n",
       "      <th>vehicleConfiguration</th>\n",
       "      <th>vehicleTransmission</th>\n",
       "      <th>vendor</th>\n",
       "      <th>Владельцы</th>\n",
       "      <th>Владение</th>\n",
       "      <th>ПТС</th>\n",
       "      <th>Привод</th>\n",
       "      <th>Руль</th>\n",
       "      <th>Состояние</th>\n",
       "      <th>Таможня</th>\n",
       "    </tr>\n",
       "  </thead>\n",
       "  <tbody>\n",
       "    <tr>\n",
       "      <th>0</th>\n",
       "      <td>лифтбек</td>\n",
       "      <td>SKODA</td>\n",
       "      <td>https://auto.ru/cars/used/sale/skoda/octavia/1...</td>\n",
       "      <td>синий</td>\n",
       "      <td>NaN</td>\n",
       "      <td>Все автомобили, представленные в продаже, прох...</td>\n",
       "      <td>1.2 LTR</td>\n",
       "      <td>105 N12</td>\n",
       "      <td>{\"engine-proof\":true,\"tinted-glass\":true,\"airb...</td>\n",
       "      <td>бензин</td>\n",
       "      <td>...</td>\n",
       "      <td>LIFTBACK ROBOT 1.2</td>\n",
       "      <td>роботизированная</td>\n",
       "      <td>EUROPEAN</td>\n",
       "      <td>3 или более</td>\n",
       "      <td>NaN</td>\n",
       "      <td>Оригинал</td>\n",
       "      <td>передний</td>\n",
       "      <td>Левый</td>\n",
       "      <td>Не требует ремонта</td>\n",
       "      <td>Растаможен</td>\n",
       "    </tr>\n",
       "    <tr>\n",
       "      <th>1</th>\n",
       "      <td>лифтбек</td>\n",
       "      <td>SKODA</td>\n",
       "      <td>https://auto.ru/cars/used/sale/skoda/octavia/1...</td>\n",
       "      <td>чёрный</td>\n",
       "      <td>NaN</td>\n",
       "      <td>ЛОТ: 01217195\\nАвтопрага Север\\nДанный автомоб...</td>\n",
       "      <td>1.6 LTR</td>\n",
       "      <td>110 N12</td>\n",
       "      <td>{\"cruise-control\":true,\"asr\":true,\"esp\":true,\"...</td>\n",
       "      <td>бензин</td>\n",
       "      <td>...</td>\n",
       "      <td>LIFTBACK MECHANICAL 1.6</td>\n",
       "      <td>механическая</td>\n",
       "      <td>EUROPEAN</td>\n",
       "      <td>1 владелец</td>\n",
       "      <td>NaN</td>\n",
       "      <td>Оригинал</td>\n",
       "      <td>передний</td>\n",
       "      <td>Левый</td>\n",
       "      <td>Не требует ремонта</td>\n",
       "      <td>Растаможен</td>\n",
       "    </tr>\n",
       "    <tr>\n",
       "      <th>2</th>\n",
       "      <td>лифтбек</td>\n",
       "      <td>SKODA</td>\n",
       "      <td>https://auto.ru/cars/used/sale/skoda/superb/11...</td>\n",
       "      <td>серый</td>\n",
       "      <td>{\"id\":\"20026336\",\"name\":\"Ambition\",\"available_...</td>\n",
       "      <td>Все автомобили, представленные в продаже, прох...</td>\n",
       "      <td>1.8 LTR</td>\n",
       "      <td>152 N12</td>\n",
       "      <td>{\"cruise-control\":true,\"tinted-glass\":true,\"es...</td>\n",
       "      <td>бензин</td>\n",
       "      <td>...</td>\n",
       "      <td>LIFTBACK ROBOT 1.8</td>\n",
       "      <td>роботизированная</td>\n",
       "      <td>EUROPEAN</td>\n",
       "      <td>1 владелец</td>\n",
       "      <td>NaN</td>\n",
       "      <td>Оригинал</td>\n",
       "      <td>передний</td>\n",
       "      <td>Левый</td>\n",
       "      <td>Не требует ремонта</td>\n",
       "      <td>Растаможен</td>\n",
       "    </tr>\n",
       "    <tr>\n",
       "      <th>3</th>\n",
       "      <td>лифтбек</td>\n",
       "      <td>SKODA</td>\n",
       "      <td>https://auto.ru/cars/used/sale/skoda/octavia/1...</td>\n",
       "      <td>коричневый</td>\n",
       "      <td>{\"id\":\"20803582\",\"name\":\"Ambition\",\"available_...</td>\n",
       "      <td>КОМПЛЕКТ ЗИМНЕЙ (ЛЕТНЕЙ) РЕЗИНЫ ПО СЕЗОНУ В ПО...</td>\n",
       "      <td>1.6 LTR</td>\n",
       "      <td>110 N12</td>\n",
       "      <td>{\"cruise-control\":true,\"roller-blind-for-rear-...</td>\n",
       "      <td>бензин</td>\n",
       "      <td>...</td>\n",
       "      <td>LIFTBACK AUTOMATIC 1.6</td>\n",
       "      <td>автоматическая</td>\n",
       "      <td>EUROPEAN</td>\n",
       "      <td>1 владелец</td>\n",
       "      <td>NaN</td>\n",
       "      <td>Оригинал</td>\n",
       "      <td>передний</td>\n",
       "      <td>Левый</td>\n",
       "      <td>Не требует ремонта</td>\n",
       "      <td>Растаможен</td>\n",
       "    </tr>\n",
       "    <tr>\n",
       "      <th>4</th>\n",
       "      <td>лифтбек</td>\n",
       "      <td>SKODA</td>\n",
       "      <td>https://auto.ru/cars/used/sale/skoda/octavia/1...</td>\n",
       "      <td>белый</td>\n",
       "      <td>NaN</td>\n",
       "      <td>ЛОТ: 01220889\\nАвтопрага Север\\n\\nВы можете по...</td>\n",
       "      <td>1.8 LTR</td>\n",
       "      <td>152 N12</td>\n",
       "      <td>{\"cruise-control\":true,\"asr\":true,\"esp\":true,\"...</td>\n",
       "      <td>бензин</td>\n",
       "      <td>...</td>\n",
       "      <td>LIFTBACK AUTOMATIC 1.8</td>\n",
       "      <td>автоматическая</td>\n",
       "      <td>EUROPEAN</td>\n",
       "      <td>1 владелец</td>\n",
       "      <td>NaN</td>\n",
       "      <td>Оригинал</td>\n",
       "      <td>передний</td>\n",
       "      <td>Левый</td>\n",
       "      <td>Не требует ремонта</td>\n",
       "      <td>Растаможен</td>\n",
       "    </tr>\n",
       "  </tbody>\n",
       "</table>\n",
       "<p>5 rows × 32 columns</p>\n",
       "</div>"
      ],
      "text/plain": [
       "  bodyType  brand                                            car_url  \\\n",
       "0  лифтбек  SKODA  https://auto.ru/cars/used/sale/skoda/octavia/1...   \n",
       "1  лифтбек  SKODA  https://auto.ru/cars/used/sale/skoda/octavia/1...   \n",
       "2  лифтбек  SKODA  https://auto.ru/cars/used/sale/skoda/superb/11...   \n",
       "3  лифтбек  SKODA  https://auto.ru/cars/used/sale/skoda/octavia/1...   \n",
       "4  лифтбек  SKODA  https://auto.ru/cars/used/sale/skoda/octavia/1...   \n",
       "\n",
       "        color                                 complectation_dict  \\\n",
       "0       синий                                                NaN   \n",
       "1      чёрный                                                NaN   \n",
       "2       серый  {\"id\":\"20026336\",\"name\":\"Ambition\",\"available_...   \n",
       "3  коричневый  {\"id\":\"20803582\",\"name\":\"Ambition\",\"available_...   \n",
       "4       белый                                                NaN   \n",
       "\n",
       "                                         description engineDisplacement  \\\n",
       "0  Все автомобили, представленные в продаже, прох...            1.2 LTR   \n",
       "1  ЛОТ: 01217195\\nАвтопрага Север\\nДанный автомоб...            1.6 LTR   \n",
       "2  Все автомобили, представленные в продаже, прох...            1.8 LTR   \n",
       "3  КОМПЛЕКТ ЗИМНЕЙ (ЛЕТНЕЙ) РЕЗИНЫ ПО СЕЗОНУ В ПО...            1.6 LTR   \n",
       "4  ЛОТ: 01220889\\nАвтопрага Север\\n\\nВы можете по...            1.8 LTR   \n",
       "\n",
       "  enginePower                                     equipment_dict fuelType  \\\n",
       "0     105 N12  {\"engine-proof\":true,\"tinted-glass\":true,\"airb...   бензин   \n",
       "1     110 N12  {\"cruise-control\":true,\"asr\":true,\"esp\":true,\"...   бензин   \n",
       "2     152 N12  {\"cruise-control\":true,\"tinted-glass\":true,\"es...   бензин   \n",
       "3     110 N12  {\"cruise-control\":true,\"roller-blind-for-rear-...   бензин   \n",
       "4     152 N12  {\"cruise-control\":true,\"asr\":true,\"esp\":true,\"...   бензин   \n",
       "\n",
       "   ...     vehicleConfiguration  vehicleTransmission    vendor    Владельцы  \\\n",
       "0  ...       LIFTBACK ROBOT 1.2     роботизированная  EUROPEAN  3 или более   \n",
       "1  ...  LIFTBACK MECHANICAL 1.6         механическая  EUROPEAN   1 владелец   \n",
       "2  ...       LIFTBACK ROBOT 1.8     роботизированная  EUROPEAN   1 владелец   \n",
       "3  ...   LIFTBACK AUTOMATIC 1.6       автоматическая  EUROPEAN   1 владелец   \n",
       "4  ...   LIFTBACK AUTOMATIC 1.8       автоматическая  EUROPEAN   1 владелец   \n",
       "\n",
       "  Владение       ПТС    Привод   Руль           Состояние     Таможня  \n",
       "0      NaN  Оригинал  передний  Левый  Не требует ремонта  Растаможен  \n",
       "1      NaN  Оригинал  передний  Левый  Не требует ремонта  Растаможен  \n",
       "2      NaN  Оригинал  передний  Левый  Не требует ремонта  Растаможен  \n",
       "3      NaN  Оригинал  передний  Левый  Не требует ремонта  Растаможен  \n",
       "4      NaN  Оригинал  передний  Левый  Не требует ремонта  Растаможен  \n",
       "\n",
       "[5 rows x 32 columns]"
      ]
     },
     "execution_count": 629,
     "metadata": {},
     "output_type": "execute_result"
    }
   ],
   "source": [
    "data_test.head()"
   ]
  },
  {
   "cell_type": "code",
   "execution_count": 630,
   "metadata": {},
   "outputs": [
    {
     "name": "stdout",
     "output_type": "stream",
     "text": [
      "<class 'pandas.core.frame.DataFrame'>\n",
      "RangeIndex: 34686 entries, 0 to 34685\n",
      "Data columns (total 32 columns):\n",
      " #   Column                Non-Null Count  Dtype \n",
      "---  ------                --------------  ----- \n",
      " 0   bodyType              34686 non-null  object\n",
      " 1   brand                 34686 non-null  object\n",
      " 2   car_url               34686 non-null  object\n",
      " 3   color                 34686 non-null  object\n",
      " 4   complectation_dict    6418 non-null   object\n",
      " 5   description           34686 non-null  object\n",
      " 6   engineDisplacement    34686 non-null  object\n",
      " 7   enginePower           34686 non-null  object\n",
      " 8   equipment_dict        24690 non-null  object\n",
      " 9   fuelType              34686 non-null  object\n",
      " 10  image                 34686 non-null  object\n",
      " 11  mileage               34686 non-null  int64 \n",
      " 12  modelDate             34686 non-null  int64 \n",
      " 13  model_info            34686 non-null  object\n",
      " 14  model_name            34686 non-null  object\n",
      " 15  name                  34686 non-null  object\n",
      " 16  numberOfDoors         34686 non-null  int64 \n",
      " 17  parsing_unixtime      34686 non-null  int64 \n",
      " 18  priceCurrency         34686 non-null  object\n",
      " 19  productionDate        34686 non-null  int64 \n",
      " 20  sell_id               34686 non-null  int64 \n",
      " 21  super_gen             34686 non-null  object\n",
      " 22  vehicleConfiguration  34686 non-null  object\n",
      " 23  vehicleTransmission   34686 non-null  object\n",
      " 24  vendor                34686 non-null  object\n",
      " 25  Владельцы             34686 non-null  object\n",
      " 26  Владение              11995 non-null  object\n",
      " 27  ПТС                   34685 non-null  object\n",
      " 28  Привод                34686 non-null  object\n",
      " 29  Руль                  34686 non-null  object\n",
      " 30  Состояние             34686 non-null  object\n",
      " 31  Таможня               34686 non-null  object\n",
      "dtypes: int64(6), object(26)\n",
      "memory usage: 8.5+ MB\n"
     ]
    }
   ],
   "source": [
    "data_test.info()"
   ]
  },
  {
   "cell_type": "markdown",
   "metadata": {},
   "source": [
    "##### в датасете 6 числовых признаков, остальные - категориальные. Рассмотим признаки в тестовом датасете чуть ближе"
   ]
  },
  {
   "cell_type": "code",
   "execution_count": 29,
   "metadata": {},
   "outputs": [
    {
     "name": "stdout",
     "output_type": "stream",
     "text": [
      "name of column: bodyType \n",
      " седан                   13147\n",
      "внедорожник 5 дв.       12228\n",
      "лифтбек                  2232\n",
      "хэтчбек 5 дв.            2124\n",
      "универсал 5 дв.          1276\n",
      "минивэн                   995\n",
      "купе                      824\n",
      "компактвэн                489\n",
      "хэтчбек 3 дв.             485\n",
      "пикап двойная кабина      280\n",
      "Name: bodyType, dtype: int64 \n",
      "\n",
      "name of column: brand \n",
      " BMW           4473\n",
      "VOLKSWAGEN    4404\n",
      "NISSAN        4393\n",
      "MERCEDES      4180\n",
      "TOYOTA        3913\n",
      "AUDI          3421\n",
      "MITSUBISHI    2843\n",
      "SKODA         2741\n",
      "VOLVO         1463\n",
      "HONDA         1150\n",
      "Name: brand, dtype: int64 \n",
      "\n",
      "name of column: car_url \n",
      " https://auto.ru/cars/used/sale/lexus/es/1101129190-bded86cb/              1\n",
      "https://auto.ru/cars/used/sale/audi/100/1101030894-85d1dbe6/              1\n",
      "https://auto.ru/cars/used/sale/lexus/lx/1101315885-8a3d242b/              1\n",
      "https://auto.ru/cars/used/sale/mitsubishi/grandis/1099494886-3493e1e1/    1\n",
      "https://auto.ru/cars/used/sale/lexus/lx/1101186740-34619e77/              1\n",
      "https://auto.ru/cars/used/sale/infiniti/fx/1092340666-f6eaae24/           1\n",
      "https://auto.ru/cars/used/sale/audi/rs6/1101055466-4802ded9/              1\n",
      "https://auto.ru/cars/used/sale/audi/a3/1101329161-727b8cc9/               1\n",
      "https://auto.ru/cars/used/sale/bmw/x4/1101211284-19035058/                1\n",
      "https://auto.ru/cars/used/sale/bmw/5er/1095172218-f8b1c08d/               1\n",
      "Name: car_url, dtype: int64 \n",
      "\n",
      "name of column: color \n",
      " чёрный         11010\n",
      "белый           6133\n",
      "серебристый     4113\n",
      "серый           3984\n",
      "синий           3289\n",
      "красный         1531\n",
      "коричневый      1501\n",
      "зелёный          952\n",
      "бежевый          639\n",
      "голубой          457\n",
      "Name: color, dtype: int64 \n",
      "\n",
      "name of column: description \n",
      " Выгода до 82 000 руб. при обмене на Ваш автомобиль! \\nВыгода при покупке в кредит до 100 000 руб.! \\nРОЛЬФ ЯСЕНЕВО с пробегом. \\n-Мы принимаем любые легковые и коммерческие автомобили независимо от марки, года выпуска, пробега и состояния автомобиля. \\n-В наличии более 500 проверенных и готовых к продаже автомобилей. \\n-Более 400 комплектов шин, дисков, колес в сборе. \\n-Все автомобили проходят комплексную проверку - техническую, криминалистическую, проверку истории кузовных ремонтов сертифицированными специалистами. \\n-Мы предоставляем гарантию юридической чистоты в соответствии с законодательством РФ. \\n-Мы работаем каждый день с 9:00 до 22:00 (без выходных). \\nУслуги: \\n• Срочный выкуп Вашего автомобиля \\n• Выкуп кредитных а/м \\n• Trade-in - обмен Вашего автомобиля на новый или с пробегом (возможна доплата с любой стороны) \\n• Выездная оценка Вашего а/м \\n• Комиссионная продажа (на Ваших условиях) \\n• Аукцион \\n• Кредитование \\n• Страхование КАСКО, ОСАГО \\n• Дополнительное оборудование \\n• Запасные части \\n• Сервисное обслуживание \\n• Б/У шины и диски                                                                                                                                                                                                                                                                                                                                                                                                                                                                                                                                                                                                                                                                                                                                                                                                                                                                                                                                                                                                                                                                                                                                                                                                                                                                                                                                                                                                                                                                                                                                                                                                                                                                                                                                                                                                                                                                                                                                                                                                                                                                    264\n",
      "РОЛЬФ - Официальный дилер и Лучший дилер России по итогам продаж и обслуживания автомобилей. Мы гарантируем Вам самые лучшие условия покупки!\\n\\nВсе автомобили прошли:\\n\\n∙ Криминалистическую и юридическую проверку.\\n∙ Комплексную диагностику, Вы получаете лист с официальным заключением о состоянии автомобиля.                                                                                                                                                                                                                                                                                                                                                                                                                                                                                                                                                                                                                                                                                                                                                                                                                                                                                                                                                                                                                                                                                                                                                                                                                                                                                                                                                                                                                                                                                                                                                                                                                                                                                                                                                                                                                                                                                                                                                                                                                                                                                                                                                                                                                                                                                                                                                                                                                                                                                                                                                                                                                                                                                                                                                                                                                                                           259\n",
      "Автодилер года 2020\\n\\nПобедитель в номинации «Организация продаж автомобилей с пробегом»\\n\\nИндивидуальные условия при покупке в кредит и/или при обмене на Ваш автомобиль.\\nВсегда рады видеть Вас в нашем дилерском центре для просмотра данного автомобиля находящегося на крытой парковке ежедневно с 9 до 22. \\n\\nВы можете воспользоваться специальными кредитными предложениями при приобретении автомобиля: \\n+ Первоначальный взнос от 0% \\n+ Срок кредита от 6 месяцев до 7 лет \\n+ Выгодные процентные ставки \\n+ Кредит по двум документам (только паспорт и права) и выдачи кредита в автосалоне одним днем \\n+ ЭКСПРЕСС автокредит, одобрение заявки и выдача автокредита за 2 часа \\n+ Возможность оформления автокредита на себя, а автомобиля на другое лицо \\n+ Возможность досрочного погашения на следующий день \\n+ Возможность оформления в большинстве регионов РФ \\n+ Возможность оформления без военного билета \\n+ Возможность оформления автокредита для работающих пенсионеров (до 85 лет ) \\n+ Возможность не сдавать ПТС в банк\\n+ Возможность оплаты по безналичному расчёту\\n\\nБолее подробную информацию по комплектации, дополнительному оборудованию автомобиля и всем интересующим вопросам, уточняйте по телефону, у продавца – консультанта.                                                                                                                                                                                                                                                                                                                                                                                                                                                                                                                                                                                                                                                                                                                                                                                                                                                                                                                                                                                                                                                                                                                                                                                                                                                                                                                                                                                                                                                                                                                                                                                                                                                                                                                                                                                                                                                                                               211\n",
      "• Автомобиль проверен по 110 пунктам\\n• Автокредит по специальной ставке от 13,7%\\n\\nАуди Центр Север, официальный дилер Audi, входящий в группу компаний РОЛЬФ и являющийся одним из крупнейших дилеров в Европе, предлагает Вам ряд услуг по покупке и продаже автомобилей с пробегом.\\n\\nНа протяжении многих лет наш дилерский центр является лидером по продаже автомобилей с пробегом среди всех дилеров Audi в России и предоставляет клиентам самый большой выбор автомобилей с пробегом Audi и других марок.\\nКаждый автомобиль проходит тщательную диагностику и подготовку, и гарантировано находится в отличном состоянии.\\nЧтобы убедиться в правильном выборе, у Вас есть возможность пройти тест-драйв ― ознакомительную поездку на интересующем автомобиле.\\nВы сможете ознакомиться с автомобилем не выходя из дома – наш менеджер проведет online презентацию и в видеозвонке покажет выбранный автомобиль.\\nТакже Ауди Центр Север представляет уникальное предложение по кредитованию автомобилей с пробегом на индивидуальных условиях. Специалисты компании  подберут для Вас лучшие условия кредитования.                                                                                                                                                                                                                                                                                                                                                                                                                                                                                                                                                                                                                                                                                                                                                                                                                                                                                                                                                                                                                                                                                                                                                                                                                                                                                                                                                                                                                                                                                                                                                                                                                                                                                                                                                                                                                                                                                                                                                                                                                                                  161\n",
      "Купить автомобиль с пробегом в РОЛЬФ — это быстро, выгодно и надежно. У нас каждый автомобиль проходит комплексную техническую диагностику и предпродажную проверку по 49 параметрам. Мы гарантируем юридическую чистоту сделки, полный пакет документов и  ПТС.\\n \\nПеред покупкой можно лично проверить кузов на наличие окрашенных деталей, провести технический осмотр на подъемнике и попробовать автомобиль на тест-драйве. \\n \\nУ нас доступно несколько видов оплаты, оформление КАСКО, программа трейд-ин и обмен транспортными средствами. Индивидуальные скидки обсуждаются напрямую в салоне. \\n \\nВоспользуйтесь преимуществами РОЛЬФ. Позвоните нам, чтобы узнать подробности.                                                                                                                                                                                                                                                                                                                                                                                                                                                                                                                                                                                                                                                                                                                                                                                                                                                                                                                                                                                                                                                                                                                                                                                                                                                                                                                                                                                                                                                                                                                                                                                                                                                                                                                                                                                                                                                                                                                                                                                                                                                                                                                                                                                                                                                                                                                                                                                                                                                                                      153\n",
      "РОЛЬФ Премиум – крупнейший официальный дилер Москвы\\n\\nВсе автомобили прошли:\\n\\n∙ Криминалистическую и юридическую проверку.\\n∙ Комплексную диагностику, Вы получаете лист с официальным заключением о состоянии автомобиля.\\n\\nМы предлагаем:\\n\\n∙ Автокредит от 11,8% по двум документам одобрение за 1 час\\n∙ Специальные условия при обмене на Ваш автомобиль\\n∙ В наличии более 500 автомобилей с пробегом \\n∙ Все автомобили прошли комплексную диагностику\\n∙ Гарантия юридической чистоты\\n∙ Более 150 комплектов колес и шин с пробегом по выгодной цене \\n∙ Широкий ассортимент дополнительного оборудования\\n∙ Уникальное предложение РОЛЬФ \"Авторефинансирование\".\\n∙ Комиссия. Нашли машину сами - оформите кредит по специальной программе РОЛЬФ                                                                                                                                                                                                                                                                                                                                                                                                                                                                                                                                                                                                                                                                                                                                                                                                                                                                                                                                                                                                                                                                                                                                                                                                                                                                                                                                                                                                                                                                                                                                                                                                                                                                                                                                                                                                                                                                                                                                                                                                                                                                                                                                                                                                                                                                                                                                                                                                                   148\n",
      "При покупке автомобиля:\\n► Возможна покупка автомобиля в кредит без первоначального взноса\\n► Этот автомобиль можно приобрести в рассрочку без переплат!*\\n*Рассрочка предоставляется банками-партнерами\\n\\nУникальное предложение нашего салона:\\nПодобрали автомобиль у частного лица и хотите приобрести в кредит – \\nбесплатная техническая и юридическая проверка автомобиля + специальные условия кредитования!\\n\\nНа представленном автомобиле:\\n• Проведена комплексная, техническая и криминалистическая проверка.\\n• Проверена история кузовных ремонтов сертифицированными специалистами.\\n• Гарантия юридической чистоты в соответствии с законодательством РФ. \\n\\nМы предлагаем: \\n✔ Срочный выкуп Вашего автомобиля \\n✔ Выкуп кредитных автомобилей\\n✔ Трейд-ин - обмен Вашего автомобиля на новый или с пробегом\\n✔ Комиссионная продажа - на Ваших условиях\\n✔ Кредитование \\n✔ Страхование КАСКО, ОСАГО\\n✔ Дополнительное оборудование                                                                                                                                                                                                                                                                                                                                                                                                                                                                                                                                                                                                                                                                                                                                                                                                                                                                                                                                                                                                                                                                                                                                                                                                                                                                                                                                                                                                                                                                                                                                                                                                                                                                                                                                                                                                                                                                                                                                                                                                                                                                                                                                                                                                                          124\n",
      "Выгода от 30 000 руб. при обмене на Ваш автомобиль!Мы принимаем любые легковые и коммерческие автомобили независимо от марки, года выпуска, пробега и состояния автомобиля.Выгода при покупке в кредит от 30 000 руб!Ставка от 8.5%, срок кредита до 7 лет, можно без первоначального взноса!Более 14 банков партнеров, рассмотрение заявки в течение 30 минут, выдача день-в-день!ПТС остается на руках у клиента.РОЛЬФ Алтуфьево уже 29 ЛЕТ успешно выкупает и продаёт легковые и коммерческие автомобили любой марки, года выпуска и пробега!Представленный автомобиль:• Прошёл комплексную техническую и криминалистическую проверку.• Проверена история кузовных ремонтов сертифицированными экспертами.• Присвоена Гарантия юридической чистоты в соответствии с нормами законодательства РФ.Наш спектр услуг:# Срочный выкуп Вашего автомобиля (деньги в день обращения, в течении 3 часов)# Выкуп кредитных автомобилей (погашение кредита за ВАС)пп# Трейд-ин - обмен Вашего автомобиля на новый или с пробегом# Комиссионная продажа - на Ваших условиях (лучшие условия по Москве)# Аукцион (продай свой авто по максимально выгодной цене)# Кредитование (возможно без первоначального взноса)# Страхование КАСКО, ОСАГО# Установка дополнительного оборудования# Продажа запасных частей (большой выбор комплектов колес и шин с пробегом)РОЛЬФ АЛТУФЬЕВО находится по адресу: г. Москва, Алтуфьевское ш., 31, стр. 8, (пересечение Алтуфьевского шоссе и проектируемого пр-да №2257) в 15 минутах ходьбы от метро Отрадное, либо 5 минут на общественном транспорте от метро Владыкино.Работаем каждый день, с 8:00 до 22:00.Звоните, а лучше приезжайте прямо сейчас!Мы рады Вам!Станьте частью нашей большой семьи постоянных покупателей!\\n\\nЗвоните, а лучше приезжайте, чтобы получить уникальное предложение!\\n\\nРОЛЬФ ДИАМАНТ уже 28 ЛЕТ успешно выкупает и продаёт легковые и коммерческие автомобили любой марки, года выпуска и пробега! \\n\\nПредставленный автомобиль:\\n\\n∙ Прошёл комплексную техническую и криминалистическую проверку.\\n∙ Проверена история кузовных ремонтов сертифицированными экспертами.\\n∙ Присвоена Гарантия юридической чистоты в соответствии с нормами законодательства РФ. \\n\\nНаш спектр услуг: \\n\\n# Срочный выкуп Вашего автомобиля (деньги в день обращения, в течении 3 часов)\\n# Выкуп кредитных автомобилей (погашение кредита за ВАС)\\n#Трейд-ин - обмен Вашего автомобиля на новый или с пробегом\\n# Комиссионная продажа - на Ваших условиях (лучшие условия по Москве)\\n# Аукцион (продай свой авто по максимально выгодной цене)\\n# Кредитование (возможно без первоначального взноса)\\n# Страхование КАСКО, ОСАГО\\n# Установка дополнительного оборудования \\n# Продажа запасных частей \\n\\n\\nРОЛЬФ ДИАМАНТ находится по адресу: г. Москва, Алтуфьевское ш., 31, стр. 8, (пересечение   Алтуфьевского шоссе и проектируемого пр-да №2257) в 15 минутах ходьбы от метро Отрадное, либо 5 минут на общественном транспорте от метро Владыкино.\\nРаботаем каждый день, с 8:00 до 22:00.\\n\\nЗвоните, а лучше приезжайте прямо сейчас!\\nМы рады Вам!\\nСтаньте частью нашей большой семьи постоянных покупателей!    106\n",
      "РОЛЬФ Северо-Запад - это первый мегамолл автомобилей с пробегом, где на площади 27 000 кв.м. вас ждут 1 500 автомобилей с комфортными условиями покупки и выгодными предложениями.\\n\\n· Все автомобили проверены по стандартам РОЛЬФ и заводов-изготовителей\\n· Более 50 брендов в различных ценовых категориях\\n· Возможность приобретения выбранного автомобиля в кредит (более 10 Банков-партнеров: ЮниКредитБанк, Экспо Банк, Тинькофф Банк, Совкомбанк, Сетелем, Русфинанс Банк, Росгосстрах банк, МС Банк, Локо Банк ,Кредит Европа Банк, ВТБ, Банк УРАЛСИБ, Банк Союз, Банк Зенит, Балтинвестбанк).\\n· Любые виды страхования автомобилей\\n· Услуги ГИБДД (поставка на учет, прекращение учета, сохранение государственных знаков)\\n· Гарантия юридической чистоты и безопасность сделки\\n· Гарантия на автомобили различных марок сроком до 24 месяцев при общем пробеге до 200 000 км\\n\\nДля Вашего удобства:\\n• Онлайн-консультация по интересующему вас автомобилю.\\n• Онлайн-бронирование и предоплата автомобилей.\\n• Дистанционно-бесконтактный осмотр автомобиля.\\n• Запись на сервисное обслуживание.\\n\\nБолее 6 000 проверенных автомобилей с пробегом с гарантией до 2 лет ждут Вас в РОЛЬФ Северо-Запад.\\n\\nРОЛЬФ Северо-Запад, 71-й км. МКАД, 16А, стр.2                                                                                                                                                                                                                                                                                                                                                                                                                                                                                                                                                                                                                                                                                                                                                                                                                                                                                                                                                                                                                                                                                                                                                                                                                                                                                                                                                                                                                                                                                                                                                                                                                                                                                                                                                                                                                                                                                                      100\n",
      "Официальный дилер Mercedes-Benz \\nООО «РОЛЬФ» филиал «Звезда Столицы Варшавка» \\n\\n•\\tАвтокредит от 11,8% по двум документам одобрение за 1 час* \\n•\\tСпециальные условия при обмене на Ваш автомобиль\\n•\\tВ наличии более 200 автомобилей с пробегом \\n•\\tВсе автомобили прошли комплексную диагностику\\n•\\tГарантия юридической чистоты\\n•\\tБолее 150 комплектов колес и шин с пробегом по выгодной цене \\n•\\tШирокий ассортимент дополнительного оборудования\\n\\n*кредитная ставка зависит от параметров автомобиля, срока кредитования, страхования и размера первоначального взноса.                                                                                                                                                                                                                                                                                                                                                                                                                                                                                                                                                                                                                                                                                                                                                                                                                                                                                                                                                                                                                                                                                                                                                                                                                                                                                                                                                                                                                                                                                                                                                                                                                                                                                                                                                                                                                                                                                                                                                                                                                                                                                                                                                                                                                                                                                                                                                                                                                                                                                                                                                                                          80\n",
      "Name: description, dtype: int64 \n",
      "\n",
      "name of column: engineDisplacement \n",
      " 2.0 LTR    7391\n",
      "1.6 LTR    4973\n",
      "3.0 LTR    3915\n",
      "1.8 LTR    3349\n",
      "2.5 LTR    2477\n",
      "2.4 LTR    1745\n",
      "3.5 LTR    1710\n",
      "1.4 LTR    1635\n",
      "1.5 LTR     725\n",
      "1.2 LTR     485\n",
      "Name: engineDisplacement, dtype: int64 \n",
      "\n",
      "name of column: enginePower \n",
      " 249 N12    1708\n",
      "150 N12    1699\n",
      "110 N12    1039\n",
      "170 N12     977\n",
      "105 N12     955\n",
      "140 N12     942\n",
      "184 N12     923\n",
      "152 N12     873\n",
      "102 N12     832\n",
      "190 N12     779\n",
      "Name: enginePower, dtype: int64 \n",
      "\n",
      "name of column: equipment_dict \n",
      " {\"leather\":true}                                                                                                                                                                                                                                                                                                                                                                                                                                                                                                                                           108\n",
      "{\"gbo\":true}                                                                                                                                                                                                                                                                                                                                                                                                                                                                                                                                               106\n",
      "{\"fabric-seats\":true}                                                                                                                                                                                                                                                                                                                                                                                                                                                                                                                                       59\n",
      "{\"roof-rails\":true}                                                                                                                                                                                                                                                                                                                                                                                                                                                                                                                                         37\n",
      "{\"cruise-control\":true,\"esp\":true,\"airbag-driver\":true,\"electro-window-front\":true,\"xenon\":true,\"airbag-passenger\":true,\"computer\":true,\"seat-transformation\":true,\"wheel-power\":true,\"alarm\":true,\"passenger-seat-electric\":true,\"lock\":true,\"electro-mirrors\":true,\"electro-window-back\":true,\"paint-metallic\":true,\"ptf\":true,\"airbag-side\":true,\"mirrors-heat\":true,\"hatch\":true,\"leather\":true,\"abs\":true,\"front-seats-heat\":true,\"wheel-configuration2\":true,\"wheel-configuration1\":true,\"immo\":true,\"climate-control-1\":true,\"music-super\":true}     21\n",
      "{\"hatch\":true}                                                                                                                                                                                                                                                                                                                                                                                                                                                                                                                                              20\n",
      "{\"combo-interior\":true}                                                                                                                                                                                                                                                                                                                                                                                                                                                                                                                                     15\n",
      "{\"lock\":true}                                                                                                                                                                                                                                                                                                                                                                                                                                                                                                                                               15\n",
      "{\"roof-rails\":true,\"12v-socket\":true}                                                                                                                                                                                                                                                                                                                                                                                                                                                                                                                       13\n",
      "{\"front-seats-heat\":true,\"wheel-power\":true,\"lock\":true,\"fabric-seats\":true}                                                                                                                                                                                                                                                                                                                                                                                                                                                                                10\n",
      "Name: equipment_dict, dtype: int64 \n",
      "\n",
      "name of column: fuelType \n",
      " бензин     28601\n",
      "дизель      5800\n",
      "гибрид       223\n",
      "электро       55\n",
      "газ            7\n",
      "Name: fuelType, dtype: int64 \n",
      "\n",
      "name of column: image \n",
      " https://avatars.mds.yandex.net/get-verba/216201/2a000001609d0005e0912c12a896bbda4ab1/wizardv3mr     13\n",
      "https://avatars.mds.yandex.net/get-verba/216201/2a000001609bda17487cc63d8b957ab4aab2/wizardv3mr      9\n",
      "https://avatars.mds.yandex.net/get-verba/1030388/2a000001609cf6746b94cf8334836265daaf/wizardv3mr     8\n",
      "https://avatars.mds.yandex.net/get-verba/787013/2a000001609d6c09eb305345ee1ea7e7bd15/wizardv3mr      8\n",
      "https://avatars.mds.yandex.net/get-verba/216201/2a0000016099a4e6be992d7b50134fd908fd/wizardv3mr      7\n",
      "https://avatars.mds.yandex.net/get-verba/787013/2a000001609ceeb68cbe6dd25fd2629211da/wizardv3mr      7\n",
      "https://avatars.mds.yandex.net/get-verba/787013/2a000001609cede7421917dd59a68febc233/wizardv3mr      6\n",
      "https://avatars.mds.yandex.net/get-verba/216201/2a000001653292c06cd270c1322d76c234b4/wizardv3mr      6\n",
      "https://avatars.mds.yandex.net/get-verba/216201/2a0000016098487a9e1ff58d5ae35f3de345/wizardv3mr      5\n",
      "https://avatars.mds.yandex.net/get-verba/1030388/2a000001609cfc60def41f8f2e5fd67b9559/wizardv3mr     5\n",
      "Name: image, dtype: int64 \n",
      "\n",
      "name of column: mileage \n",
      " 200000    436\n",
      "150000    382\n",
      "300000    381\n",
      "180000    347\n",
      "250000    346\n",
      "160000    343\n",
      "170000    297\n",
      "140000    259\n",
      "130000    256\n",
      "190000    252\n",
      "Name: mileage, dtype: int64 \n",
      "\n",
      "name of column: modelDate \n",
      " 2010    2503\n",
      "2013    2275\n",
      "2008    2243\n",
      "2011    2173\n",
      "2006    2169\n",
      "2009    2098\n",
      "2012    2047\n",
      "2014    1918\n",
      "2005    1805\n",
      "2007    1733\n",
      "Name: modelDate, dtype: int64 \n",
      "\n",
      "name of column: model_info \n",
      " {\"code\":\"OCTAVIA\",\"name\":\"Octavia\",\"ru_name\":\"Октавия\",\"morphology\":{\"gender\":\"FEMININE\"},\"nameplate\":{\"code\":\"\",\"name\":\"\",\"semantic_url\":\"\"}}    1404\n",
      "{\"code\":\"LANCER\",\"name\":\"Lancer\",\"ru_name\":\"Лансер\",\"morphology\":{},\"nameplate\":{\"code\":\"\",\"name\":\"\",\"semantic_url\":\"\"}}                           843\n",
      "{\"code\":\"PASSAT\",\"name\":\"Passat\",\"ru_name\":\"Пассат\",\"morphology\":{},\"nameplate\":{\"code\":\"\",\"name\":\"\",\"semantic_url\":\"\"}}                           776\n",
      "{\"code\":\"A6\",\"name\":\"A6\",\"ru_name\":\"А6\",\"morphology\":{},\"nameplate\":{\"code\":\"\",\"name\":\"\",\"semantic_url\":\"\"}}                                       757\n",
      "{\"code\":\"POLO\",\"name\":\"Polo\",\"ru_name\":\"Поло\",\"morphology\":{},\"nameplate\":{\"code\":\"\",\"name\":\"\",\"semantic_url\":\"\"}}                                 724\n",
      "{\"code\":\"CAMRY\",\"name\":\"Camry\",\"ru_name\":\"Камри\",\"morphology\":{\"gender\":\"FEMININE\"},\"nameplate\":{\"code\":\"\",\"name\":\"\",\"semantic_url\":\"\"}}           706\n",
      "{\"code\":\"X_TRAIL\",\"name\":\"X-Trail\",\"ru_name\":\"X-трейл\",\"morphology\":{},\"nameplate\":{\"code\":\"\",\"name\":\"\",\"semantic_url\":\"\"}}                        654\n",
      "{\"code\":\"A4\",\"name\":\"A4\",\"ru_name\":\"А4\",\"morphology\":{},\"nameplate\":{\"code\":\"\",\"name\":\"\",\"semantic_url\":\"\"}}                                       626\n",
      "{\"code\":\"QASHQAI\",\"name\":\"Qashqai\",\"ru_name\":\"Кашкай\",\"morphology\":{},\"nameplate\":{\"code\":\"\",\"name\":\"\",\"semantic_url\":\"\"}}                         609\n",
      "{\"code\":\"OUTLANDER\",\"name\":\"Outlander\",\"ru_name\":\"Аутлендер\",\"morphology\":{},\"nameplate\":{\"code\":\"\",\"name\":\"\",\"semantic_url\":\"\"}}                  544\n",
      "Name: model_info, dtype: int64 \n",
      "\n",
      "name of column: model_name \n",
      " OCTAVIA     1418\n",
      "5ER         1026\n",
      "LANCER       855\n",
      "E_KLASSE     809\n",
      "PASSAT       782\n",
      "A6           757\n",
      "3ER          752\n",
      "POLO         724\n",
      "CAMRY        709\n",
      "X5           675\n",
      "Name: model_name, dtype: int64 \n",
      "\n",
      "name of column: name \n",
      " 1.6 AT (110 л.с.)         631\n",
      "1.6 MT (102 л.с.)         410\n",
      "1.6 MT (110 л.с.)         314\n",
      "2.0 CVT (141 л.с.) 4WD    309\n",
      "1.4 AMT (122 л.с.)        308\n",
      "1.4 AMT (150 л.с.)        299\n",
      "1.6 MT (105 л.с.)         293\n",
      "1.8 AMT (152 л.с.)        278\n",
      "2.5 AT (181 л.с.)         278\n",
      "1.6 MT (98 л.с.)          265\n",
      "Name: name, dtype: int64 \n",
      "\n",
      "name of column: numberOfDoors \n",
      " 5    18703\n",
      "4    14126\n",
      "2     1206\n",
      "3      650\n",
      "0        1\n",
      "Name: numberOfDoors, dtype: int64 \n",
      "\n",
      "name of column: parsing_unixtime \n",
      " 1603602433    1\n",
      "1603252415    1\n",
      "1603250816    1\n",
      "1603617405    1\n",
      "1603236475    1\n",
      "1603566202    1\n",
      "1603299960    1\n",
      "1603279478    1\n",
      "1603601013    1\n",
      "1603285619    1\n",
      "Name: parsing_unixtime, dtype: int64 \n",
      "\n",
      "name of column: priceCurrency \n",
      " RUB    34686\n",
      "Name: priceCurrency, dtype: int64 \n",
      "\n",
      "name of column: productionDate \n",
      " 2012    2798\n",
      "2008    2606\n",
      "2011    2589\n",
      "2013    2488\n",
      "2014    2134\n",
      "2007    1964\n",
      "2010    1826\n",
      "2015    1770\n",
      "2017    1667\n",
      "2016    1615\n",
      "Name: productionDate, dtype: int64 \n",
      "\n",
      "name of column: sell_id \n",
      " 1092026368    1\n",
      "1101243105    1\n",
      "1101251456    1\n",
      "1100827388    1\n",
      "1101209406    1\n",
      "1101137980    1\n",
      "1101208310    1\n",
      "1100679924    1\n",
      "1098660594    1\n",
      "1094282168    1\n",
      "Name: sell_id, dtype: int64 \n",
      "\n",
      "name of column: super_gen \n",
      " {\"id\":\"6214876\",\"displacement\":1598,\"engine_type\":\"GASOLINE\",\"gear_type\":\"FORWARD_CONTROL\",\"transmission\":\"MECHANICAL\",\"power\":105,\"power_kvt\":77,\"human_name\":\"1.6 MT (105 л.с.)\",\"acceleration\":10.5,\"clearance_min\":170,\"fuel_rate\":6.5}        193\n",
      "{\"id\":\"20726520\",\"displacement\":1598,\"engine_type\":\"GASOLINE\",\"gear_type\":\"FORWARD_CONTROL\",\"transmission\":\"AUTOMATIC\",\"power\":110,\"power_kvt\":81,\"human_name\":\"1.6 AT (110 л.с.)\",\"acceleration\":11.7,\"clearance_min\":163,\"fuel_rate\":5.9}        159\n",
      "{\"id\":\"4561004\",\"displacement\":1798,\"engine_type\":\"GASOLINE\",\"gear_type\":\"FORWARD_CONTROL\",\"transmission\":\"AUTOMATIC\",\"power\":152,\"power_kvt\":112,\"human_name\":\"1.8 AT (152 л.с.)\",\"acceleration\":8.8,\"clearance_min\":164,\"fuel_rate\":7.7}         148\n",
      "{\"id\":\"7277667\",\"displacement\":1598,\"engine_type\":\"GASOLINE\",\"gear_type\":\"FORWARD_CONTROL\",\"transmission\":\"VARIATOR\",\"power\":117,\"power_kvt\":86,\"human_name\":\"1.6 CVT (117 л.с.)\",\"acceleration\":11.5,\"clearance_min\":180,\"fuel_rate\":6.3}         139\n",
      "{\"id\":\"2404949\",\"displacement\":1596,\"engine_type\":\"GASOLINE\",\"gear_type\":\"FORWARD_CONTROL\",\"transmission\":\"MECHANICAL\",\"power\":107,\"power_kvt\":79,\"human_name\":\"1.6 MT (107 л.с.)\",\"acceleration\":12.1,\"clearance_min\":165,\"fuel_rate\":6.8}        131\n",
      "{\"id\":\"9279339\",\"displacement\":1598,\"engine_type\":\"GASOLINE\",\"gear_type\":\"FORWARD_CONTROL\",\"transmission\":\"MECHANICAL\",\"power\":102,\"power_kvt\":75,\"human_name\":\"1.6 MT (102 л.с.)\",\"acceleration\":10.9,\"clearance_min\":160,\"fuel_rate\":7.2}        120\n",
      "{\"id\":\"6214877\",\"displacement\":1598,\"engine_type\":\"GASOLINE\",\"gear_type\":\"FORWARD_CONTROL\",\"transmission\":\"AUTOMATIC\",\"power\":105,\"power_kvt\":77,\"human_name\":\"1.6 AT (105 л.с.)\",\"acceleration\":12.1,\"clearance_min\":170,\"fuel_rate\":7}           119\n",
      "{\"id\":\"7024189\",\"displacement\":1997,\"engine_type\":\"GASOLINE\",\"gear_type\":\"ALL_WHEEL_DRIVE\",\"transmission\":\"VARIATOR\",\"power\":141,\"power_kvt\":104,\"human_name\":\"2.0 CVT (141 л.с.) 4WD\",\"acceleration\":11.9,\"clearance_min\":210,\"fuel_rate\":8.5}    116\n",
      "{\"id\":\"20494479\",\"displacement\":1584,\"engine_type\":\"GASOLINE\",\"gear_type\":\"FORWARD_CONTROL\",\"transmission\":\"MECHANICAL\",\"power\":98,\"power_kvt\":72,\"human_name\":\"1.6 MT (98 л.с.)\",\"acceleration\":11.8,\"clearance_min\":165,\"fuel_rate\":6.7}         115\n",
      "{\"id\":\"7150232\",\"displacement\":1798,\"engine_type\":\"GASOLINE\",\"gear_type\":\"FORWARD_CONTROL\",\"transmission\":\"ROBOT\",\"power\":152,\"power_kvt\":112,\"human_name\":\"1.8 AMT (152 л.с.)\",\"acceleration\":8.8,\"clearance_min\":155,\"fuel_rate\":7.1}            112\n",
      "Name: super_gen, dtype: int64 \n",
      "\n",
      "name of column: vehicleConfiguration \n",
      " ALLROAD_5_DOORS AUTOMATIC 3.0    2389\n",
      "SEDAN AUTOMATIC 2.0              1610\n",
      "ALLROAD_5_DOORS AUTOMATIC 2.0    1327\n",
      "ALLROAD_5_DOORS VARIATOR 2.0     1323\n",
      "SEDAN MECHANICAL 1.6             1314\n",
      "SEDAN AUTOMATIC 1.6              1037\n",
      "SEDAN AUTOMATIC 2.5               937\n",
      "SEDAN AUTOMATIC 3.0               927\n",
      "ALLROAD_5_DOORS AUTOMATIC 3.5     678\n",
      "SEDAN AUTOMATIC 2.4               669\n",
      "Name: vehicleConfiguration, dtype: int64 \n",
      "\n",
      "name of column: vehicleTransmission \n",
      " автоматическая      19596\n",
      "механическая         7209\n",
      "вариатор             3999\n",
      "роботизированная     3882\n",
      "Name: vehicleTransmission, dtype: int64 \n",
      "\n",
      "name of column: vendor \n",
      " EUROPEAN    20682\n",
      "JAPANESE    14004\n",
      "Name: vendor, dtype: int64 \n",
      "\n",
      "name of column: Владельцы \n",
      " 3 или более    15957\n",
      "1 владелец      9459\n",
      "2 владельца     9270\n",
      "Name: Владельцы, dtype: int64 \n",
      "\n",
      "name of column: Владение \n",
      " 1 год и 10 месяцев    209\n",
      "2 года                197\n",
      "1 год                 194\n",
      "1 год и 1 месяц       193\n",
      "1 год и 2 месяца      187\n",
      "2 года и 1 месяц      182\n",
      "1 год и 11 месяцев    179\n",
      "1 год и 6 месяцев     171\n",
      "1 год и 4 месяца      169\n",
      "2 года и 4 месяца     168\n",
      "Name: Владение, dtype: int64 \n",
      "\n",
      "name of column: ПТС \n",
      " Оригинал    30098\n",
      "Дубликат     4587\n",
      "Name: ПТС, dtype: int64 \n",
      "\n",
      "name of column: Привод \n",
      " передний    15565\n",
      "полный      15020\n",
      "задний       4101\n",
      "Name: Привод, dtype: int64 \n",
      "\n",
      "name of column: Руль \n",
      " Левый     33287\n",
      "Правый     1399\n",
      "Name: Руль, dtype: int64 \n",
      "\n",
      "name of column: Состояние \n",
      " Не требует ремонта    34686\n",
      "Name: Состояние, dtype: int64 \n",
      "\n",
      "name of column: Таможня \n",
      " Растаможен    34686\n",
      "Name: Таможня, dtype: int64 \n",
      "\n"
     ]
    }
   ],
   "source": [
    "for col in data_test.columns:\n",
    "    if col != 'complectation_dict':\n",
    "        print(f'name of column: {col}','\\n', data_test[col].value_counts()[:10], '\\n')"
   ]
  },
  {
   "cell_type": "markdown",
   "metadata": {},
   "source": [
    "Для подготовки к парсингу создадим словарь brand_dict, где ключи - марки автомобилей, а значения - их кол-ва в test:"
   ]
  },
  {
   "cell_type": "code",
   "execution_count": 364,
   "metadata": {},
   "outputs": [
    {
     "data": {
      "text/plain": [
       "{'BMW': 4473,\n",
       " 'VOLKSWAGEN': 4404,\n",
       " 'NISSAN': 4393,\n",
       " 'MERCEDES': 4180,\n",
       " 'TOYOTA': 3913,\n",
       " 'AUDI': 3421,\n",
       " 'MITSUBISHI': 2843,\n",
       " 'SKODA': 2741,\n",
       " 'VOLVO': 1463,\n",
       " 'HONDA': 1150,\n",
       " 'INFINITI': 871,\n",
       " 'LEXUS': 834}"
      ]
     },
     "execution_count": 364,
     "metadata": {},
     "output_type": "execute_result"
    }
   ],
   "source": [
    "brands = data_test.brand.value_counts()\n",
    "brand_dict = {brands.index[i]: brands[i] for i in range(len(brands))}\n",
    "brand_dict"
   ]
  },
  {
   "cell_type": "code",
   "execution_count": 13,
   "metadata": {},
   "outputs": [],
   "source": [
    "brands = list(brand_dict.keys())"
   ]
  },
  {
   "cell_type": "markdown",
   "metadata": {},
   "source": [
    "# Парсинг данных для тренировочного датасета:  \n",
    " Возьмем только бренды, которые представлены в тестовом датасете"
   ]
  },
  {
   "cell_type": "code",
   "execution_count": 14,
   "metadata": {},
   "outputs": [
    {
     "data": {
      "text/plain": [
       "'cars_urls = {}\\nurl = \\'https://auto.ru/cars/\\'\\nheader = {\\'user-agent\\': \\'Mozilla/5.0 (Macintosh; Intel Mac OS X 10.9; rv:32.0) Gecko/20100101 Firefox/32.0\\',}\\nfor car_brand in brands:\\n    brand_url = url + car_brand + \\'/used/?page=\\'\\n    cars_urls[car_brand] = []\\n    print(car_brand)\\n    for number in range(1, 100):\\n        response = requests.get(brand_url+str(number), headers=header)\\n        page = BeautifulSoup(response.text, \\'html.parser\\')\\n        link_list = page.find_all(\\'a\\', class_=\\'Link ListingItemTitle__link\\')\\n        if len(link_list) !=0:\\n            for link in link_list:\\n                cars_urls[car_brand].append(link[\\'href\\'])\\n        else:\\n            break\\nwith open(\\'data.json\\', \\'w\\') as fp:\\n    json.dump(cars_urls, fp)\\n    \\nbrands = []\\ncars_urls = []\\n\\nfor brand in data.keys():\\n    for url in data[brand]:\\n        brands.append(brand)\\n        cars_urls.append(url)\\n\\ncounter = 0\\nfinal_dict={}\\nfinal_dict[\\'car\\'] = []\\n\\nfor url in cars_urls:\\n    url_dict = {}\\n    response = requests.get(url, headers={\\'User-Agent\\': \\'Mozilla/5.0\\'})\\n    response.encoding = \\'utf-8\\'\\n    page = BeautifulSoup(response.text, \\'html.parser\\')\\n    if \\'Этот автомобиль уже продан\\' in page.text:\\n        continue\\n    else:\\n        try:\\n            first_dict = ast.literal_eval(str(page.find_all(\\'script\\', attrs = {\\'type\\':\\'application/ld+json\\'})[0])[35:-9])\\n        except IndexError:\\n            continue\\n        url2 = ast.literal_eval(str(page.find_all(\\'script\\', attrs = {\\'type\\':\\'application/ld+json\\'})[0])[35:-9])[\\'offers\\'][\\'url\\']\\n        if url != url2:\\n            continue\\n        else:\\n            try:\\n                url_dict[\\'bodyType\\'] = first_dict[\\'bodyType\\']\\n                url_dict[\\'brand\\'] = first_dict[\\'brand\\']\\n                url_dict[\\'car_url\\'] = url\\n                url_dict[\\'color\\'] = first_dict[\\'color\\']\\n                url_dict[\\'description\\'] = first_dict[\\'description\\']\\n                url_dict[\\'engineDisplacement\\'] = first_dict[\\'vehicleEngine\\'][\\'engineDisplacement\\']\\n                url_dict[\\'enginePower\\'] = first_dict[\\'vehicleEngine\\'][\\'enginePower\\']\\n                url_dict[\\'fuelType\\'] = first_dict[\\'vehicleEngine\\'][\\'fuelType\\']\\n                url_dict[\\'mileage\\'] = int(page.find(\\'li\\', class_ = \\'CardInfoRow CardInfoRow_kmAge\\').find_all(\\'span\\', class_=\\'CardInfoRow__cell\\')[1].text.replace(u\\'\\xa0\\', u\\' \\')[:-3].replace(\\' \\', \\'\\'))\\n                url_dict[\\'modelDate\\'] = first_dict[\\'modelDate\\']\\n                url_dict[\\'model_name\\'] = str(page.find(\\'script\\', attrs = {\\'type\\':\\'application/json\\', \\'id\\':\\'initial-state\\'})).partition(\\'\"model_info\":{\"code\":\"\\')[2].partition(\\'\",\"name\":\"\\')[0]\\n                url_dict[\\'name\\'] = str(page.find(\\'script\\', attrs = {\\'type\\':\\'application/json\\', \\'id\\':\\'initial-state\\'})).partition(\\'\"tech_param\":\\')[2].partition(\\'\"human_name\":\"\\')[2].partition(\\')\\')[0]+\\')\\'\\n                url_dict[\\'numberOfDoors\\'] = first_dict[\\'numberOfDoors\\']\\n                url_dict[\\'productionDate\\'] = first_dict[\\'productionDate\\']\\n                url_dict[\\'numberOfDoors\\'] = first_dict[\\'numberOfDoors\\']\\n                url_dict[\\'vehicleConfiguration\\'] = first_dict[\\'vehicleConfiguration\\']\\n                url_dict[\\'vehicleTransmission\\'] = first_dict[\\'vehicleTransmission\\']\\n                url_dict[\\'Владельцы\\'] = page.find(\\'li\\', class_ = \\'CardInfoRow CardInfoRow_ownersCount\\').find_all(\\'span\\', class_=\\'CardInfoRow__cell\\')[1].text.replace(u\\'\\xa0\\', u\\' \\')\\n                url_dict[\\'ПТС\\'] = page.find(\\'li\\', class_ = \\'CardInfoRow CardInfoRow_pts\\').find_all(\\'span\\', class_=\\'CardInfoRow__cell\\')[1].text\\n                url_dict[\\'Привод\\'] = page.find(\\'li\\', class_ = \\'CardInfoRow CardInfoRow_drive\\').find_all(\\'span\\', class_=\\'CardInfoRow__cell\\')[1].text\\n                url_dict[\\'Руль\\'] = page.find(\\'li\\', class_ = \\'CardInfoRow CardInfoRow_wheel\\').find_all(\\'span\\', class_=\\'CardInfoRow__cell\\')[1].text\\n                complectation = []\\n                for i in page.find_all(\\'li\\', class_=\\'ComplectationGroups__itemContentEl\\'):\\n                    complectation.append(i.text)\\n                url_dict[\\'complectation\\'] = complectation\\n                super_gen = page.find(\\'a\\', class_=\\'Link SpoilerLink CardCatalogLink SpoilerLink_type_default\\')[\\'href\\']\\n                response_1 = requests.get(super_gen, headers={\\'User-Agent\\': \\'Mozilla/5.0\\'})\\n                response_1.encoding = \\'utf-8\\'\\n                page_1 = BeautifulSoup(response_1.text, \\'html.parser\\')\\n                for i in page_1.find_all(\\'dd\\', class_=\\'list-values__value\\'):\\n                    if \\' с\\' in i.text:\\n                        url_dict[\\'acceleration\\'] = i.text[:-2]\\n                url_dict.setdefault(\\'acceleration\\', np.nan)\\n                ls = []\\n                for i in page_1.find_all(\\'dd\\', class_=\\'list-values__value\\'):\\n                    if \\' л\\' in i.text:\\n                        ls.append(i.text)\\n                    if len(ls) == 3:\\n                        url_dict[\\'fuel_rate\\'] = ls[2][:-2]\\n                url_dict.setdefault(\\'fuel_rate\\', np.nan)\\n                url_dict[\\'Price\\'] = int(page.find(\\'span\\', class_ = \\'OfferPriceCaption__price\\').text.replace(u\\'\\xa0\\', u\\' \\')[:-2].replace(\\' \\', \\'\\'))\\n                final_dict[\\'car\\'].append(url_dict)\\n                counter+=1\\n                if counter%100 == 0:\\n                    print(counter)\\n            except (KeyError, ValueError, AttributeError) as e:\\n                continue\\nprint(\\'end\\')\\n'"
      ]
     },
     "execution_count": 14,
     "metadata": {},
     "output_type": "execute_result"
    }
   ],
   "source": [
    "'''cars_urls = {}\n",
    "url = 'https://auto.ru/cars/'\n",
    "header = {'user-agent': 'Mozilla/5.0 (Macintosh; Intel Mac OS X 10.9; rv:32.0) Gecko/20100101 Firefox/32.0',}\n",
    "for car_brand in brands:\n",
    "    brand_url = url + car_brand + '/used/?page='\n",
    "    cars_urls[car_brand] = []\n",
    "    print(car_brand)\n",
    "    for number in range(1, 100):\n",
    "        response = requests.get(brand_url+str(number), headers=header)\n",
    "        page = BeautifulSoup(response.text, 'html.parser')\n",
    "        link_list = page.find_all('a', class_='Link ListingItemTitle__link')\n",
    "        if len(link_list) !=0:\n",
    "            for link in link_list:\n",
    "                cars_urls[car_brand].append(link['href'])\n",
    "        else:\n",
    "            break\n",
    "with open('data.json', 'w') as fp:\n",
    "    json.dump(cars_urls, fp)\n",
    "    \n",
    "brands = []\n",
    "cars_urls = []\n",
    "\n",
    "for brand in data.keys():\n",
    "    for url in data[brand]:\n",
    "        brands.append(brand)\n",
    "        cars_urls.append(url)\n",
    "\n",
    "counter = 0\n",
    "final_dict={}\n",
    "final_dict['car'] = []\n",
    "\n",
    "for url in cars_urls:\n",
    "    url_dict = {}\n",
    "    response = requests.get(url, headers={'User-Agent': 'Mozilla/5.0'})\n",
    "    response.encoding = 'utf-8'\n",
    "    page = BeautifulSoup(response.text, 'html.parser')\n",
    "    if 'Этот автомобиль уже продан' in page.text:\n",
    "        continue\n",
    "    else:\n",
    "        try:\n",
    "            first_dict = ast.literal_eval(str(page.find_all('script', attrs = {'type':'application/ld+json'})[0])[35:-9])\n",
    "        except IndexError:\n",
    "            continue\n",
    "        url2 = ast.literal_eval(str(page.find_all('script', attrs = {'type':'application/ld+json'})[0])[35:-9])['offers']['url']\n",
    "        if url != url2:\n",
    "            continue\n",
    "        else:\n",
    "            try:\n",
    "                url_dict['bodyType'] = first_dict['bodyType']\n",
    "                url_dict['brand'] = first_dict['brand']\n",
    "                url_dict['car_url'] = url\n",
    "                url_dict['color'] = first_dict['color']\n",
    "                url_dict['description'] = first_dict['description']\n",
    "                url_dict['engineDisplacement'] = first_dict['vehicleEngine']['engineDisplacement']\n",
    "                url_dict['enginePower'] = first_dict['vehicleEngine']['enginePower']\n",
    "                url_dict['fuelType'] = first_dict['vehicleEngine']['fuelType']\n",
    "                url_dict['mileage'] = int(page.find('li', class_ = 'CardInfoRow CardInfoRow_kmAge').find_all('span', class_='CardInfoRow__cell')[1].text.replace(u'\\xa0', u' ')[:-3].replace(' ', ''))\n",
    "                url_dict['modelDate'] = first_dict['modelDate']\n",
    "                url_dict['model_name'] = str(page.find('script', attrs = {'type':'application/json', 'id':'initial-state'})).partition('\"model_info\":{\"code\":\"')[2].partition('\",\"name\":\"')[0]\n",
    "                url_dict['name'] = str(page.find('script', attrs = {'type':'application/json', 'id':'initial-state'})).partition('\"tech_param\":')[2].partition('\"human_name\":\"')[2].partition(')')[0]+')'\n",
    "                url_dict['numberOfDoors'] = first_dict['numberOfDoors']\n",
    "                url_dict['productionDate'] = first_dict['productionDate']\n",
    "                url_dict['numberOfDoors'] = first_dict['numberOfDoors']\n",
    "                url_dict['vehicleConfiguration'] = first_dict['vehicleConfiguration']\n",
    "                url_dict['vehicleTransmission'] = first_dict['vehicleTransmission']\n",
    "                url_dict['Владельцы'] = page.find('li', class_ = 'CardInfoRow CardInfoRow_ownersCount').find_all('span', class_='CardInfoRow__cell')[1].text.replace(u'\\xa0', u' ')\n",
    "                url_dict['ПТС'] = page.find('li', class_ = 'CardInfoRow CardInfoRow_pts').find_all('span', class_='CardInfoRow__cell')[1].text\n",
    "                url_dict['Привод'] = page.find('li', class_ = 'CardInfoRow CardInfoRow_drive').find_all('span', class_='CardInfoRow__cell')[1].text\n",
    "                url_dict['Руль'] = page.find('li', class_ = 'CardInfoRow CardInfoRow_wheel').find_all('span', class_='CardInfoRow__cell')[1].text\n",
    "                complectation = []\n",
    "                for i in page.find_all('li', class_='ComplectationGroups__itemContentEl'):\n",
    "                    complectation.append(i.text)\n",
    "                url_dict['complectation'] = complectation\n",
    "                super_gen = page.find('a', class_='Link SpoilerLink CardCatalogLink SpoilerLink_type_default')['href']\n",
    "                response_1 = requests.get(super_gen, headers={'User-Agent': 'Mozilla/5.0'})\n",
    "                response_1.encoding = 'utf-8'\n",
    "                page_1 = BeautifulSoup(response_1.text, 'html.parser')\n",
    "                for i in page_1.find_all('dd', class_='list-values__value'):\n",
    "                    if ' с' in i.text:\n",
    "                        url_dict['acceleration'] = i.text[:-2]\n",
    "                url_dict.setdefault('acceleration', np.nan)\n",
    "                ls = []\n",
    "                for i in page_1.find_all('dd', class_='list-values__value'):\n",
    "                    if ' л' in i.text:\n",
    "                        ls.append(i.text)\n",
    "                    if len(ls) == 3:\n",
    "                        url_dict['fuel_rate'] = ls[2][:-2]\n",
    "                url_dict.setdefault('fuel_rate', np.nan)\n",
    "                url_dict['Price'] = int(page.find('span', class_ = 'OfferPriceCaption__price').text.replace(u'\\xa0', u' ')[:-2].replace(' ', ''))\n",
    "                final_dict['car'].append(url_dict)\n",
    "                counter+=1\n",
    "                if counter%100 == 0:\n",
    "                    print(counter)\n",
    "            except (KeyError, ValueError, AttributeError) as e:\n",
    "                continue\n",
    "print('end')\n",
    "'''"
   ]
  },
  {
   "cell_type": "code",
   "execution_count": 631,
   "metadata": {},
   "outputs": [
    {
     "name": "stderr",
     "output_type": "stream",
     "text": [
      "C:\\Users\\babaina_mv\\Anaconda3\\lib\\site-packages\\IPython\\core\\interactiveshell.py:3165: DtypeWarning: Columns (27,36) have mixed types.Specify dtype option on import or set low_memory=False.\n",
      "  has_raised = await self.run_ast_nodes(code_ast.body, cell_name,\n"
     ]
    }
   ],
   "source": [
    "#загрузим датасет\n",
    "data_train = pd.read_csv('data/train.csv')"
   ]
  },
  {
   "cell_type": "markdown",
   "metadata": {},
   "source": [
    "# Предобработка данных."
   ]
  },
  {
   "cell_type": "code",
   "execution_count": 632,
   "metadata": {},
   "outputs": [
    {
     "data": {
      "text/plain": [
       "(125116, 37)"
      ]
     },
     "execution_count": 632,
     "metadata": {},
     "output_type": "execute_result"
    }
   ],
   "source": [
    "data_train.shape"
   ]
  },
  {
   "cell_type": "code",
   "execution_count": 633,
   "metadata": {},
   "outputs": [
    {
     "data": {
      "text/plain": [
       "87105"
      ]
     },
     "execution_count": 633,
     "metadata": {},
     "output_type": "execute_result"
    }
   ],
   "source": [
    "#Удалим дубликаты и пустые строки из тренировочных данных\n",
    "data_train = data_train.drop_duplicates(subset=['sell_id'])\n",
    "data_train = data_train.dropna(how='all')\n",
    "len(data_train)"
   ]
  },
  {
   "cell_type": "code",
   "execution_count": 634,
   "metadata": {},
   "outputs": [],
   "source": [
    "#приведем test & train к единообразному виду\n",
    "#сначала сравниваем наличие тех или иных колонок в двух датасетах\n",
    "in_test = []\n",
    "not_in_test = []\n",
    "\n",
    "for column in data_train.columns:\n",
    "    if column in data_test.columns:\n",
    "        in_test.append(column)\n",
    "    else:\n",
    "        not_in_test.append(column)"
   ]
  },
  {
   "cell_type": "code",
   "execution_count": 635,
   "metadata": {},
   "outputs": [
    {
     "data": {
      "text/plain": [
       "['Unnamed: 0',\n",
       " 'datetime',\n",
       " 'card',\n",
       " 'region',\n",
       " 'sellerName',\n",
       " 'price',\n",
       " 'engine',\n",
       " 'public_date',\n",
       " 'nview',\n",
       " 'model_name_full',\n",
       " 'confDict',\n",
       " 'card_type',\n",
       " 'model_name2',\n",
       " 'dealerName']"
      ]
     },
     "execution_count": 635,
     "metadata": {},
     "output_type": "execute_result"
    }
   ],
   "source": [
    "#Посмотрим на колонки data_train, отсутствующие в data_test\n",
    "not_in_test"
   ]
  },
  {
   "cell_type": "code",
   "execution_count": 636,
   "metadata": {},
   "outputs": [],
   "source": [
    "#Удалим из data_train колонки, отсутствующие в data_test, кроме price\n",
    "columns_drop = not_in_test[:5] + not_in_test[6:]"
   ]
  },
  {
   "cell_type": "code",
   "execution_count": 637,
   "metadata": {},
   "outputs": [
    {
     "data": {
      "text/html": [
       "<div>\n",
       "<style scoped>\n",
       "    .dataframe tbody tr th:only-of-type {\n",
       "        vertical-align: middle;\n",
       "    }\n",
       "\n",
       "    .dataframe tbody tr th {\n",
       "        vertical-align: top;\n",
       "    }\n",
       "\n",
       "    .dataframe thead th {\n",
       "        text-align: right;\n",
       "    }\n",
       "</style>\n",
       "<table border=\"1\" class=\"dataframe\">\n",
       "  <thead>\n",
       "    <tr style=\"text-align: right;\">\n",
       "      <th></th>\n",
       "      <th>parsing_unixtime</th>\n",
       "      <th>sell_id</th>\n",
       "      <th>car_url</th>\n",
       "      <th>price</th>\n",
       "      <th>description</th>\n",
       "      <th>image</th>\n",
       "      <th>bodyType</th>\n",
       "      <th>color</th>\n",
       "      <th>engineDisplacement</th>\n",
       "      <th>enginePower</th>\n",
       "      <th>...</th>\n",
       "      <th>Владельцы</th>\n",
       "      <th>ПТС</th>\n",
       "      <th>Привод</th>\n",
       "      <th>Руль</th>\n",
       "      <th>Состояние</th>\n",
       "      <th>Таможня</th>\n",
       "      <th>equipment_dict</th>\n",
       "      <th>brand</th>\n",
       "      <th>model_name</th>\n",
       "      <th>name</th>\n",
       "    </tr>\n",
       "  </thead>\n",
       "  <tbody>\n",
       "    <tr>\n",
       "      <th>0</th>\n",
       "      <td>1.618530e+09</td>\n",
       "      <td>№ 1099731144</td>\n",
       "      <td>https://auto.ru/cars/used/sale/honda/mobilio/1...</td>\n",
       "      <td>280 000 ₽</td>\n",
       "      <td>Все интересующие вопросы по телефону, дефекты ...</td>\n",
       "      <td>https://avatars.mds.yandex.net/get-verba/78701...</td>\n",
       "      <td>компактвэн</td>\n",
       "      <td>серый</td>\n",
       "      <td>1.5 л</td>\n",
       "      <td>110 л.с.</td>\n",
       "      <td>...</td>\n",
       "      <td>3 или более</td>\n",
       "      <td>Оригинал</td>\n",
       "      <td>передний</td>\n",
       "      <td>Правый</td>\n",
       "      <td>Не требует ремонта</td>\n",
       "      <td>Растаможен</td>\n",
       "      <td>{'asciiCat': 'cars', 'category': 'cars', 'engi...</td>\n",
       "      <td>Honda</td>\n",
       "      <td>Mobilio</td>\n",
       "      <td>1.5 CVT (110 л.с.)</td>\n",
       "    </tr>\n",
       "    <tr>\n",
       "      <th>1</th>\n",
       "      <td>1.618530e+09</td>\n",
       "      <td>№ 1098465088</td>\n",
       "      <td>https://auto.ru/cars/used/sale/honda/civic/109...</td>\n",
       "      <td>230 000 ₽</td>\n",
       "      <td>Автомобиль в хорошем состаянии.требуется покра...</td>\n",
       "      <td>https://avatars.mds.yandex.net/get-autoru-vos/...</td>\n",
       "      <td>седан</td>\n",
       "      <td>белый</td>\n",
       "      <td>1.5 л</td>\n",
       "      <td>105 л.с.</td>\n",
       "      <td>...</td>\n",
       "      <td>3 или более</td>\n",
       "      <td>Оригинал</td>\n",
       "      <td>передний</td>\n",
       "      <td>Правый</td>\n",
       "      <td>Не требует ремонта</td>\n",
       "      <td>Растаможен</td>\n",
       "      <td>{'asciiCat': 'cars', 'category': 'cars', 'engi...</td>\n",
       "      <td>Honda</td>\n",
       "      <td>Civic</td>\n",
       "      <td>1.5 AT (105 л.с.)</td>\n",
       "    </tr>\n",
       "    <tr>\n",
       "      <th>2</th>\n",
       "      <td>1.618530e+09</td>\n",
       "      <td>№ 1102645098</td>\n",
       "      <td>https://auto.ru/cars/used/sale/honda/civic/110...</td>\n",
       "      <td>210 000 ₽</td>\n",
       "      <td>Японец стильный мощный молодежный))Авто не нов...</td>\n",
       "      <td>https://avatars.mds.yandex.net/get-autoru-vos/...</td>\n",
       "      <td>седан</td>\n",
       "      <td>серебристый</td>\n",
       "      <td>1.6 л</td>\n",
       "      <td>110 л.с.</td>\n",
       "      <td>...</td>\n",
       "      <td>3 или более</td>\n",
       "      <td>Оригинал</td>\n",
       "      <td>передний</td>\n",
       "      <td>Правый</td>\n",
       "      <td>Не требует ремонта</td>\n",
       "      <td>Растаможен</td>\n",
       "      <td>{'asciiCat': 'cars', 'category': 'cars', 'engi...</td>\n",
       "      <td>Honda</td>\n",
       "      <td>Civic</td>\n",
       "      <td>1.6 AT (110 л.с.)</td>\n",
       "    </tr>\n",
       "    <tr>\n",
       "      <th>3</th>\n",
       "      <td>1.618530e+09</td>\n",
       "      <td>№ 1098794368</td>\n",
       "      <td>https://auto.ru/cars/used/sale/honda/accord/10...</td>\n",
       "      <td>513 000 ₽</td>\n",
       "      <td>Шикарный автомобиль, сел и поехал!!! Обслужива...</td>\n",
       "      <td>https://avatars.mds.yandex.net/get-verba/93714...</td>\n",
       "      <td>седан</td>\n",
       "      <td>белый</td>\n",
       "      <td>2.0 л</td>\n",
       "      <td>155 л.с.</td>\n",
       "      <td>...</td>\n",
       "      <td>1 владелец</td>\n",
       "      <td>Оригинал</td>\n",
       "      <td>передний</td>\n",
       "      <td>Правый</td>\n",
       "      <td>Не требует ремонта</td>\n",
       "      <td>Растаможен</td>\n",
       "      <td>{'asciiCat': 'cars', 'category': 'cars', 'engi...</td>\n",
       "      <td>Honda</td>\n",
       "      <td>Accord</td>\n",
       "      <td>2.0 AT (155 л.с.)</td>\n",
       "    </tr>\n",
       "    <tr>\n",
       "      <th>4</th>\n",
       "      <td>1.618530e+09</td>\n",
       "      <td>№ 1098001866</td>\n",
       "      <td>https://auto.ru/cars/used/sale/honda/fit/10980...</td>\n",
       "      <td>230 000 ₽</td>\n",
       "      <td>Продам автомобиль, хорошее тех. состояние. ПТС...</td>\n",
       "      <td>https://avatars.mds.yandex.net/get-verba/78701...</td>\n",
       "      <td>хэтчбек 5 дв.</td>\n",
       "      <td>белый</td>\n",
       "      <td>1.5 л</td>\n",
       "      <td>110 л.с.</td>\n",
       "      <td>...</td>\n",
       "      <td>3 или более</td>\n",
       "      <td>Оригинал</td>\n",
       "      <td>передний</td>\n",
       "      <td>Правый</td>\n",
       "      <td>Не требует ремонта</td>\n",
       "      <td>Растаможен</td>\n",
       "      <td>{'asciiCat': 'cars', 'category': 'cars', 'engi...</td>\n",
       "      <td>Honda</td>\n",
       "      <td>Fit</td>\n",
       "      <td>1.5 AT (110 л.с.)</td>\n",
       "    </tr>\n",
       "  </tbody>\n",
       "</table>\n",
       "<p>5 rows × 24 columns</p>\n",
       "</div>"
      ],
      "text/plain": [
       "   parsing_unixtime       sell_id  \\\n",
       "0      1.618530e+09  № 1099731144   \n",
       "1      1.618530e+09  № 1098465088   \n",
       "2      1.618530e+09  № 1102645098   \n",
       "3      1.618530e+09  № 1098794368   \n",
       "4      1.618530e+09  № 1098001866   \n",
       "\n",
       "                                             car_url      price  \\\n",
       "0  https://auto.ru/cars/used/sale/honda/mobilio/1...  280 000 ₽   \n",
       "1  https://auto.ru/cars/used/sale/honda/civic/109...  230 000 ₽   \n",
       "2  https://auto.ru/cars/used/sale/honda/civic/110...  210 000 ₽   \n",
       "3  https://auto.ru/cars/used/sale/honda/accord/10...  513 000 ₽   \n",
       "4  https://auto.ru/cars/used/sale/honda/fit/10980...  230 000 ₽   \n",
       "\n",
       "                                         description  \\\n",
       "0  Все интересующие вопросы по телефону, дефекты ...   \n",
       "1  Автомобиль в хорошем состаянии.требуется покра...   \n",
       "2  Японец стильный мощный молодежный))Авто не нов...   \n",
       "3  Шикарный автомобиль, сел и поехал!!! Обслужива...   \n",
       "4  Продам автомобиль, хорошее тех. состояние. ПТС...   \n",
       "\n",
       "                                               image       bodyType  \\\n",
       "0  https://avatars.mds.yandex.net/get-verba/78701...     компактвэн   \n",
       "1  https://avatars.mds.yandex.net/get-autoru-vos/...          седан   \n",
       "2  https://avatars.mds.yandex.net/get-autoru-vos/...          седан   \n",
       "3  https://avatars.mds.yandex.net/get-verba/93714...          седан   \n",
       "4  https://avatars.mds.yandex.net/get-verba/78701...  хэтчбек 5 дв.   \n",
       "\n",
       "         color engineDisplacement enginePower  ...    Владельцы       ПТС  \\\n",
       "0        серый             1.5 л    110 л.с.   ...  3 или более  Оригинал   \n",
       "1        белый             1.5 л    105 л.с.   ...  3 или более  Оригинал   \n",
       "2  серебристый             1.6 л    110 л.с.   ...  3 или более  Оригинал   \n",
       "3        белый             2.0 л    155 л.с.   ...   1 владелец  Оригинал   \n",
       "4        белый             1.5 л    110 л.с.   ...  3 или более  Оригинал   \n",
       "\n",
       "     Привод    Руль           Состояние     Таможня  \\\n",
       "0  передний  Правый  Не требует ремонта  Растаможен   \n",
       "1  передний  Правый  Не требует ремонта  Растаможен   \n",
       "2  передний  Правый  Не требует ремонта  Растаможен   \n",
       "3  передний  Правый  Не требует ремонта  Растаможен   \n",
       "4  передний  Правый  Не требует ремонта  Растаможен   \n",
       "\n",
       "                                      equipment_dict  brand model_name  \\\n",
       "0  {'asciiCat': 'cars', 'category': 'cars', 'engi...  Honda    Mobilio   \n",
       "1  {'asciiCat': 'cars', 'category': 'cars', 'engi...  Honda      Civic   \n",
       "2  {'asciiCat': 'cars', 'category': 'cars', 'engi...  Honda      Civic   \n",
       "3  {'asciiCat': 'cars', 'category': 'cars', 'engi...  Honda     Accord   \n",
       "4  {'asciiCat': 'cars', 'category': 'cars', 'engi...  Honda        Fit   \n",
       "\n",
       "                 name  \n",
       "0  1.5 CVT (110 л.с.)  \n",
       "1   1.5 AT (105 л.с.)  \n",
       "2   1.6 AT (110 л.с.)  \n",
       "3   2.0 AT (155 л.с.)  \n",
       "4   1.5 AT (110 л.с.)  \n",
       "\n",
       "[5 rows x 24 columns]"
      ]
     },
     "execution_count": 637,
     "metadata": {},
     "output_type": "execute_result"
    }
   ],
   "source": [
    "data_train = data_train.drop(columns_drop, axis = 1)\n",
    "data_train.head()"
   ]
  },
  {
   "cell_type": "code",
   "execution_count": 638,
   "metadata": {},
   "outputs": [
    {
     "data": {
      "text/html": [
       "<div>\n",
       "<style scoped>\n",
       "    .dataframe tbody tr th:only-of-type {\n",
       "        vertical-align: middle;\n",
       "    }\n",
       "\n",
       "    .dataframe tbody tr th {\n",
       "        vertical-align: top;\n",
       "    }\n",
       "\n",
       "    .dataframe thead th {\n",
       "        text-align: right;\n",
       "    }\n",
       "</style>\n",
       "<table border=\"1\" class=\"dataframe\">\n",
       "  <thead>\n",
       "    <tr style=\"text-align: right;\">\n",
       "      <th></th>\n",
       "      <th>parsing_unixtime</th>\n",
       "      <th>sell_id</th>\n",
       "      <th>car_url</th>\n",
       "      <th>description</th>\n",
       "      <th>image</th>\n",
       "      <th>bodyType</th>\n",
       "      <th>color</th>\n",
       "      <th>engineDisplacement</th>\n",
       "      <th>enginePower</th>\n",
       "      <th>fuelType</th>\n",
       "      <th>...</th>\n",
       "      <th>Владельцы</th>\n",
       "      <th>ПТС</th>\n",
       "      <th>Привод</th>\n",
       "      <th>Руль</th>\n",
       "      <th>Состояние</th>\n",
       "      <th>Таможня</th>\n",
       "      <th>equipment_dict</th>\n",
       "      <th>brand</th>\n",
       "      <th>model_name</th>\n",
       "      <th>name</th>\n",
       "    </tr>\n",
       "  </thead>\n",
       "  <tbody>\n",
       "    <tr>\n",
       "      <th>0</th>\n",
       "      <td>1603226273</td>\n",
       "      <td>1100575026</td>\n",
       "      <td>https://auto.ru/cars/used/sale/skoda/octavia/1...</td>\n",
       "      <td>Все автомобили, представленные в продаже, прох...</td>\n",
       "      <td>https://autoru.naydex.net/o9DBXQ270/5ac010hAY0...</td>\n",
       "      <td>лифтбек</td>\n",
       "      <td>синий</td>\n",
       "      <td>1.2 LTR</td>\n",
       "      <td>105 N12</td>\n",
       "      <td>бензин</td>\n",
       "      <td>...</td>\n",
       "      <td>3 или более</td>\n",
       "      <td>Оригинал</td>\n",
       "      <td>передний</td>\n",
       "      <td>Левый</td>\n",
       "      <td>Не требует ремонта</td>\n",
       "      <td>Растаможен</td>\n",
       "      <td>{\"engine-proof\":true,\"tinted-glass\":true,\"airb...</td>\n",
       "      <td>SKODA</td>\n",
       "      <td>OCTAVIA</td>\n",
       "      <td>1.2 AMT (105 л.с.)</td>\n",
       "    </tr>\n",
       "    <tr>\n",
       "      <th>1</th>\n",
       "      <td>1603226277</td>\n",
       "      <td>1100549428</td>\n",
       "      <td>https://auto.ru/cars/used/sale/skoda/octavia/1...</td>\n",
       "      <td>ЛОТ: 01217195\\nАвтопрага Север\\nДанный автомоб...</td>\n",
       "      <td>https://autoru.naydex.net/o9DBXQ270/5ac010hAY0...</td>\n",
       "      <td>лифтбек</td>\n",
       "      <td>чёрный</td>\n",
       "      <td>1.6 LTR</td>\n",
       "      <td>110 N12</td>\n",
       "      <td>бензин</td>\n",
       "      <td>...</td>\n",
       "      <td>1 владелец</td>\n",
       "      <td>Оригинал</td>\n",
       "      <td>передний</td>\n",
       "      <td>Левый</td>\n",
       "      <td>Не требует ремонта</td>\n",
       "      <td>Растаможен</td>\n",
       "      <td>{\"cruise-control\":true,\"asr\":true,\"esp\":true,\"...</td>\n",
       "      <td>SKODA</td>\n",
       "      <td>OCTAVIA</td>\n",
       "      <td>1.6 MT (110 л.с.)</td>\n",
       "    </tr>\n",
       "    <tr>\n",
       "      <th>2</th>\n",
       "      <td>1603226280</td>\n",
       "      <td>1100658222</td>\n",
       "      <td>https://auto.ru/cars/used/sale/skoda/superb/11...</td>\n",
       "      <td>Все автомобили, представленные в продаже, прох...</td>\n",
       "      <td>https://avatars.mds.yandex.net/get-autoru-vos/...</td>\n",
       "      <td>лифтбек</td>\n",
       "      <td>серый</td>\n",
       "      <td>1.8 LTR</td>\n",
       "      <td>152 N12</td>\n",
       "      <td>бензин</td>\n",
       "      <td>...</td>\n",
       "      <td>1 владелец</td>\n",
       "      <td>Оригинал</td>\n",
       "      <td>передний</td>\n",
       "      <td>Левый</td>\n",
       "      <td>Не требует ремонта</td>\n",
       "      <td>Растаможен</td>\n",
       "      <td>{\"cruise-control\":true,\"tinted-glass\":true,\"es...</td>\n",
       "      <td>SKODA</td>\n",
       "      <td>SUPERB</td>\n",
       "      <td>DSG 1.8 AMT (152 л.с.)</td>\n",
       "    </tr>\n",
       "    <tr>\n",
       "      <th>3</th>\n",
       "      <td>1603226284</td>\n",
       "      <td>1100937408</td>\n",
       "      <td>https://auto.ru/cars/used/sale/skoda/octavia/1...</td>\n",
       "      <td>КОМПЛЕКТ ЗИМНЕЙ (ЛЕТНЕЙ) РЕЗИНЫ ПО СЕЗОНУ В ПО...</td>\n",
       "      <td>https://autoru.naydex.net/o9DBXQ270/5ac010hAY0...</td>\n",
       "      <td>лифтбек</td>\n",
       "      <td>коричневый</td>\n",
       "      <td>1.6 LTR</td>\n",
       "      <td>110 N12</td>\n",
       "      <td>бензин</td>\n",
       "      <td>...</td>\n",
       "      <td>1 владелец</td>\n",
       "      <td>Оригинал</td>\n",
       "      <td>передний</td>\n",
       "      <td>Левый</td>\n",
       "      <td>Не требует ремонта</td>\n",
       "      <td>Растаможен</td>\n",
       "      <td>{\"cruise-control\":true,\"roller-blind-for-rear-...</td>\n",
       "      <td>SKODA</td>\n",
       "      <td>OCTAVIA</td>\n",
       "      <td>1.6 AT (110 л.с.)</td>\n",
       "    </tr>\n",
       "    <tr>\n",
       "      <th>4</th>\n",
       "      <td>1603226288</td>\n",
       "      <td>1101037972</td>\n",
       "      <td>https://auto.ru/cars/used/sale/skoda/octavia/1...</td>\n",
       "      <td>ЛОТ: 01220889\\nАвтопрага Север\\n\\nВы можете по...</td>\n",
       "      <td>https://autoru.naydex.net/o9DBXQ270/5ac010hAY0...</td>\n",
       "      <td>лифтбек</td>\n",
       "      <td>белый</td>\n",
       "      <td>1.8 LTR</td>\n",
       "      <td>152 N12</td>\n",
       "      <td>бензин</td>\n",
       "      <td>...</td>\n",
       "      <td>1 владелец</td>\n",
       "      <td>Оригинал</td>\n",
       "      <td>передний</td>\n",
       "      <td>Левый</td>\n",
       "      <td>Не требует ремонта</td>\n",
       "      <td>Растаможен</td>\n",
       "      <td>{\"cruise-control\":true,\"asr\":true,\"esp\":true,\"...</td>\n",
       "      <td>SKODA</td>\n",
       "      <td>OCTAVIA</td>\n",
       "      <td>1.8 AT (152 л.с.)</td>\n",
       "    </tr>\n",
       "  </tbody>\n",
       "</table>\n",
       "<p>5 rows × 23 columns</p>\n",
       "</div>"
      ],
      "text/plain": [
       "   parsing_unixtime     sell_id  \\\n",
       "0        1603226273  1100575026   \n",
       "1        1603226277  1100549428   \n",
       "2        1603226280  1100658222   \n",
       "3        1603226284  1100937408   \n",
       "4        1603226288  1101037972   \n",
       "\n",
       "                                             car_url  \\\n",
       "0  https://auto.ru/cars/used/sale/skoda/octavia/1...   \n",
       "1  https://auto.ru/cars/used/sale/skoda/octavia/1...   \n",
       "2  https://auto.ru/cars/used/sale/skoda/superb/11...   \n",
       "3  https://auto.ru/cars/used/sale/skoda/octavia/1...   \n",
       "4  https://auto.ru/cars/used/sale/skoda/octavia/1...   \n",
       "\n",
       "                                         description  \\\n",
       "0  Все автомобили, представленные в продаже, прох...   \n",
       "1  ЛОТ: 01217195\\nАвтопрага Север\\nДанный автомоб...   \n",
       "2  Все автомобили, представленные в продаже, прох...   \n",
       "3  КОМПЛЕКТ ЗИМНЕЙ (ЛЕТНЕЙ) РЕЗИНЫ ПО СЕЗОНУ В ПО...   \n",
       "4  ЛОТ: 01220889\\nАвтопрага Север\\n\\nВы можете по...   \n",
       "\n",
       "                                               image bodyType       color  \\\n",
       "0  https://autoru.naydex.net/o9DBXQ270/5ac010hAY0...  лифтбек       синий   \n",
       "1  https://autoru.naydex.net/o9DBXQ270/5ac010hAY0...  лифтбек      чёрный   \n",
       "2  https://avatars.mds.yandex.net/get-autoru-vos/...  лифтбек       серый   \n",
       "3  https://autoru.naydex.net/o9DBXQ270/5ac010hAY0...  лифтбек  коричневый   \n",
       "4  https://autoru.naydex.net/o9DBXQ270/5ac010hAY0...  лифтбек       белый   \n",
       "\n",
       "  engineDisplacement enginePower fuelType  ...    Владельцы       ПТС  \\\n",
       "0            1.2 LTR     105 N12   бензин  ...  3 или более  Оригинал   \n",
       "1            1.6 LTR     110 N12   бензин  ...   1 владелец  Оригинал   \n",
       "2            1.8 LTR     152 N12   бензин  ...   1 владелец  Оригинал   \n",
       "3            1.6 LTR     110 N12   бензин  ...   1 владелец  Оригинал   \n",
       "4            1.8 LTR     152 N12   бензин  ...   1 владелец  Оригинал   \n",
       "\n",
       "     Привод   Руль           Состояние     Таможня  \\\n",
       "0  передний  Левый  Не требует ремонта  Растаможен   \n",
       "1  передний  Левый  Не требует ремонта  Растаможен   \n",
       "2  передний  Левый  Не требует ремонта  Растаможен   \n",
       "3  передний  Левый  Не требует ремонта  Растаможен   \n",
       "4  передний  Левый  Не требует ремонта  Растаможен   \n",
       "\n",
       "                                      equipment_dict  brand model_name  \\\n",
       "0  {\"engine-proof\":true,\"tinted-glass\":true,\"airb...  SKODA    OCTAVIA   \n",
       "1  {\"cruise-control\":true,\"asr\":true,\"esp\":true,\"...  SKODA    OCTAVIA   \n",
       "2  {\"cruise-control\":true,\"tinted-glass\":true,\"es...  SKODA     SUPERB   \n",
       "3  {\"cruise-control\":true,\"roller-blind-for-rear-...  SKODA    OCTAVIA   \n",
       "4  {\"cruise-control\":true,\"asr\":true,\"esp\":true,\"...  SKODA    OCTAVIA   \n",
       "\n",
       "                     name  \n",
       "0      1.2 AMT (105 л.с.)  \n",
       "1       1.6 MT (110 л.с.)  \n",
       "2  DSG 1.8 AMT (152 л.с.)  \n",
       "3       1.6 AT (110 л.с.)  \n",
       "4       1.8 AT (152 л.с.)  \n",
       "\n",
       "[5 rows x 23 columns]"
      ]
     },
     "execution_count": 638,
     "metadata": {},
     "output_type": "execute_result"
    }
   ],
   "source": [
    "#Перезапишем data_test с теми колонками, которые есть и в data_train, и в data_test\n",
    "data_test = data_test[in_test]\n",
    "data_test.head()"
   ]
  },
  {
   "cell_type": "code",
   "execution_count": 639,
   "metadata": {},
   "outputs": [],
   "source": [
    "data_train = data_train[data_train['price'] !='nan']"
   ]
  },
  {
   "cell_type": "code",
   "execution_count": 640,
   "metadata": {},
   "outputs": [],
   "source": [
    "#приведем целевую переменную к числовому типу\n",
    "data_train['price'] = data_train.price.apply(lambda x: unicodedata.normalize(\"NFKD\",str(x)))"
   ]
  },
  {
   "cell_type": "code",
   "execution_count": 641,
   "metadata": {},
   "outputs": [],
   "source": [
    "data_train['price'] = data_train.price.apply(lambda x: x.replace(' ₽',''))\n",
    "data_train['price'] = data_train.price.apply(lambda x: x.replace(' ',''))"
   ]
  },
  {
   "cell_type": "code",
   "execution_count": 642,
   "metadata": {},
   "outputs": [],
   "source": [
    "data_train = data_train[data_train['price'] !='nan']"
   ]
  },
  {
   "cell_type": "code",
   "execution_count": 643,
   "metadata": {},
   "outputs": [],
   "source": [
    "data_train['price'] = data_train['price'].astype(int)"
   ]
  },
  {
   "cell_type": "code",
   "execution_count": 644,
   "metadata": {},
   "outputs": [],
   "source": [
    "#объединяем трейн и тест, для учета всех возможных значений. Помечаем где у нас трейн\n",
    "data_train['sample_'] = 0\n",
    "data_test['sample_'] = 1\n",
    "data_full = pd.concat([data_test, data_train])\n",
    "data_full = data_full.reset_index().drop(['index'], axis = 1)"
   ]
  },
  {
   "cell_type": "code",
   "execution_count": 645,
   "metadata": {},
   "outputs": [],
   "source": [
    "data_full = data_full[['parsing_unixtime', 'sell_id', 'car_url', 'description',\n",
    "       'image', 'bodyType', 'color', 'engineDisplacement', 'enginePower',\n",
    "       'fuelType', 'mileage', 'productionDate', 'vehicleTransmission',\n",
    "       'Владельцы', 'ПТС', 'Привод', 'Руль', 'Состояние', 'Таможня',\n",
    "       'equipment_dict', 'brand', 'model_name', 'name', 'sample_', 'price']]"
   ]
  },
  {
   "cell_type": "code",
   "execution_count": 646,
   "metadata": {},
   "outputs": [
    {
     "data": {
      "text/plain": [
       "119870"
      ]
     },
     "execution_count": 646,
     "metadata": {},
     "output_type": "execute_result"
    }
   ],
   "source": [
    "#Удаляем дубликаты по ссылкам\n",
    "data_full = data_full.drop_duplicates(subset=['car_url'])\n",
    "len(data_full)"
   ]
  },
  {
   "cell_type": "code",
   "execution_count": 647,
   "metadata": {},
   "outputs": [
    {
     "data": {
      "text/plain": [
       "1100086706    2\n",
       "1094975488    1\n",
       "1101952667    1\n",
       "1102780087    1\n",
       "1103040180    1\n",
       "             ..\n",
       "1100487080    1\n",
       "1101816231    1\n",
       "1103128998    1\n",
       "1103034948    1\n",
       "1102802100    1\n",
       "Name: sell_id, Length: 119869, dtype: int64"
      ]
     },
     "execution_count": 647,
     "metadata": {},
     "output_type": "execute_result"
    }
   ],
   "source": [
    "#провверим на дубликаты по id, для этого приведем id в единый вид\n",
    "data_full['sell_id'] = data_full.sell_id.apply(lambda x: int(str(x).replace('№ ','')))\n",
    "data_full['sell_id'].value_counts()"
   ]
  },
  {
   "cell_type": "code",
   "execution_count": 648,
   "metadata": {},
   "outputs": [
    {
     "data": {
      "text/plain": [
       "119869"
      ]
     },
     "execution_count": 648,
     "metadata": {},
     "output_type": "execute_result"
    }
   ],
   "source": [
    "#оставим по одному объявлению на id\n",
    "data_full = data_full.drop_duplicates(subset=['sell_id'])\n",
    "len(data_full)"
   ]
  },
  {
   "cell_type": "markdown",
   "metadata": {},
   "source": [
    "# EDA"
   ]
  },
  {
   "cell_type": "code",
   "execution_count": 649,
   "metadata": {},
   "outputs": [
    {
     "data": {
      "text/html": [
       "<div>\n",
       "<style scoped>\n",
       "    .dataframe tbody tr th:only-of-type {\n",
       "        vertical-align: middle;\n",
       "    }\n",
       "\n",
       "    .dataframe tbody tr th {\n",
       "        vertical-align: top;\n",
       "    }\n",
       "\n",
       "    .dataframe thead th {\n",
       "        text-align: right;\n",
       "    }\n",
       "</style>\n",
       "<table border=\"1\" class=\"dataframe\">\n",
       "  <thead>\n",
       "    <tr style=\"text-align: right;\">\n",
       "      <th></th>\n",
       "      <th>parsing_unixtime</th>\n",
       "      <th>sell_id</th>\n",
       "      <th>car_url</th>\n",
       "      <th>description</th>\n",
       "      <th>image</th>\n",
       "      <th>bodyType</th>\n",
       "      <th>color</th>\n",
       "      <th>engineDisplacement</th>\n",
       "      <th>enginePower</th>\n",
       "      <th>fuelType</th>\n",
       "      <th>...</th>\n",
       "      <th>Привод</th>\n",
       "      <th>Руль</th>\n",
       "      <th>Состояние</th>\n",
       "      <th>Таможня</th>\n",
       "      <th>equipment_dict</th>\n",
       "      <th>brand</th>\n",
       "      <th>model_name</th>\n",
       "      <th>name</th>\n",
       "      <th>sample_</th>\n",
       "      <th>price</th>\n",
       "    </tr>\n",
       "  </thead>\n",
       "  <tbody>\n",
       "    <tr>\n",
       "      <th>118662</th>\n",
       "      <td>1.618585e+09</td>\n",
       "      <td>1103205080</td>\n",
       "      <td>https://auto.ru/cars/used/sale/mitsubishi/l200...</td>\n",
       "      <td>Состояние сел и поехал! Родной ПТС! Месяц наза...</td>\n",
       "      <td>https://avatars.mds.yandex.net/get-verba/78701...</td>\n",
       "      <td>пикап двойная кабина</td>\n",
       "      <td>чёрный</td>\n",
       "      <td>2.5 л</td>\n",
       "      <td>136 л.с.</td>\n",
       "      <td>Дизель</td>\n",
       "      <td>...</td>\n",
       "      <td>полный</td>\n",
       "      <td>Левый</td>\n",
       "      <td>Не требует ремонта</td>\n",
       "      <td>Растаможен</td>\n",
       "      <td>{'asciiCat': 'cars', 'category': 'cars', 'engi...</td>\n",
       "      <td>Mitsubishi</td>\n",
       "      <td>L200</td>\n",
       "      <td>2.5d MT (136 л.с.) 4WD</td>\n",
       "      <td>0</td>\n",
       "      <td>498000.0</td>\n",
       "    </tr>\n",
       "    <tr>\n",
       "      <th>111072</th>\n",
       "      <td>1.618582e+09</td>\n",
       "      <td>1099037058</td>\n",
       "      <td>https://auto.ru/cars/used/sale/skoda/rapid/109...</td>\n",
       "      <td>отличное состояние- стоит новая резина- подогр...</td>\n",
       "      <td>https://avatars.mds.yandex.net/get-verba/78701...</td>\n",
       "      <td>лифтбек</td>\n",
       "      <td>белый</td>\n",
       "      <td>1.6 л</td>\n",
       "      <td>105 л.с.</td>\n",
       "      <td>Бензин</td>\n",
       "      <td>...</td>\n",
       "      <td>передний</td>\n",
       "      <td>Левый</td>\n",
       "      <td>Не требует ремонта</td>\n",
       "      <td>Растаможен</td>\n",
       "      <td>{'asciiCat': 'cars', 'category': 'cars', 'engi...</td>\n",
       "      <td>Skoda</td>\n",
       "      <td>Rapid</td>\n",
       "      <td>1.6 MT (105 л.с.)</td>\n",
       "      <td>0</td>\n",
       "      <td>555000.0</td>\n",
       "    </tr>\n",
       "    <tr>\n",
       "      <th>63876</th>\n",
       "      <td>1.618567e+09</td>\n",
       "      <td>1098559036</td>\n",
       "      <td>https://auto.ru/cars/used/sale/bmw/3er/1098559...</td>\n",
       "      <td>Пишите, все расскажу.</td>\n",
       "      <td>https://avatars.mds.yandex.net/get-verba/78701...</td>\n",
       "      <td>седан</td>\n",
       "      <td>чёрный</td>\n",
       "      <td>1.8 л</td>\n",
       "      <td>115 л.с.</td>\n",
       "      <td>Бензин</td>\n",
       "      <td>...</td>\n",
       "      <td>задний</td>\n",
       "      <td>Левый</td>\n",
       "      <td>Не требует ремонта</td>\n",
       "      <td>Растаможен</td>\n",
       "      <td>{'asciiCat': 'cars', 'category': 'cars', 'engi...</td>\n",
       "      <td>BMW</td>\n",
       "      <td>3 серии</td>\n",
       "      <td>N42 316i 1.8 AT (115 л.с.)</td>\n",
       "      <td>0</td>\n",
       "      <td>360000.0</td>\n",
       "    </tr>\n",
       "  </tbody>\n",
       "</table>\n",
       "<p>3 rows × 25 columns</p>\n",
       "</div>"
      ],
      "text/plain": [
       "        parsing_unixtime     sell_id  \\\n",
       "118662      1.618585e+09  1103205080   \n",
       "111072      1.618582e+09  1099037058   \n",
       "63876       1.618567e+09  1098559036   \n",
       "\n",
       "                                                  car_url  \\\n",
       "118662  https://auto.ru/cars/used/sale/mitsubishi/l200...   \n",
       "111072  https://auto.ru/cars/used/sale/skoda/rapid/109...   \n",
       "63876   https://auto.ru/cars/used/sale/bmw/3er/1098559...   \n",
       "\n",
       "                                              description  \\\n",
       "118662  Состояние сел и поехал! Родной ПТС! Месяц наза...   \n",
       "111072  отличное состояние- стоит новая резина- подогр...   \n",
       "63876                               Пишите, все расскажу.   \n",
       "\n",
       "                                                    image  \\\n",
       "118662  https://avatars.mds.yandex.net/get-verba/78701...   \n",
       "111072  https://avatars.mds.yandex.net/get-verba/78701...   \n",
       "63876   https://avatars.mds.yandex.net/get-verba/78701...   \n",
       "\n",
       "                    bodyType   color engineDisplacement enginePower fuelType  \\\n",
       "118662  пикап двойная кабина  чёрный             2.5 л    136 л.с.    Дизель   \n",
       "111072               лифтбек   белый             1.6 л    105 л.с.    Бензин   \n",
       "63876                  седан  чёрный             1.8 л    115 л.с.    Бензин   \n",
       "\n",
       "        ...    Привод   Руль           Состояние     Таможня  \\\n",
       "118662  ...    полный  Левый  Не требует ремонта  Растаможен   \n",
       "111072  ...  передний  Левый  Не требует ремонта  Растаможен   \n",
       "63876   ...    задний  Левый  Не требует ремонта  Растаможен   \n",
       "\n",
       "                                           equipment_dict       brand  \\\n",
       "118662  {'asciiCat': 'cars', 'category': 'cars', 'engi...  Mitsubishi   \n",
       "111072  {'asciiCat': 'cars', 'category': 'cars', 'engi...       Skoda   \n",
       "63876   {'asciiCat': 'cars', 'category': 'cars', 'engi...         BMW   \n",
       "\n",
       "       model_name                        name sample_     price  \n",
       "118662       L200      2.5d MT (136 л.с.) 4WD       0  498000.0  \n",
       "111072      Rapid           1.6 MT (105 л.с.)       0  555000.0  \n",
       "63876     3 серии  N42 316i 1.8 AT (115 л.с.)       0  360000.0  \n",
       "\n",
       "[3 rows x 25 columns]"
      ]
     },
     "execution_count": 649,
     "metadata": {},
     "output_type": "execute_result"
    }
   ],
   "source": [
    "data_full.sample(3)"
   ]
  },
  {
   "cell_type": "code",
   "execution_count": 650,
   "metadata": {},
   "outputs": [
    {
     "name": "stdout",
     "output_type": "stream",
     "text": [
      "<class 'pandas.core.frame.DataFrame'>\n",
      "Int64Index: 119869 entries, 0 to 121789\n",
      "Data columns (total 25 columns):\n",
      " #   Column               Non-Null Count   Dtype  \n",
      "---  ------               --------------   -----  \n",
      " 0   parsing_unixtime     119869 non-null  float64\n",
      " 1   sell_id              119869 non-null  int64  \n",
      " 2   car_url              119869 non-null  object \n",
      " 3   description          119337 non-null  object \n",
      " 4   image                119869 non-null  object \n",
      " 5   bodyType             119869 non-null  object \n",
      " 6   color                119869 non-null  object \n",
      " 7   engineDisplacement   119869 non-null  object \n",
      " 8   enginePower          119869 non-null  object \n",
      " 9   fuelType             119869 non-null  object \n",
      " 10  mileage              119869 non-null  object \n",
      " 11  productionDate       119869 non-null  float64\n",
      " 12  vehicleTransmission  119869 non-null  object \n",
      " 13  Владельцы            119869 non-null  object \n",
      " 14  ПТС                  119868 non-null  object \n",
      " 15  Привод               119869 non-null  object \n",
      " 16  Руль                 119869 non-null  object \n",
      " 17  Состояние            119869 non-null  object \n",
      " 18  Таможня              119869 non-null  object \n",
      " 19  equipment_dict       109873 non-null  object \n",
      " 20  brand                119869 non-null  object \n",
      " 21  model_name           119869 non-null  object \n",
      " 22  name                 119869 non-null  object \n",
      " 23  sample_              119869 non-null  int64  \n",
      " 24  price                85183 non-null   float64\n",
      "dtypes: float64(3), int64(2), object(20)\n",
      "memory usage: 23.8+ MB\n"
     ]
    }
   ],
   "source": [
    "data_full.info()"
   ]
  },
  {
   "cell_type": "markdown",
   "metadata": {},
   "source": [
    "Мы видим 23 признака('sample' не считаем), из них 3 - числовых, остальные - категориальные. Также в дальнейшем анализе опустим parsing_unixtime, sell_id, car_url, description, image, таможня, equipment_dict, name -  то есть оставим 15 признаков  \n",
    "Сразу заметим, что два категориальных признака - 'enginePower' и 'engineDisplacement' по сути являются числовыми, принимая значения в своих числовых диапазонах. Поэтому уже на этапе анализа сделаем эти признаки числовыми."
   ]
  },
  {
   "cell_type": "code",
   "execution_count": 651,
   "metadata": {},
   "outputs": [
    {
     "name": "stdout",
     "output_type": "stream",
     "text": [
      "632 107\n"
     ]
    }
   ],
   "source": [
    "# Количество уникальных значений в этих признаках достаточно большое\n",
    "print(data_full['enginePower'].nunique(), data_full['engineDisplacement'].nunique())"
   ]
  },
  {
   "cell_type": "code",
   "execution_count": 652,
   "metadata": {},
   "outputs": [],
   "source": [
    "# Избавимся от пропусков в Engine Displacement, заменив на среднее\n",
    "data_full['engineDisplacement'] = data_full['engineDisplacement'].apply(lambda x: '2.5 LTR' if x == ' LTR' else x)\n",
    "data_full['engineDisplacement'] = data_full['engineDisplacement'].apply(lambda x: x.replace('л ','LTR'))"
   ]
  },
  {
   "cell_type": "code",
   "execution_count": 653,
   "metadata": {},
   "outputs": [],
   "source": [
    "#теперь приведем к числовому формату\n",
    "data_full['engineDisplacement'] = data_full['engineDisplacement'].apply(\n",
    "                                                    lambda x: int(x.split(' ')[0].replace('.', '')))"
   ]
  },
  {
   "cell_type": "code",
   "execution_count": 654,
   "metadata": {},
   "outputs": [],
   "source": [
    "data_full['enginePower'] = data_full['enginePower'].apply(lambda x: x.replace('\\xa0л.с. ','N12'))"
   ]
  },
  {
   "cell_type": "code",
   "execution_count": 655,
   "metadata": {},
   "outputs": [],
   "source": [
    "data_full['enginePower'] = data_full['enginePower'].apply(lambda x: x.replace(' ',''))"
   ]
  },
  {
   "cell_type": "code",
   "execution_count": 656,
   "metadata": {},
   "outputs": [],
   "source": [
    "data_full['enginePower'] = data_full['enginePower'].apply(lambda x: int(x.split('N')[0].replace('.', '')))"
   ]
  },
  {
   "cell_type": "code",
   "execution_count": 657,
   "metadata": {},
   "outputs": [],
   "source": [
    "data_full['mileage'] = data_full['mileage'].apply(lambda x: str(x).replace('\\xa0', ''))"
   ]
  },
  {
   "cell_type": "code",
   "execution_count": 658,
   "metadata": {},
   "outputs": [],
   "source": [
    "#Преобразуем признак из object в числовой.\n",
    "pattern = re.compile('\\d+')\n",
    "\n",
    "data_full['mileage'] = data_full['mileage'].apply(lambda x: int(pattern.findall(x)[0]))"
   ]
  },
  {
   "cell_type": "markdown",
   "metadata": {},
   "source": [
    "# Категориальные признаки"
   ]
  },
  {
   "cell_type": "code",
   "execution_count": 659,
   "metadata": {},
   "outputs": [
    {
     "data": {
      "text/plain": [
       "3 или более    56618\n",
       "1 владелец     32924\n",
       "2 владельца    30327\n",
       "Name: Владельцы, dtype: int64"
      ]
     },
     "execution_count": 659,
     "metadata": {},
     "output_type": "execute_result"
    }
   ],
   "source": [
    "#Теперь займемся категориальными признаками\n",
    "data_full['Владельцы'].value_counts()"
   ]
  },
  {
   "cell_type": "code",
   "execution_count": 660,
   "metadata": {},
   "outputs": [
    {
     "data": {
      "text/plain": [
       "0"
      ]
     },
     "execution_count": 660,
     "metadata": {},
     "output_type": "execute_result"
    }
   ],
   "source": [
    "#Проверим признак на пустые ячейки и уникальные значения\n",
    "data_full.productionDate.isna().sum()"
   ]
  },
  {
   "cell_type": "code",
   "execution_count": 661,
   "metadata": {},
   "outputs": [
    {
     "data": {
      "text/plain": [
       "array(['3 или более', '1\\xa0владелец', '2\\xa0владельца'], dtype=object)"
      ]
     },
     "execution_count": 661,
     "metadata": {},
     "output_type": "execute_result"
    }
   ],
   "source": [
    "data_full['Владельцы'].unique()"
   ]
  },
  {
   "cell_type": "code",
   "execution_count": 662,
   "metadata": {},
   "outputs": [],
   "source": [
    "#Преобразуем данные к презентабельному виду - заменим части строки равные '\\xa0' на ' ' во всех значениях признака\n",
    "data_full['Владельцы'] = data_full['Владельцы'].apply(lambda x: str(x).replace('\\xa0', ' '))"
   ]
  },
  {
   "cell_type": "code",
   "execution_count": 663,
   "metadata": {},
   "outputs": [
    {
     "data": {
      "text/plain": [
       "<AxesSubplot:>"
      ]
     },
     "execution_count": 663,
     "metadata": {},
     "output_type": "execute_result"
    },
    {
     "data": {
      "image/png": "[encoded data removed]",
      "text/plain": [
       "<Figure size 432x288 with 1 Axes>"
      ]
     },
     "metadata": {
      "needs_background": "light"
     },
     "output_type": "display_data"
    }
   ],
   "source": [
    "data_full['Владельцы'].value_counts().plot.barh()"
   ]
  },
  {
   "cell_type": "code",
   "execution_count": 664,
   "metadata": {},
   "outputs": [
    {
     "data": {
      "text/plain": [
       "внедорожник 5 дв.          45920\n",
       "седан                      42821\n",
       "хэтчбек 5 дв.               8360\n",
       "лифтбек                     7951\n",
       "универсал 5 дв.             4331\n",
       "минивэн                     2759\n",
       "купе                        2149\n",
       "компактвэн                  2028\n",
       "пикап двойная кабина        1019\n",
       "хэтчбек 3 дв.                944\n",
       "купе-хардтоп                 515\n",
       "внедорожник 3 дв.            366\n",
       "родстер                      201\n",
       "кабриолет                    177\n",
       "фургон                       176\n",
       "микровэн                      86\n",
       "пикап полуторная кабина       20\n",
       "седан-хардтоп                 12\n",
       "пикап одинарная кабина        12\n",
       "лимузин                        7\n",
       "внедорожник открытый           6\n",
       "седан 2 дв.                    6\n",
       "тарга                          2\n",
       "фастбек                        1\n",
       "Name: bodyType, dtype: int64"
      ]
     },
     "execution_count": 664,
     "metadata": {},
     "output_type": "execute_result"
    }
   ],
   "source": [
    "#BodyType - посмотрим на уникальные значения\n",
    "data_full['bodyType'].value_counts()"
   ]
  },
  {
   "cell_type": "code",
   "execution_count": 665,
   "metadata": {},
   "outputs": [
    {
     "data": {
      "text/plain": [
       "внедорожник           46292\n",
       "седан                 42834\n",
       "хэтчбек                9304\n",
       "лифтбек                7951\n",
       "автобус                4873\n",
       "универсал              4331\n",
       "other                  3057\n",
       "грузо-пассажирский     1227\n",
       "Name: bodyClass, dtype: int64"
      ]
     },
     "execution_count": 665,
     "metadata": {},
     "output_type": "execute_result"
    }
   ],
   "source": [
    "#некоторых видов не так много, и некоторые значения однотипные. Попробуем их немного сгруппировать в более общие типы\n",
    "def get_bodyClass(bodyType):\n",
    "    \n",
    "    bodyClass = 'other'\n",
    "    \n",
    "    dict_bodyTypes = {'седан' : ['седан', 'седан-хардтоп', 'фастбек'],\n",
    "                          'внедорожник' : ['внедорожник 5 дв.', 'внедорожник 3 дв.', 'внедорожник открытый'],\n",
    "                          'хэтчбек': ['хэтчбек 5 дв.', 'хэтчбек 4 дв.', 'хэтчбек 3 дв.'],\n",
    "                          'универсал': ['универсал 5 дв.'],\n",
    "                          'лифтбек': ['лифтбек'],\n",
    "                          'автобус': ['микровэн', 'минивэн', 'компактвэн'],                      \n",
    "                          'грузо-пассажирский': ['пикап полуторная кабина', 'пикап одинарная кабина', 'пикап двойная кабина', 'фургон']\n",
    "                          #,'купе': ['купе', 'купе-хардтоп', 'седан 2 дв.'],\n",
    "                          #,'открытый/съемный верх': ['кабриолет', 'фаэтон', 'тарга', 'родстер']\n",
    "                     }\n",
    "    \n",
    "    for key, value in dict_bodyTypes.items():   \n",
    "        if bodyType in value:\n",
    "            bodyClass = key\n",
    "            break\n",
    "    \n",
    "    return bodyClass\n",
    "\n",
    "data_full['bodyClass'] = data_full.bodyType.apply(lambda x: get_bodyClass(x))\n",
    "data_full.bodyClass.value_counts()"
   ]
  },
  {
   "cell_type": "code",
   "execution_count": 666,
   "metadata": {},
   "outputs": [
    {
     "data": {
      "text/plain": [
       "чёрный         36714\n",
       "белый          24883\n",
       "серый          15426\n",
       "серебристый    14963\n",
       "синий           9372\n",
       "красный         4942\n",
       "коричневый      4664\n",
       "зелёный         2272\n",
       "бежевый         1913\n",
       "голубой         1538\n",
       "золотистый       939\n",
       "пурпурный        712\n",
       "фиолетовый       653\n",
       "оранжевый        404\n",
       "жёлтый           400\n",
       "розовый           74\n",
       "Name: color, dtype: int64"
      ]
     },
     "execution_count": 666,
     "metadata": {},
     "output_type": "execute_result"
    }
   ],
   "source": [
    "#посмотрим на признак color\n",
    "data_full['color'].value_counts()"
   ]
  },
  {
   "cell_type": "code",
   "execution_count": 667,
   "metadata": {},
   "outputs": [],
   "source": [
    "#пропусков нет, оставим признак в таком виде"
   ]
  },
  {
   "cell_type": "code",
   "execution_count": 668,
   "metadata": {},
   "outputs": [
    {
     "data": {
      "text/plain": [
       " Бензин                                68956\n",
       "бензин                                 28601\n",
       " Дизель                                13353\n",
       "дизель                                  5800\n",
       " Гибрид                                 1665\n",
       " Бензин, газобаллонное оборудование     1200\n",
       "гибрид                                   223\n",
       "электро                                   55\n",
       "газ                                        7\n",
       " Гибрид, газобаллонное оборудование        4\n",
       " Дизель, газобаллонное оборудование        4\n",
       " Газ, газобаллонное оборудование           1\n",
       "Name: fuelType, dtype: int64"
      ]
     },
     "execution_count": 668,
     "metadata": {},
     "output_type": "execute_result"
    }
   ],
   "source": [
    "#посмторим на признак fuelType\n",
    "data_full.fuelType.value_counts()"
   ]
  },
  {
   "cell_type": "code",
   "execution_count": 669,
   "metadata": {},
   "outputs": [],
   "source": [
    "#пропусков нет, приведем к единообразному виду, сократим количество видов топлива\n",
    "data_full.fuelType = data_full.fuelType.apply(lambda x: 'газ' if x == ' Газ, газобаллонное оборудование' else x)\n",
    "data_full = data_full.drop(data_full[data_full.fuelType == '1618546594.0'].index)\n",
    "data_full.fuelType = data_full.fuelType.apply(lambda x: x.lower())\n",
    "\n",
    "pattern = re.compile('[а-я]+')\n",
    "data_full.fuelType = data_full.fuelType.apply(lambda x: 'гибрид' if len(x.split(',')) == 2 else pattern.findall(x)[0])"
   ]
  },
  {
   "cell_type": "code",
   "execution_count": 670,
   "metadata": {},
   "outputs": [
    {
     "data": {
      "text/plain": [
       "бензин     97557\n",
       "дизель     19153\n",
       "гибрид      3096\n",
       "электро       55\n",
       "газ            8\n",
       "Name: fuelType, dtype: int64"
      ]
     },
     "execution_count": 670,
     "metadata": {},
     "output_type": "execute_result"
    }
   ],
   "source": [
    "data_full.fuelType.value_counts()"
   ]
  },
  {
   "cell_type": "code",
   "execution_count": 671,
   "metadata": {},
   "outputs": [
    {
     "data": {
      "text/plain": [
       "<AxesSubplot:>"
      ]
     },
     "execution_count": 671,
     "metadata": {},
     "output_type": "execute_result"
    },
    {
     "data": {
      "image/png": "[encoded data removed]",
      "text/plain": [
       "<Figure size 432x288 with 1 Axes>"
      ]
     },
     "metadata": {
      "needs_background": "light"
     },
     "output_type": "display_data"
    }
   ],
   "source": [
    "data_full.fuelType.value_counts().plot.barh()"
   ]
  },
  {
   "cell_type": "code",
   "execution_count": 672,
   "metadata": {},
   "outputs": [
    {
     "data": {
      "text/plain": [
       "автоматическая      69243\n",
       "механическая        21163\n",
       "вариатор            18479\n",
       "роботизированная    10984\n",
       "Name: vehicleTransmission, dtype: int64"
      ]
     },
     "execution_count": 672,
     "metadata": {},
     "output_type": "execute_result"
    }
   ],
   "source": [
    "#vehicleTransmission\n",
    "data_full.vehicleTransmission.value_counts()"
   ]
  },
  {
   "cell_type": "code",
   "execution_count": 673,
   "metadata": {},
   "outputs": [
    {
     "data": {
      "text/plain": [
       "<AxesSubplot:>"
      ]
     },
     "execution_count": 673,
     "metadata": {},
     "output_type": "execute_result"
    },
    {
     "data": {
      "image/png": "[encoded data removed]",
      "text/plain": [
       "<Figure size 432x288 with 1 Axes>"
      ]
     },
     "metadata": {
      "needs_background": "light"
     },
     "output_type": "display_data"
    }
   ],
   "source": [
    "data_full['vehicleTransmission'].value_counts().plot.barh()"
   ]
  },
  {
   "cell_type": "code",
   "execution_count": 674,
   "metadata": {},
   "outputs": [],
   "source": [
    "#оставим признак без изменений"
   ]
  },
  {
   "cell_type": "code",
   "execution_count": 675,
   "metadata": {},
   "outputs": [
    {
     "data": {
      "text/plain": [
       "3 или более    56618\n",
       "1 владелец     32924\n",
       "2 владельца    30327\n",
       "Name: Владельцы, dtype: int64"
      ]
     },
     "execution_count": 675,
     "metadata": {},
     "output_type": "execute_result"
    }
   ],
   "source": [
    "#посмотрим и обработаем признак Владельцы\n",
    "data_full['Владельцы'].value_counts()"
   ]
  },
  {
   "cell_type": "code",
   "execution_count": 676,
   "metadata": {},
   "outputs": [],
   "source": [
    "data_full['Владельцы'] = data_full['Владельцы'].apply(lambda x: str(x).replace('\\xa0', ' '))"
   ]
  },
  {
   "cell_type": "code",
   "execution_count": 677,
   "metadata": {},
   "outputs": [
    {
     "data": {
      "text/plain": [
       "array(['3 или более', '1 владелец', '2 владельца'], dtype=object)"
      ]
     },
     "execution_count": 677,
     "metadata": {},
     "output_type": "execute_result"
    }
   ],
   "source": [
    "data_full['Владельцы'].unique()"
   ]
  },
  {
   "cell_type": "code",
   "execution_count": 678,
   "metadata": {},
   "outputs": [
    {
     "data": {
      "text/plain": [
       "<AxesSubplot:>"
      ]
     },
     "execution_count": 678,
     "metadata": {},
     "output_type": "execute_result"
    },
    {
     "data": {
      "image/png": "[encoded data removed]",
      "text/plain": [
       "<Figure size 432x288 with 1 Axes>"
      ]
     },
     "metadata": {
      "needs_background": "light"
     },
     "output_type": "display_data"
    }
   ],
   "source": [
    "data_full['Владельцы'].value_counts().plot.barh()"
   ]
  },
  {
   "cell_type": "code",
   "execution_count": 679,
   "metadata": {},
   "outputs": [
    {
     "data": {
      "text/plain": [
       "1"
      ]
     },
     "execution_count": 679,
     "metadata": {},
     "output_type": "execute_result"
    }
   ],
   "source": [
    "#ПТС\n",
    "data_full['ПТС'].isna().sum()"
   ]
  },
  {
   "cell_type": "code",
   "execution_count": 680,
   "metadata": {},
   "outputs": [],
   "source": [
    "#Заменим пропуск наиболее частым значением\n",
    "data_full['ПТС'] = data_full['ПТС'].fillna(data_full['ПТС'].value_counts().head(1).index[0])"
   ]
  },
  {
   "cell_type": "code",
   "execution_count": 681,
   "metadata": {},
   "outputs": [
    {
     "data": {
      "text/plain": [
       "<AxesSubplot:xlabel='ПТС', ylabel='count'>"
      ]
     },
     "execution_count": 681,
     "metadata": {},
     "output_type": "execute_result"
    },
    {
     "data": {
      "image/png": "[encoded data removed]",
      "text/plain": [
       "<Figure size 432x288 with 1 Axes>"
      ]
     },
     "metadata": {
      "needs_background": "light"
     },
     "output_type": "display_data"
    }
   ],
   "source": [
    "sns.countplot(x = 'ПТС', data = data_full)"
   ]
  },
  {
   "cell_type": "code",
   "execution_count": 682,
   "metadata": {},
   "outputs": [
    {
     "data": {
      "text/plain": [
       "передний    53614\n",
       "полный      52792\n",
       "задний      13463\n",
       "Name: Привод, dtype: int64"
      ]
     },
     "execution_count": 682,
     "metadata": {},
     "output_type": "execute_result"
    }
   ],
   "source": [
    "#Привод\n",
    "data_full['Привод'].value_counts()"
   ]
  },
  {
   "cell_type": "code",
   "execution_count": 683,
   "metadata": {},
   "outputs": [
    {
     "data": {
      "text/plain": [
       "0"
      ]
     },
     "execution_count": 683,
     "metadata": {},
     "output_type": "execute_result"
    }
   ],
   "source": [
    "data_full.Привод.isna().sum()"
   ]
  },
  {
   "cell_type": "code",
   "execution_count": 684,
   "metadata": {},
   "outputs": [
    {
     "data": {
      "text/plain": [
       "<AxesSubplot:xlabel='Привод', ylabel='count'>"
      ]
     },
     "execution_count": 684,
     "metadata": {},
     "output_type": "execute_result"
    },
    {
     "data": {
      "image/png": "[encoded data removed]",
      "text/plain": [
       "<Figure size 432x288 with 1 Axes>"
      ]
     },
     "metadata": {
      "needs_background": "light"
     },
     "output_type": "display_data"
    }
   ],
   "source": [
    "sns.countplot(x='Привод', data=data_full)"
   ]
  },
  {
   "cell_type": "markdown",
   "metadata": {},
   "source": [
    "Дополнительная обработка не требуется"
   ]
  },
  {
   "cell_type": "code",
   "execution_count": 685,
   "metadata": {},
   "outputs": [
    {
     "data": {
      "text/plain": [
       "Левый     108449\n",
       "Правый     11420\n",
       "Name: Руль, dtype: int64"
      ]
     },
     "execution_count": 685,
     "metadata": {},
     "output_type": "execute_result"
    }
   ],
   "source": [
    "#Руль\n",
    "data_full['Руль'].value_counts()"
   ]
  },
  {
   "cell_type": "code",
   "execution_count": 686,
   "metadata": {},
   "outputs": [
    {
     "data": {
      "text/plain": [
       "0"
      ]
     },
     "execution_count": 686,
     "metadata": {},
     "output_type": "execute_result"
    }
   ],
   "source": [
    "data_full.Руль.isna().sum()"
   ]
  },
  {
   "cell_type": "code",
   "execution_count": 687,
   "metadata": {},
   "outputs": [
    {
     "data": {
      "text/plain": [
       "<AxesSubplot:xlabel='Руль', ylabel='count'>"
      ]
     },
     "execution_count": 687,
     "metadata": {},
     "output_type": "execute_result"
    },
    {
     "data": {
      "image/png": "[encoded data removed]",
      "text/plain": [
       "<Figure size 432x288 with 1 Axes>"
      ]
     },
     "metadata": {
      "needs_background": "light"
     },
     "output_type": "display_data"
    }
   ],
   "source": [
    "sns.countplot(x='Руль', data=data_full)"
   ]
  },
  {
   "cell_type": "markdown",
   "metadata": {},
   "source": [
    "Дополнительная обработка не требуется"
   ]
  },
  {
   "cell_type": "code",
   "execution_count": 688,
   "metadata": {},
   "outputs": [
    {
     "data": {
      "text/plain": [
       "Не требует ремонта    119867\n",
       "Битый / не на ходу         2\n",
       "Name: Состояние, dtype: int64"
      ]
     },
     "execution_count": 688,
     "metadata": {},
     "output_type": "execute_result"
    }
   ],
   "source": [
    "#состояние\n",
    "data_full['Состояние'].value_counts()"
   ]
  },
  {
   "cell_type": "code",
   "execution_count": 689,
   "metadata": {},
   "outputs": [
    {
     "data": {
      "text/plain": [
       "0"
      ]
     },
     "execution_count": 689,
     "metadata": {},
     "output_type": "execute_result"
    }
   ],
   "source": [
    "data_full.Состояние.isna().sum()"
   ]
  },
  {
   "cell_type": "code",
   "execution_count": 690,
   "metadata": {},
   "outputs": [
    {
     "data": {
      "text/plain": [
       "<AxesSubplot:xlabel='Состояние', ylabel='count'>"
      ]
     },
     "execution_count": 690,
     "metadata": {},
     "output_type": "execute_result"
    },
    {
     "data": {
      "image/png": "[encoded data removed]",
      "text/plain": [
       "<Figure size 432x288 with 1 Axes>"
      ]
     },
     "metadata": {
      "needs_background": "light"
     },
     "output_type": "display_data"
    }
   ],
   "source": [
    "sns.countplot(x='Состояние', data=data_full)"
   ]
  },
  {
   "cell_type": "code",
   "execution_count": 691,
   "metadata": {},
   "outputs": [
    {
     "data": {
      "text/plain": [
       "Toyota           16130\n",
       "BMW              15307\n",
       "Nissan           13279\n",
       "Mercedes-Benz    11300\n",
       "Skoda             7304\n",
       "Mitsubishi        7078\n",
       "Audi              6429\n",
       "Honda             5465\n",
       "VOLKSWAGEN        4404\n",
       "NISSAN            4393\n",
       "MERCEDES          4180\n",
       "TOYOTA            3913\n",
       "AUDI              3421\n",
       "Lexus             3214\n",
       "MITSUBISHI        2843\n",
       "SKODA             2741\n",
       "Volvo             2502\n",
       "Infiniti          1648\n",
       "VOLVO             1463\n",
       "HONDA             1150\n",
       "INFINITI           871\n",
       "LEXUS              834\n",
       "Name: brand, dtype: int64"
      ]
     },
     "execution_count": 691,
     "metadata": {},
     "output_type": "execute_result"
    }
   ],
   "source": [
    "#brand\n",
    "data_full['brand'].value_counts()"
   ]
  },
  {
   "cell_type": "code",
   "execution_count": 692,
   "metadata": {},
   "outputs": [],
   "source": [
    "#Приведем названия к единому формату\n",
    "data_full['brand'] = data_full['brand'].apply(lambda x: x.lower())\n",
    "data_full['brand'] = data_full['brand'].apply(\n",
    "    lambda x: x.replace('mercedes-benz', 'mercedes'))"
   ]
  },
  {
   "cell_type": "code",
   "execution_count": 693,
   "metadata": {},
   "outputs": [
    {
     "data": {
      "text/plain": [
       "toyota        20043\n",
       "nissan        17672\n",
       "mercedes      15480\n",
       "bmw           15307\n",
       "skoda         10045\n",
       "mitsubishi     9921\n",
       "audi           9850\n",
       "honda          6615\n",
       "volkswagen     4404\n",
       "lexus          4048\n",
       "volvo          3965\n",
       "infiniti       2519\n",
       "Name: brand, dtype: int64"
      ]
     },
     "execution_count": 693,
     "metadata": {},
     "output_type": "execute_result"
    }
   ],
   "source": [
    "data_full['brand'].value_counts()"
   ]
  },
  {
   "cell_type": "markdown",
   "metadata": {},
   "source": [
    "Оставим так"
   ]
  },
  {
   "cell_type": "code",
   "execution_count": 694,
   "metadata": {},
   "outputs": [
    {
     "data": {
      "text/plain": [
       "Octavia     3395\n",
       "Camry       3071\n",
       "X5          2570\n",
       "E-Класс     2344\n",
       "A6          2261\n",
       "            ... \n",
       "MINICA         1\n",
       "X4 M           1\n",
       "GS F           1\n",
       "02             1\n",
       "CAVALIER       1\n",
       "Name: model_name, Length: 958, dtype: int64"
      ]
     },
     "execution_count": 694,
     "metadata": {},
     "output_type": "execute_result"
    }
   ],
   "source": [
    "#обработаем схожим образом model_name\n",
    "data_full['model_name'].value_counts()"
   ]
  },
  {
   "cell_type": "code",
   "execution_count": 695,
   "metadata": {},
   "outputs": [
    {
     "data": {
      "text/plain": [
       "octavia            4813\n",
       "camry              3780\n",
       "lancer             3062\n",
       "qashqai            2753\n",
       "corolla            2675\n",
       "                   ... \n",
       "z1                    1\n",
       "urban cruiser         1\n",
       "terrano_regulus       1\n",
       "favorit               1\n",
       "280zx                 1\n",
       "Name: model_name, Length: 761, dtype: int64"
      ]
     },
     "execution_count": 695,
     "metadata": {},
     "output_type": "execute_result"
    }
   ],
   "source": [
    "data_full['model_name'] = data_full['model_name'].apply(\n",
    "    lambda x: x.lower().strip())\n",
    "data_full['model_name'].value_counts()"
   ]
  },
  {
   "cell_type": "code",
   "execution_count": 696,
   "metadata": {},
   "outputs": [],
   "source": [
    "# Списки числовых и категориальных признаков в data_full\n",
    "num_f = ['productionDate', 'mileage', 'enginePower', 'engineDisplacement']\n",
    " \n",
    "cat_f = ['bodyType', 'brand', 'color', 'fuelType', 'model_name', 'Привод', 'Руль',\n",
    "         'vehicleTransmission', 'Владельцы', 'ПТС', 'Состояние']"
   ]
  },
  {
   "cell_type": "code",
   "execution_count": 697,
   "metadata": {},
   "outputs": [],
   "source": [
    "#оставим в датасете только нужные обработанные признаки\n",
    "data_full = data_full[num_f + cat_f + ['price', 'sample_']]"
   ]
  },
  {
   "cell_type": "markdown",
   "metadata": {},
   "source": [
    "Числовые признаки - посмотрим их чуть подробнее"
   ]
  },
  {
   "cell_type": "code",
   "execution_count": 698,
   "metadata": {},
   "outputs": [
    {
     "name": "stderr",
     "output_type": "stream",
     "text": [
      "C:\\Users\\babaina_mv\\Anaconda3\\lib\\site-packages\\seaborn\\distributions.py:2557: FutureWarning: `distplot` is a deprecated function and will be removed in a future version. Please adapt your code to use either `displot` (a figure-level function with similar flexibility) or `histplot` (an axes-level function for histograms).\n",
      "  warnings.warn(msg, FutureWarning)\n"
     ]
    },
    {
     "data": {
      "image/png": "[encoded data removed]",
      "text/plain": [
       "<Figure size 432x288 with 1 Axes>"
      ]
     },
     "metadata": {
      "needs_background": "light"
     },
     "output_type": "display_data"
    },
    {
     "name": "stderr",
     "output_type": "stream",
     "text": [
      "C:\\Users\\babaina_mv\\Anaconda3\\lib\\site-packages\\seaborn\\distributions.py:2557: FutureWarning: `distplot` is a deprecated function and will be removed in a future version. Please adapt your code to use either `displot` (a figure-level function with similar flexibility) or `histplot` (an axes-level function for histograms).\n",
      "  warnings.warn(msg, FutureWarning)\n"
     ]
    },
    {
     "data": {
      "image/png": "[encoded data removed]",
      "text/plain": [
       "<Figure size 432x288 with 1 Axes>"
      ]
     },
     "metadata": {
      "needs_background": "light"
     },
     "output_type": "display_data"
    },
    {
     "name": "stderr",
     "output_type": "stream",
     "text": [
      "C:\\Users\\babaina_mv\\Anaconda3\\lib\\site-packages\\seaborn\\distributions.py:2557: FutureWarning: `distplot` is a deprecated function and will be removed in a future version. Please adapt your code to use either `displot` (a figure-level function with similar flexibility) or `histplot` (an axes-level function for histograms).\n",
      "  warnings.warn(msg, FutureWarning)\n"
     ]
    },
    {
     "data": {
      "image/png": "[encoded data removed]",
      "text/plain": [
       "<Figure size 432x288 with 1 Axes>"
      ]
     },
     "metadata": {
      "needs_background": "light"
     },
     "output_type": "display_data"
    },
    {
     "name": "stderr",
     "output_type": "stream",
     "text": [
      "C:\\Users\\babaina_mv\\Anaconda3\\lib\\site-packages\\seaborn\\distributions.py:2557: FutureWarning: `distplot` is a deprecated function and will be removed in a future version. Please adapt your code to use either `displot` (a figure-level function with similar flexibility) or `histplot` (an axes-level function for histograms).\n",
      "  warnings.warn(msg, FutureWarning)\n"
     ]
    },
    {
     "data": {
      "image/png": "[encoded data removed]",
      "text/plain": [
       "<Figure size 432x288 with 1 Axes>"
      ]
     },
     "metadata": {
      "needs_background": "light"
     },
     "output_type": "display_data"
    }
   ],
   "source": [
    "for i in num_f:\n",
    "    plt.figure()\n",
    "    sns.distplot(data_full[i])\n",
    "    plt.title(i)\n",
    "    plt.show()"
   ]
  },
  {
   "cell_type": "markdown",
   "metadata": {},
   "source": [
    "Видим, что распределения у признаков близки к нормальным, справа или слева имеются длинные хвосты.  \n",
    "Посмотрим на выбросы"
   ]
  },
  {
   "cell_type": "code",
   "execution_count": 699,
   "metadata": {},
   "outputs": [
    {
     "data": {
      "text/plain": [
       "<AxesSubplot:>"
      ]
     },
     "execution_count": 699,
     "metadata": {},
     "output_type": "execute_result"
    },
    {
     "data": {
      "image/png": "[encoded data removed]",
      "text/plain": [
       "<Figure size 720x432 with 2 Axes>"
      ]
     },
     "metadata": {
      "needs_background": "light"
     },
     "output_type": "display_data"
    }
   ],
   "source": [
    "# Посмотрим корреляцию числовых признаков\n",
    "plt.figure(figsize=(10, 6))\n",
    "sns.heatmap(data_full[data_full['sample_'] == 0][num_f + ['price']].corr(), annot=True)"
   ]
  },
  {
   "cell_type": "markdown",
   "metadata": {},
   "source": [
    "Выводы по рассмотрению корреляции числовых признаков:  \n",
    "  +0.86 между мощностью и объемом двигателя  \n",
    "  -0.73 между пробегом и годом производства, пока оставим. Можно создать новый признак пробег/возраст\n",
    "  \n",
    "  Удаляем один признак - engineDisplacement"
   ]
  },
  {
   "cell_type": "code",
   "execution_count": 700,
   "metadata": {},
   "outputs": [],
   "source": [
    "data_full = data_full.drop(['engineDisplacement'], axis = 1)\n",
    "num_f = ['productionDate', 'mileage', 'enginePower']"
   ]
  },
  {
   "cell_type": "markdown",
   "metadata": {},
   "source": [
    "# Feature Engineering"
   ]
  },
  {
   "cell_type": "markdown",
   "metadata": {},
   "source": [
    "Создадим два бинарных категориальных признака, которые могут повлиять на стоимость автомобиля:  \n",
    "'allroad' - будет отражать наличие полного привода  \n",
    "'luxury' - будет отражать премиальность бренда"
   ]
  },
  {
   "cell_type": "code",
   "execution_count": 701,
   "metadata": {},
   "outputs": [],
   "source": [
    "data_full['luxury'] = data_full['brand'].apply(lambda x: 1 if x in ['BMW','MERCEDES','LEXUS','INFINITI'] else 0)\n",
    "cat_f.append('luxury')"
   ]
  },
  {
   "cell_type": "code",
   "execution_count": 702,
   "metadata": {},
   "outputs": [],
   "source": [
    "data_full['allroad'] = data_full['Привод'].apply(lambda x: 1 if x.split('_')[0] == 'полный' else 0)\n",
    "cat_f.append('allroad')"
   ]
  },
  {
   "cell_type": "markdown",
   "metadata": {},
   "source": [
    "Создадим полиномиальные новые признаки на основе двух числовых 'productionDate' и 'enginePower' и нормируем их"
   ]
  },
  {
   "cell_type": "markdown",
   "metadata": {},
   "source": [
    "pf = PolynomialFeatures(3)\n",
    "poly_features = pf.fit_transform(data_full[[ 'productionDate', 'enginePower']])\n",
    "poly = pd.DataFrame(poly_features).drop([0,1,2,3,4,6,8], axis = 1)\n",
    "poly.columns = ['date_power5', 'date_power7', 'date_power9']\n",
    "\n",
    "for col in list(poly.columns):\n",
    "    col_max = poly[col].max()    \n",
    "    poly[col] = poly[col].apply(lambda x: int(round(x/col_max*100000, 0)))\n",
    "    \n",
    "data_full = pd.concat([data_full, poly], axis=1)\n",
    "num_f = num_f + list(poly.columns)"
   ]
  },
  {
   "cell_type": "code",
   "execution_count": 703,
   "metadata": {},
   "outputs": [
    {
     "data": {
      "text/plain": [
       "<AxesSubplot:>"
      ]
     },
     "execution_count": 703,
     "metadata": {},
     "output_type": "execute_result"
    },
    {
     "data": {
      "image/png": "[encoded data removed]",
      "text/plain": [
       "<Figure size 432x288 with 1 Axes>"
      ]
     },
     "metadata": {
      "needs_background": "light"
     },
     "output_type": "display_data"
    }
   ],
   "source": [
    "#Оценим значимость числовых переменных\n",
    "imp_num = Series(f_classif(data_full[num_f][data_full['sample_'] == 0], data_full[data_full['sample_'] == 0]['price'])[0], \n",
    "                 index = num_f)\n",
    "imp_num.sort_values(inplace = True)\n",
    "imp_num.plot(kind = 'barh')"
   ]
  },
  {
   "cell_type": "markdown",
   "metadata": {},
   "source": [
    "наиболее важный признак для предсказания - это productionDate, а наименее - mileage"
   ]
  },
  {
   "cell_type": "code",
   "execution_count": 704,
   "metadata": {},
   "outputs": [
    {
     "name": "stdout",
     "output_type": "stream",
     "text": [
      "<class 'pandas.core.frame.DataFrame'>\n",
      "Int64Index: 119869 entries, 0 to 121789\n",
      "Data columns (total 18 columns):\n",
      " #   Column               Non-Null Count   Dtype  \n",
      "---  ------               --------------   -----  \n",
      " 0   productionDate       119869 non-null  float64\n",
      " 1   mileage              119869 non-null  int64  \n",
      " 2   enginePower          119869 non-null  int64  \n",
      " 3   bodyType             119869 non-null  object \n",
      " 4   brand                119869 non-null  object \n",
      " 5   color                119869 non-null  object \n",
      " 6   fuelType             119869 non-null  object \n",
      " 7   model_name           119869 non-null  object \n",
      " 8   Привод               119869 non-null  object \n",
      " 9   Руль                 119869 non-null  object \n",
      " 10  vehicleTransmission  119869 non-null  object \n",
      " 11  Владельцы            119869 non-null  object \n",
      " 12  ПТС                  119869 non-null  object \n",
      " 13  Состояние            119869 non-null  object \n",
      " 14  price                85183 non-null   float64\n",
      " 15  sample_              119869 non-null  int64  \n",
      " 16  luxury               119869 non-null  int64  \n",
      " 17  allroad              119869 non-null  int64  \n",
      "dtypes: float64(2), int64(5), object(11)\n",
      "memory usage: 21.4+ MB\n"
     ]
    }
   ],
   "source": [
    "data_full.info()"
   ]
  },
  {
   "cell_type": "markdown",
   "metadata": {},
   "source": [
    "# 5. Label Encoding"
   ]
  },
  {
   "cell_type": "code",
   "execution_count": 705,
   "metadata": {},
   "outputs": [],
   "source": [
    "# Кодируем категориальные признаки\n",
    "label_encoder = LabelEncoder()\n",
    "for column in cat_f:\n",
    "    data_full[column] = label_encoder.fit_transform(data_full[column])"
   ]
  },
  {
   "cell_type": "code",
   "execution_count": 706,
   "metadata": {},
   "outputs": [
    {
     "data": {
      "text/plain": [
       "<AxesSubplot:>"
      ]
     },
     "execution_count": 706,
     "metadata": {},
     "output_type": "execute_result"
    },
    {
     "data": {
      "image/png": "[encoded data removed]",
      "text/plain": [
       "<Figure size 432x288 with 1 Axes>"
      ]
     },
     "metadata": {
      "needs_background": "light"
     },
     "output_type": "display_data"
    }
   ],
   "source": [
    "#Посмотрим значимость\n",
    "imp_cat = Series(mutual_info_classif(data_full[data_full.sample_ == 0][cat_f], data_full[data_full.sample_ == 0]['price'],\n",
    "                                     discrete_features =True), index = cat_f)\n",
    "imp_cat.sort_values(inplace = True)\n",
    "imp_cat.plot(kind = 'barh')"
   ]
  },
  {
   "cell_type": "markdown",
   "metadata": {},
   "source": [
    "Самым значимым признаком оказался model_name, наименее - Состояние и luxury"
   ]
  },
  {
   "cell_type": "code",
   "execution_count": 707,
   "metadata": {},
   "outputs": [],
   "source": [
    "#сделаем копию датасета\n",
    "df = data_full.copy()"
   ]
  },
  {
   "cell_type": "code",
   "execution_count": 708,
   "metadata": {},
   "outputs": [],
   "source": [
    "#Произведем Label-encoding категориальных переменных\n",
    "label_encoder = LabelEncoder()\n",
    "for column in cat_f:\n",
    "    df[column] = label_encoder.fit_transform(df[column])"
   ]
  },
  {
   "cell_type": "markdown",
   "metadata": {},
   "source": [
    "Проверим, есть ли статистическая разница в распределении оценок по номинативным признакам, с помощью теста Стьюдента. Проверим нулевую гипотезу о том, что распределения цены по различным параметрам неразличимы"
   ]
  },
  {
   "cell_type": "code",
   "execution_count": 594,
   "metadata": {},
   "outputs": [
    {
     "name": "stderr",
     "output_type": "stream",
     "text": [
      "C:\\Users\\babaina_mv\\Anaconda3\\lib\\site-packages\\numpy\\core\\fromnumeric.py:3702: RuntimeWarning: Degrees of freedom <= 0 for slice\n",
      "  return _methods._var(a, axis=axis, dtype=dtype, out=out, ddof=ddof,\n",
      "C:\\Users\\babaina_mv\\Anaconda3\\lib\\site-packages\\numpy\\core\\fromnumeric.py:3702: RuntimeWarning: Degrees of freedom <= 0 for slice\n",
      "  return _methods._var(a, axis=axis, dtype=dtype, out=out, ddof=ddof,\n",
      "C:\\Users\\babaina_mv\\Anaconda3\\lib\\site-packages\\numpy\\core\\fromnumeric.py:3702: RuntimeWarning: Degrees of freedom <= 0 for slice\n",
      "  return _methods._var(a, axis=axis, dtype=dtype, out=out, ddof=ddof,\n",
      "C:\\Users\\babaina_mv\\Anaconda3\\lib\\site-packages\\numpy\\core\\fromnumeric.py:3702: RuntimeWarning: Degrees of freedom <= 0 for slice\n",
      "  return _methods._var(a, axis=axis, dtype=dtype, out=out, ddof=ddof,\n",
      "C:\\Users\\babaina_mv\\Anaconda3\\lib\\site-packages\\numpy\\core\\fromnumeric.py:3702: RuntimeWarning: Degrees of freedom <= 0 for slice\n",
      "  return _methods._var(a, axis=axis, dtype=dtype, out=out, ddof=ddof,\n",
      "C:\\Users\\babaina_mv\\Anaconda3\\lib\\site-packages\\numpy\\core\\fromnumeric.py:3702: RuntimeWarning: Degrees of freedom <= 0 for slice\n",
      "  return _methods._var(a, axis=axis, dtype=dtype, out=out, ddof=ddof,\n",
      "C:\\Users\\babaina_mv\\Anaconda3\\lib\\site-packages\\numpy\\core\\fromnumeric.py:3702: RuntimeWarning: Degrees of freedom <= 0 for slice\n",
      "  return _methods._var(a, axis=axis, dtype=dtype, out=out, ddof=ddof,\n",
      "C:\\Users\\babaina_mv\\Anaconda3\\lib\\site-packages\\numpy\\core\\fromnumeric.py:3702: RuntimeWarning: Degrees of freedom <= 0 for slice\n",
      "  return _methods._var(a, axis=axis, dtype=dtype, out=out, ddof=ddof,\n",
      "C:\\Users\\babaina_mv\\Anaconda3\\lib\\site-packages\\numpy\\core\\fromnumeric.py:3702: RuntimeWarning: Degrees of freedom <= 0 for slice\n",
      "  return _methods._var(a, axis=axis, dtype=dtype, out=out, ddof=ddof,\n",
      "C:\\Users\\babaina_mv\\Anaconda3\\lib\\site-packages\\numpy\\core\\_methods.py:253: RuntimeWarning: invalid value encountered in double_scalars\n",
      "  ret = ret.dtype.type(ret / rcount)\n",
      "C:\\Users\\babaina_mv\\Anaconda3\\lib\\site-packages\\numpy\\core\\fromnumeric.py:3702: RuntimeWarning: Degrees of freedom <= 0 for slice\n",
      "  return _methods._var(a, axis=axis, dtype=dtype, out=out, ddof=ddof,\n",
      "C:\\Users\\babaina_mv\\Anaconda3\\lib\\site-packages\\numpy\\core\\_methods.py:253: RuntimeWarning: invalid value encountered in double_scalars\n",
      "  ret = ret.dtype.type(ret / rcount)\n",
      "C:\\Users\\babaina_mv\\Anaconda3\\lib\\site-packages\\numpy\\core\\fromnumeric.py:3702: RuntimeWarning: Degrees of freedom <= 0 for slice\n",
      "  return _methods._var(a, axis=axis, dtype=dtype, out=out, ddof=ddof,\n",
      "C:\\Users\\babaina_mv\\Anaconda3\\lib\\site-packages\\numpy\\core\\fromnumeric.py:3702: RuntimeWarning: Degrees of freedom <= 0 for slice\n",
      "  return _methods._var(a, axis=axis, dtype=dtype, out=out, ddof=ddof,\n",
      "C:\\Users\\babaina_mv\\Anaconda3\\lib\\site-packages\\numpy\\core\\_methods.py:253: RuntimeWarning: invalid value encountered in double_scalars\n",
      "  ret = ret.dtype.type(ret / rcount)\n",
      "C:\\Users\\babaina_mv\\Anaconda3\\lib\\site-packages\\numpy\\core\\fromnumeric.py:3702: RuntimeWarning: Degrees of freedom <= 0 for slice\n",
      "  return _methods._var(a, axis=axis, dtype=dtype, out=out, ddof=ddof,\n",
      "C:\\Users\\babaina_mv\\Anaconda3\\lib\\site-packages\\numpy\\core\\_methods.py:253: RuntimeWarning: invalid value encountered in double_scalars\n",
      "  ret = ret.dtype.type(ret / rcount)\n",
      "C:\\Users\\babaina_mv\\Anaconda3\\lib\\site-packages\\numpy\\core\\fromnumeric.py:3702: RuntimeWarning: Degrees of freedom <= 0 for slice\n",
      "  return _methods._var(a, axis=axis, dtype=dtype, out=out, ddof=ddof,\n",
      "C:\\Users\\babaina_mv\\Anaconda3\\lib\\site-packages\\numpy\\core\\_methods.py:253: RuntimeWarning: invalid value encountered in double_scalars\n",
      "  ret = ret.dtype.type(ret / rcount)\n",
      "C:\\Users\\babaina_mv\\Anaconda3\\lib\\site-packages\\numpy\\core\\fromnumeric.py:3702: RuntimeWarning: Degrees of freedom <= 0 for slice\n",
      "  return _methods._var(a, axis=axis, dtype=dtype, out=out, ddof=ddof,\n",
      "C:\\Users\\babaina_mv\\Anaconda3\\lib\\site-packages\\numpy\\core\\_methods.py:253: RuntimeWarning: invalid value encountered in double_scalars\n",
      "  ret = ret.dtype.type(ret / rcount)\n",
      "C:\\Users\\babaina_mv\\Anaconda3\\lib\\site-packages\\numpy\\core\\fromnumeric.py:3702: RuntimeWarning: Degrees of freedom <= 0 for slice\n",
      "  return _methods._var(a, axis=axis, dtype=dtype, out=out, ddof=ddof,\n",
      "C:\\Users\\babaina_mv\\Anaconda3\\lib\\site-packages\\numpy\\core\\_methods.py:253: RuntimeWarning: invalid value encountered in double_scalars\n",
      "  ret = ret.dtype.type(ret / rcount)\n",
      "C:\\Users\\babaina_mv\\Anaconda3\\lib\\site-packages\\numpy\\core\\fromnumeric.py:3702: RuntimeWarning: Degrees of freedom <= 0 for slice\n",
      "  return _methods._var(a, axis=axis, dtype=dtype, out=out, ddof=ddof,\n",
      "C:\\Users\\babaina_mv\\Anaconda3\\lib\\site-packages\\numpy\\core\\fromnumeric.py:3702: RuntimeWarning: Degrees of freedom <= 0 for slice\n",
      "  return _methods._var(a, axis=axis, dtype=dtype, out=out, ddof=ddof,\n",
      "C:\\Users\\babaina_mv\\Anaconda3\\lib\\site-packages\\numpy\\core\\_methods.py:253: RuntimeWarning: invalid value encountered in double_scalars\n",
      "  ret = ret.dtype.type(ret / rcount)\n",
      "C:\\Users\\babaina_mv\\Anaconda3\\lib\\site-packages\\numpy\\core\\fromnumeric.py:3702: RuntimeWarning: Degrees of freedom <= 0 for slice\n",
      "  return _methods._var(a, axis=axis, dtype=dtype, out=out, ddof=ddof,\n",
      "C:\\Users\\babaina_mv\\Anaconda3\\lib\\site-packages\\numpy\\core\\_methods.py:253: RuntimeWarning: invalid value encountered in double_scalars\n",
      "  ret = ret.dtype.type(ret / rcount)\n",
      "C:\\Users\\babaina_mv\\Anaconda3\\lib\\site-packages\\numpy\\core\\fromnumeric.py:3702: RuntimeWarning: Degrees of freedom <= 0 for slice\n",
      "  return _methods._var(a, axis=axis, dtype=dtype, out=out, ddof=ddof,\n",
      "C:\\Users\\babaina_mv\\Anaconda3\\lib\\site-packages\\numpy\\core\\fromnumeric.py:3702: RuntimeWarning: Degrees of freedom <= 0 for slice\n",
      "  return _methods._var(a, axis=axis, dtype=dtype, out=out, ddof=ddof,\n",
      "C:\\Users\\babaina_mv\\Anaconda3\\lib\\site-packages\\numpy\\core\\fromnumeric.py:3702: RuntimeWarning: Degrees of freedom <= 0 for slice\n",
      "  return _methods._var(a, axis=axis, dtype=dtype, out=out, ddof=ddof,\n",
      "C:\\Users\\babaina_mv\\Anaconda3\\lib\\site-packages\\numpy\\core\\fromnumeric.py:3702: RuntimeWarning: Degrees of freedom <= 0 for slice\n",
      "  return _methods._var(a, axis=axis, dtype=dtype, out=out, ddof=ddof,\n",
      "C:\\Users\\babaina_mv\\Anaconda3\\lib\\site-packages\\numpy\\core\\fromnumeric.py:3702: RuntimeWarning: Degrees of freedom <= 0 for slice\n",
      "  return _methods._var(a, axis=axis, dtype=dtype, out=out, ddof=ddof,\n",
      "C:\\Users\\babaina_mv\\Anaconda3\\lib\\site-packages\\numpy\\core\\fromnumeric.py:3702: RuntimeWarning: Degrees of freedom <= 0 for slice\n",
      "  return _methods._var(a, axis=axis, dtype=dtype, out=out, ddof=ddof,\n",
      "C:\\Users\\babaina_mv\\Anaconda3\\lib\\site-packages\\numpy\\core\\_methods.py:253: RuntimeWarning: invalid value encountered in double_scalars\n",
      "  ret = ret.dtype.type(ret / rcount)\n",
      "C:\\Users\\babaina_mv\\Anaconda3\\lib\\site-packages\\numpy\\core\\fromnumeric.py:3702: RuntimeWarning: Degrees of freedom <= 0 for slice\n",
      "  return _methods._var(a, axis=axis, dtype=dtype, out=out, ddof=ddof,\n",
      "C:\\Users\\babaina_mv\\Anaconda3\\lib\\site-packages\\numpy\\core\\_methods.py:253: RuntimeWarning: invalid value encountered in double_scalars\n",
      "  ret = ret.dtype.type(ret / rcount)\n",
      "C:\\Users\\babaina_mv\\Anaconda3\\lib\\site-packages\\numpy\\core\\fromnumeric.py:3702: RuntimeWarning: Degrees of freedom <= 0 for slice\n",
      "  return _methods._var(a, axis=axis, dtype=dtype, out=out, ddof=ddof,\n",
      "C:\\Users\\babaina_mv\\Anaconda3\\lib\\site-packages\\numpy\\core\\_methods.py:253: RuntimeWarning: invalid value encountered in double_scalars\n",
      "  ret = ret.dtype.type(ret / rcount)\n",
      "C:\\Users\\babaina_mv\\Anaconda3\\lib\\site-packages\\numpy\\core\\fromnumeric.py:3702: RuntimeWarning: Degrees of freedom <= 0 for slice\n",
      "  return _methods._var(a, axis=axis, dtype=dtype, out=out, ddof=ddof,\n",
      "C:\\Users\\babaina_mv\\Anaconda3\\lib\\site-packages\\numpy\\core\\_methods.py:253: RuntimeWarning: invalid value encountered in double_scalars\n",
      "  ret = ret.dtype.type(ret / rcount)\n",
      "C:\\Users\\babaina_mv\\Anaconda3\\lib\\site-packages\\numpy\\core\\fromnumeric.py:3702: RuntimeWarning: Degrees of freedom <= 0 for slice\n",
      "  return _methods._var(a, axis=axis, dtype=dtype, out=out, ddof=ddof,\n",
      "C:\\Users\\babaina_mv\\Anaconda3\\lib\\site-packages\\numpy\\core\\_methods.py:253: RuntimeWarning: invalid value encountered in double_scalars\n",
      "  ret = ret.dtype.type(ret / rcount)\n",
      "C:\\Users\\babaina_mv\\Anaconda3\\lib\\site-packages\\numpy\\core\\fromnumeric.py:3702: RuntimeWarning: Degrees of freedom <= 0 for slice\n",
      "  return _methods._var(a, axis=axis, dtype=dtype, out=out, ddof=ddof,\n",
      "C:\\Users\\babaina_mv\\Anaconda3\\lib\\site-packages\\numpy\\core\\fromnumeric.py:3702: RuntimeWarning: Degrees of freedom <= 0 for slice\n",
      "  return _methods._var(a, axis=axis, dtype=dtype, out=out, ddof=ddof,\n",
      "C:\\Users\\babaina_mv\\Anaconda3\\lib\\site-packages\\numpy\\core\\fromnumeric.py:3702: RuntimeWarning: Degrees of freedom <= 0 for slice\n",
      "  return _methods._var(a, axis=axis, dtype=dtype, out=out, ddof=ddof,\n",
      "C:\\Users\\babaina_mv\\Anaconda3\\lib\\site-packages\\numpy\\core\\fromnumeric.py:3702: RuntimeWarning: Degrees of freedom <= 0 for slice\n",
      "  return _methods._var(a, axis=axis, dtype=dtype, out=out, ddof=ddof,\n",
      "C:\\Users\\babaina_mv\\Anaconda3\\lib\\site-packages\\numpy\\core\\fromnumeric.py:3702: RuntimeWarning: Degrees of freedom <= 0 for slice\n",
      "  return _methods._var(a, axis=axis, dtype=dtype, out=out, ddof=ddof,\n",
      "C:\\Users\\babaina_mv\\Anaconda3\\lib\\site-packages\\numpy\\core\\fromnumeric.py:3702: RuntimeWarning: Degrees of freedom <= 0 for slice\n",
      "  return _methods._var(a, axis=axis, dtype=dtype, out=out, ddof=ddof,\n",
      "C:\\Users\\babaina_mv\\Anaconda3\\lib\\site-packages\\numpy\\core\\fromnumeric.py:3702: RuntimeWarning: Degrees of freedom <= 0 for slice\n",
      "  return _methods._var(a, axis=axis, dtype=dtype, out=out, ddof=ddof,\n",
      "C:\\Users\\babaina_mv\\Anaconda3\\lib\\site-packages\\numpy\\core\\fromnumeric.py:3702: RuntimeWarning: Degrees of freedom <= 0 for slice\n",
      "  return _methods._var(a, axis=axis, dtype=dtype, out=out, ddof=ddof,\n",
      "C:\\Users\\babaina_mv\\Anaconda3\\lib\\site-packages\\numpy\\core\\fromnumeric.py:3702: RuntimeWarning: Degrees of freedom <= 0 for slice\n",
      "  return _methods._var(a, axis=axis, dtype=dtype, out=out, ddof=ddof,\n",
      "C:\\Users\\babaina_mv\\Anaconda3\\lib\\site-packages\\numpy\\core\\fromnumeric.py:3702: RuntimeWarning: Degrees of freedom <= 0 for slice\n",
      "  return _methods._var(a, axis=axis, dtype=dtype, out=out, ddof=ddof,\n",
      "C:\\Users\\babaina_mv\\Anaconda3\\lib\\site-packages\\numpy\\core\\fromnumeric.py:3702: RuntimeWarning: Degrees of freedom <= 0 for slice\n",
      "  return _methods._var(a, axis=axis, dtype=dtype, out=out, ddof=ddof,\n",
      "C:\\Users\\babaina_mv\\Anaconda3\\lib\\site-packages\\numpy\\core\\fromnumeric.py:3702: RuntimeWarning: Degrees of freedom <= 0 for slice\n",
      "  return _methods._var(a, axis=axis, dtype=dtype, out=out, ddof=ddof,\n",
      "C:\\Users\\babaina_mv\\Anaconda3\\lib\\site-packages\\numpy\\core\\fromnumeric.py:3702: RuntimeWarning: Degrees of freedom <= 0 for slice\n",
      "  return _methods._var(a, axis=axis, dtype=dtype, out=out, ddof=ddof,\n",
      "C:\\Users\\babaina_mv\\Anaconda3\\lib\\site-packages\\numpy\\core\\fromnumeric.py:3702: RuntimeWarning: Degrees of freedom <= 0 for slice\n",
      "  return _methods._var(a, axis=axis, dtype=dtype, out=out, ddof=ddof,\n",
      "C:\\Users\\babaina_mv\\Anaconda3\\lib\\site-packages\\numpy\\core\\fromnumeric.py:3702: RuntimeWarning: Degrees of freedom <= 0 for slice\n",
      "  return _methods._var(a, axis=axis, dtype=dtype, out=out, ddof=ddof,\n",
      "C:\\Users\\babaina_mv\\Anaconda3\\lib\\site-packages\\numpy\\core\\fromnumeric.py:3702: RuntimeWarning: Degrees of freedom <= 0 for slice\n",
      "  return _methods._var(a, axis=axis, dtype=dtype, out=out, ddof=ddof,\n",
      "C:\\Users\\babaina_mv\\Anaconda3\\lib\\site-packages\\numpy\\core\\fromnumeric.py:3702: RuntimeWarning: Degrees of freedom <= 0 for slice\n",
      "  return _methods._var(a, axis=axis, dtype=dtype, out=out, ddof=ddof,\n",
      "C:\\Users\\babaina_mv\\Anaconda3\\lib\\site-packages\\numpy\\core\\fromnumeric.py:3702: RuntimeWarning: Degrees of freedom <= 0 for slice\n",
      "  return _methods._var(a, axis=axis, dtype=dtype, out=out, ddof=ddof,\n",
      "C:\\Users\\babaina_mv\\Anaconda3\\lib\\site-packages\\numpy\\core\\fromnumeric.py:3702: RuntimeWarning: Degrees of freedom <= 0 for slice\n",
      "  return _methods._var(a, axis=axis, dtype=dtype, out=out, ddof=ddof,\n"
     ]
    },
    {
     "name": "stderr",
     "output_type": "stream",
     "text": [
      "C:\\Users\\babaina_mv\\Anaconda3\\lib\\site-packages\\numpy\\core\\fromnumeric.py:3702: RuntimeWarning: Degrees of freedom <= 0 for slice\n",
      "  return _methods._var(a, axis=axis, dtype=dtype, out=out, ddof=ddof,\n",
      "C:\\Users\\babaina_mv\\Anaconda3\\lib\\site-packages\\numpy\\core\\fromnumeric.py:3702: RuntimeWarning: Degrees of freedom <= 0 for slice\n",
      "  return _methods._var(a, axis=axis, dtype=dtype, out=out, ddof=ddof,\n",
      "C:\\Users\\babaina_mv\\Anaconda3\\lib\\site-packages\\numpy\\core\\fromnumeric.py:3702: RuntimeWarning: Degrees of freedom <= 0 for slice\n",
      "  return _methods._var(a, axis=axis, dtype=dtype, out=out, ddof=ddof,\n",
      "C:\\Users\\babaina_mv\\Anaconda3\\lib\\site-packages\\numpy\\core\\fromnumeric.py:3702: RuntimeWarning: Degrees of freedom <= 0 for slice\n",
      "  return _methods._var(a, axis=axis, dtype=dtype, out=out, ddof=ddof,\n",
      "C:\\Users\\babaina_mv\\Anaconda3\\lib\\site-packages\\numpy\\core\\fromnumeric.py:3702: RuntimeWarning: Degrees of freedom <= 0 for slice\n",
      "  return _methods._var(a, axis=axis, dtype=dtype, out=out, ddof=ddof,\n",
      "C:\\Users\\babaina_mv\\Anaconda3\\lib\\site-packages\\numpy\\core\\fromnumeric.py:3702: RuntimeWarning: Degrees of freedom <= 0 for slice\n",
      "  return _methods._var(a, axis=axis, dtype=dtype, out=out, ddof=ddof,\n",
      "C:\\Users\\babaina_mv\\Anaconda3\\lib\\site-packages\\numpy\\core\\fromnumeric.py:3702: RuntimeWarning: Degrees of freedom <= 0 for slice\n",
      "  return _methods._var(a, axis=axis, dtype=dtype, out=out, ddof=ddof,\n",
      "C:\\Users\\babaina_mv\\Anaconda3\\lib\\site-packages\\numpy\\core\\fromnumeric.py:3702: RuntimeWarning: Degrees of freedom <= 0 for slice\n",
      "  return _methods._var(a, axis=axis, dtype=dtype, out=out, ddof=ddof,\n",
      "C:\\Users\\babaina_mv\\Anaconda3\\lib\\site-packages\\numpy\\core\\fromnumeric.py:3702: RuntimeWarning: Degrees of freedom <= 0 for slice\n",
      "  return _methods._var(a, axis=axis, dtype=dtype, out=out, ddof=ddof,\n",
      "C:\\Users\\babaina_mv\\Anaconda3\\lib\\site-packages\\numpy\\core\\fromnumeric.py:3702: RuntimeWarning: Degrees of freedom <= 0 for slice\n",
      "  return _methods._var(a, axis=axis, dtype=dtype, out=out, ddof=ddof,\n",
      "C:\\Users\\babaina_mv\\Anaconda3\\lib\\site-packages\\numpy\\core\\fromnumeric.py:3702: RuntimeWarning: Degrees of freedom <= 0 for slice\n",
      "  return _methods._var(a, axis=axis, dtype=dtype, out=out, ddof=ddof,\n",
      "C:\\Users\\babaina_mv\\Anaconda3\\lib\\site-packages\\numpy\\core\\fromnumeric.py:3702: RuntimeWarning: Degrees of freedom <= 0 for slice\n",
      "  return _methods._var(a, axis=axis, dtype=dtype, out=out, ddof=ddof,\n",
      "C:\\Users\\babaina_mv\\Anaconda3\\lib\\site-packages\\numpy\\core\\fromnumeric.py:3702: RuntimeWarning: Degrees of freedom <= 0 for slice\n",
      "  return _methods._var(a, axis=axis, dtype=dtype, out=out, ddof=ddof,\n",
      "C:\\Users\\babaina_mv\\Anaconda3\\lib\\site-packages\\numpy\\core\\fromnumeric.py:3702: RuntimeWarning: Degrees of freedom <= 0 for slice\n",
      "  return _methods._var(a, axis=axis, dtype=dtype, out=out, ddof=ddof,\n",
      "C:\\Users\\babaina_mv\\Anaconda3\\lib\\site-packages\\numpy\\core\\fromnumeric.py:3702: RuntimeWarning: Degrees of freedom <= 0 for slice\n",
      "  return _methods._var(a, axis=axis, dtype=dtype, out=out, ddof=ddof,\n",
      "C:\\Users\\babaina_mv\\Anaconda3\\lib\\site-packages\\numpy\\core\\fromnumeric.py:3702: RuntimeWarning: Degrees of freedom <= 0 for slice\n",
      "  return _methods._var(a, axis=axis, dtype=dtype, out=out, ddof=ddof,\n",
      "C:\\Users\\babaina_mv\\Anaconda3\\lib\\site-packages\\numpy\\core\\fromnumeric.py:3702: RuntimeWarning: Degrees of freedom <= 0 for slice\n",
      "  return _methods._var(a, axis=axis, dtype=dtype, out=out, ddof=ddof,\n",
      "C:\\Users\\babaina_mv\\Anaconda3\\lib\\site-packages\\numpy\\core\\fromnumeric.py:3702: RuntimeWarning: Degrees of freedom <= 0 for slice\n",
      "  return _methods._var(a, axis=axis, dtype=dtype, out=out, ddof=ddof,\n",
      "C:\\Users\\babaina_mv\\Anaconda3\\lib\\site-packages\\numpy\\core\\fromnumeric.py:3702: RuntimeWarning: Degrees of freedom <= 0 for slice\n",
      "  return _methods._var(a, axis=axis, dtype=dtype, out=out, ddof=ddof,\n",
      "C:\\Users\\babaina_mv\\Anaconda3\\lib\\site-packages\\numpy\\core\\fromnumeric.py:3702: RuntimeWarning: Degrees of freedom <= 0 for slice\n",
      "  return _methods._var(a, axis=axis, dtype=dtype, out=out, ddof=ddof,\n",
      "C:\\Users\\babaina_mv\\Anaconda3\\lib\\site-packages\\numpy\\core\\fromnumeric.py:3702: RuntimeWarning: Degrees of freedom <= 0 for slice\n",
      "  return _methods._var(a, axis=axis, dtype=dtype, out=out, ddof=ddof,\n",
      "C:\\Users\\babaina_mv\\Anaconda3\\lib\\site-packages\\numpy\\core\\fromnumeric.py:3702: RuntimeWarning: Degrees of freedom <= 0 for slice\n",
      "  return _methods._var(a, axis=axis, dtype=dtype, out=out, ddof=ddof,\n",
      "C:\\Users\\babaina_mv\\Anaconda3\\lib\\site-packages\\numpy\\core\\fromnumeric.py:3702: RuntimeWarning: Degrees of freedom <= 0 for slice\n",
      "  return _methods._var(a, axis=axis, dtype=dtype, out=out, ddof=ddof,\n",
      "C:\\Users\\babaina_mv\\Anaconda3\\lib\\site-packages\\numpy\\core\\fromnumeric.py:3702: RuntimeWarning: Degrees of freedom <= 0 for slice\n",
      "  return _methods._var(a, axis=axis, dtype=dtype, out=out, ddof=ddof,\n",
      "C:\\Users\\babaina_mv\\Anaconda3\\lib\\site-packages\\numpy\\core\\fromnumeric.py:3702: RuntimeWarning: Degrees of freedom <= 0 for slice\n",
      "  return _methods._var(a, axis=axis, dtype=dtype, out=out, ddof=ddof,\n",
      "C:\\Users\\babaina_mv\\Anaconda3\\lib\\site-packages\\numpy\\core\\fromnumeric.py:3702: RuntimeWarning: Degrees of freedom <= 0 for slice\n",
      "  return _methods._var(a, axis=axis, dtype=dtype, out=out, ddof=ddof,\n",
      "C:\\Users\\babaina_mv\\Anaconda3\\lib\\site-packages\\numpy\\core\\fromnumeric.py:3702: RuntimeWarning: Degrees of freedom <= 0 for slice\n",
      "  return _methods._var(a, axis=axis, dtype=dtype, out=out, ddof=ddof,\n",
      "C:\\Users\\babaina_mv\\Anaconda3\\lib\\site-packages\\numpy\\core\\fromnumeric.py:3702: RuntimeWarning: Degrees of freedom <= 0 for slice\n",
      "  return _methods._var(a, axis=axis, dtype=dtype, out=out, ddof=ddof,\n",
      "C:\\Users\\babaina_mv\\Anaconda3\\lib\\site-packages\\numpy\\core\\fromnumeric.py:3702: RuntimeWarning: Degrees of freedom <= 0 for slice\n",
      "  return _methods._var(a, axis=axis, dtype=dtype, out=out, ddof=ddof,\n",
      "C:\\Users\\babaina_mv\\Anaconda3\\lib\\site-packages\\numpy\\core\\fromnumeric.py:3702: RuntimeWarning: Degrees of freedom <= 0 for slice\n",
      "  return _methods._var(a, axis=axis, dtype=dtype, out=out, ddof=ddof,\n",
      "C:\\Users\\babaina_mv\\Anaconda3\\lib\\site-packages\\numpy\\core\\fromnumeric.py:3702: RuntimeWarning: Degrees of freedom <= 0 for slice\n",
      "  return _methods._var(a, axis=axis, dtype=dtype, out=out, ddof=ddof,\n",
      "C:\\Users\\babaina_mv\\Anaconda3\\lib\\site-packages\\numpy\\core\\fromnumeric.py:3702: RuntimeWarning: Degrees of freedom <= 0 for slice\n",
      "  return _methods._var(a, axis=axis, dtype=dtype, out=out, ddof=ddof,\n",
      "C:\\Users\\babaina_mv\\Anaconda3\\lib\\site-packages\\numpy\\core\\fromnumeric.py:3702: RuntimeWarning: Degrees of freedom <= 0 for slice\n",
      "  return _methods._var(a, axis=axis, dtype=dtype, out=out, ddof=ddof,\n",
      "C:\\Users\\babaina_mv\\Anaconda3\\lib\\site-packages\\numpy\\core\\fromnumeric.py:3702: RuntimeWarning: Degrees of freedom <= 0 for slice\n",
      "  return _methods._var(a, axis=axis, dtype=dtype, out=out, ddof=ddof,\n",
      "C:\\Users\\babaina_mv\\Anaconda3\\lib\\site-packages\\numpy\\core\\fromnumeric.py:3702: RuntimeWarning: Degrees of freedom <= 0 for slice\n",
      "  return _methods._var(a, axis=axis, dtype=dtype, out=out, ddof=ddof,\n",
      "C:\\Users\\babaina_mv\\Anaconda3\\lib\\site-packages\\numpy\\core\\fromnumeric.py:3702: RuntimeWarning: Degrees of freedom <= 0 for slice\n",
      "  return _methods._var(a, axis=axis, dtype=dtype, out=out, ddof=ddof,\n",
      "C:\\Users\\babaina_mv\\Anaconda3\\lib\\site-packages\\numpy\\core\\fromnumeric.py:3702: RuntimeWarning: Degrees of freedom <= 0 for slice\n",
      "  return _methods._var(a, axis=axis, dtype=dtype, out=out, ddof=ddof,\n",
      "C:\\Users\\babaina_mv\\Anaconda3\\lib\\site-packages\\numpy\\core\\fromnumeric.py:3702: RuntimeWarning: Degrees of freedom <= 0 for slice\n",
      "  return _methods._var(a, axis=axis, dtype=dtype, out=out, ddof=ddof,\n",
      "C:\\Users\\babaina_mv\\Anaconda3\\lib\\site-packages\\numpy\\core\\fromnumeric.py:3702: RuntimeWarning: Degrees of freedom <= 0 for slice\n",
      "  return _methods._var(a, axis=axis, dtype=dtype, out=out, ddof=ddof,\n",
      "C:\\Users\\babaina_mv\\Anaconda3\\lib\\site-packages\\numpy\\core\\fromnumeric.py:3702: RuntimeWarning: Degrees of freedom <= 0 for slice\n",
      "  return _methods._var(a, axis=axis, dtype=dtype, out=out, ddof=ddof,\n",
      "C:\\Users\\babaina_mv\\Anaconda3\\lib\\site-packages\\numpy\\core\\fromnumeric.py:3702: RuntimeWarning: Degrees of freedom <= 0 for slice\n",
      "  return _methods._var(a, axis=axis, dtype=dtype, out=out, ddof=ddof,\n",
      "C:\\Users\\babaina_mv\\Anaconda3\\lib\\site-packages\\numpy\\core\\fromnumeric.py:3702: RuntimeWarning: Degrees of freedom <= 0 for slice\n",
      "  return _methods._var(a, axis=axis, dtype=dtype, out=out, ddof=ddof,\n",
      "C:\\Users\\babaina_mv\\Anaconda3\\lib\\site-packages\\numpy\\core\\fromnumeric.py:3702: RuntimeWarning: Degrees of freedom <= 0 for slice\n",
      "  return _methods._var(a, axis=axis, dtype=dtype, out=out, ddof=ddof,\n",
      "C:\\Users\\babaina_mv\\Anaconda3\\lib\\site-packages\\numpy\\core\\fromnumeric.py:3702: RuntimeWarning: Degrees of freedom <= 0 for slice\n",
      "  return _methods._var(a, axis=axis, dtype=dtype, out=out, ddof=ddof,\n",
      "C:\\Users\\babaina_mv\\Anaconda3\\lib\\site-packages\\numpy\\core\\fromnumeric.py:3702: RuntimeWarning: Degrees of freedom <= 0 for slice\n",
      "  return _methods._var(a, axis=axis, dtype=dtype, out=out, ddof=ddof,\n",
      "C:\\Users\\babaina_mv\\Anaconda3\\lib\\site-packages\\numpy\\core\\fromnumeric.py:3702: RuntimeWarning: Degrees of freedom <= 0 for slice\n",
      "  return _methods._var(a, axis=axis, dtype=dtype, out=out, ddof=ddof,\n",
      "C:\\Users\\babaina_mv\\Anaconda3\\lib\\site-packages\\numpy\\core\\fromnumeric.py:3702: RuntimeWarning: Degrees of freedom <= 0 for slice\n",
      "  return _methods._var(a, axis=axis, dtype=dtype, out=out, ddof=ddof,\n",
      "C:\\Users\\babaina_mv\\Anaconda3\\lib\\site-packages\\numpy\\core\\fromnumeric.py:3702: RuntimeWarning: Degrees of freedom <= 0 for slice\n",
      "  return _methods._var(a, axis=axis, dtype=dtype, out=out, ddof=ddof,\n",
      "C:\\Users\\babaina_mv\\Anaconda3\\lib\\site-packages\\numpy\\core\\fromnumeric.py:3702: RuntimeWarning: Degrees of freedom <= 0 for slice\n",
      "  return _methods._var(a, axis=axis, dtype=dtype, out=out, ddof=ddof,\n",
      "C:\\Users\\babaina_mv\\Anaconda3\\lib\\site-packages\\numpy\\core\\fromnumeric.py:3702: RuntimeWarning: Degrees of freedom <= 0 for slice\n",
      "  return _methods._var(a, axis=axis, dtype=dtype, out=out, ddof=ddof,\n",
      "C:\\Users\\babaina_mv\\Anaconda3\\lib\\site-packages\\numpy\\core\\fromnumeric.py:3702: RuntimeWarning: Degrees of freedom <= 0 for slice\n",
      "  return _methods._var(a, axis=axis, dtype=dtype, out=out, ddof=ddof,\n",
      "C:\\Users\\babaina_mv\\Anaconda3\\lib\\site-packages\\numpy\\core\\fromnumeric.py:3702: RuntimeWarning: Degrees of freedom <= 0 for slice\n",
      "  return _methods._var(a, axis=axis, dtype=dtype, out=out, ddof=ddof,\n",
      "C:\\Users\\babaina_mv\\Anaconda3\\lib\\site-packages\\numpy\\core\\fromnumeric.py:3702: RuntimeWarning: Degrees of freedom <= 0 for slice\n",
      "  return _methods._var(a, axis=axis, dtype=dtype, out=out, ddof=ddof,\n",
      "C:\\Users\\babaina_mv\\Anaconda3\\lib\\site-packages\\numpy\\core\\fromnumeric.py:3702: RuntimeWarning: Degrees of freedom <= 0 for slice\n",
      "  return _methods._var(a, axis=axis, dtype=dtype, out=out, ddof=ddof,\n",
      "C:\\Users\\babaina_mv\\Anaconda3\\lib\\site-packages\\numpy\\core\\fromnumeric.py:3702: RuntimeWarning: Degrees of freedom <= 0 for slice\n",
      "  return _methods._var(a, axis=axis, dtype=dtype, out=out, ddof=ddof,\n",
      "C:\\Users\\babaina_mv\\Anaconda3\\lib\\site-packages\\numpy\\core\\fromnumeric.py:3702: RuntimeWarning: Degrees of freedom <= 0 for slice\n",
      "  return _methods._var(a, axis=axis, dtype=dtype, out=out, ddof=ddof,\n",
      "C:\\Users\\babaina_mv\\Anaconda3\\lib\\site-packages\\numpy\\core\\fromnumeric.py:3702: RuntimeWarning: Degrees of freedom <= 0 for slice\n",
      "  return _methods._var(a, axis=axis, dtype=dtype, out=out, ddof=ddof,\n",
      "C:\\Users\\babaina_mv\\Anaconda3\\lib\\site-packages\\numpy\\core\\fromnumeric.py:3702: RuntimeWarning: Degrees of freedom <= 0 for slice\n",
      "  return _methods._var(a, axis=axis, dtype=dtype, out=out, ddof=ddof,\n",
      "C:\\Users\\babaina_mv\\Anaconda3\\lib\\site-packages\\numpy\\core\\fromnumeric.py:3702: RuntimeWarning: Degrees of freedom <= 0 for slice\n",
      "  return _methods._var(a, axis=axis, dtype=dtype, out=out, ddof=ddof,\n",
      "C:\\Users\\babaina_mv\\Anaconda3\\lib\\site-packages\\numpy\\core\\fromnumeric.py:3702: RuntimeWarning: Degrees of freedom <= 0 for slice\n",
      "  return _methods._var(a, axis=axis, dtype=dtype, out=out, ddof=ddof,\n",
      "C:\\Users\\babaina_mv\\Anaconda3\\lib\\site-packages\\numpy\\core\\fromnumeric.py:3702: RuntimeWarning: Degrees of freedom <= 0 for slice\n",
      "  return _methods._var(a, axis=axis, dtype=dtype, out=out, ddof=ddof,\n",
      "C:\\Users\\babaina_mv\\Anaconda3\\lib\\site-packages\\numpy\\core\\fromnumeric.py:3702: RuntimeWarning: Degrees of freedom <= 0 for slice\n",
      "  return _methods._var(a, axis=axis, dtype=dtype, out=out, ddof=ddof,\n",
      "C:\\Users\\babaina_mv\\Anaconda3\\lib\\site-packages\\numpy\\core\\fromnumeric.py:3702: RuntimeWarning: Degrees of freedom <= 0 for slice\n",
      "  return _methods._var(a, axis=axis, dtype=dtype, out=out, ddof=ddof,\n",
      "C:\\Users\\babaina_mv\\Anaconda3\\lib\\site-packages\\numpy\\core\\fromnumeric.py:3702: RuntimeWarning: Degrees of freedom <= 0 for slice\n",
      "  return _methods._var(a, axis=axis, dtype=dtype, out=out, ddof=ddof,\n",
      "C:\\Users\\babaina_mv\\Anaconda3\\lib\\site-packages\\numpy\\core\\fromnumeric.py:3702: RuntimeWarning: Degrees of freedom <= 0 for slice\n",
      "  return _methods._var(a, axis=axis, dtype=dtype, out=out, ddof=ddof,\n",
      "C:\\Users\\babaina_mv\\Anaconda3\\lib\\site-packages\\numpy\\core\\fromnumeric.py:3702: RuntimeWarning: Degrees of freedom <= 0 for slice\n",
      "  return _methods._var(a, axis=axis, dtype=dtype, out=out, ddof=ddof,\n",
      "C:\\Users\\babaina_mv\\Anaconda3\\lib\\site-packages\\numpy\\core\\fromnumeric.py:3702: RuntimeWarning: Degrees of freedom <= 0 for slice\n",
      "  return _methods._var(a, axis=axis, dtype=dtype, out=out, ddof=ddof,\n",
      "C:\\Users\\babaina_mv\\Anaconda3\\lib\\site-packages\\numpy\\core\\fromnumeric.py:3702: RuntimeWarning: Degrees of freedom <= 0 for slice\n",
      "  return _methods._var(a, axis=axis, dtype=dtype, out=out, ddof=ddof,\n",
      "C:\\Users\\babaina_mv\\Anaconda3\\lib\\site-packages\\numpy\\core\\fromnumeric.py:3702: RuntimeWarning: Degrees of freedom <= 0 for slice\n",
      "  return _methods._var(a, axis=axis, dtype=dtype, out=out, ddof=ddof,\n",
      "C:\\Users\\babaina_mv\\Anaconda3\\lib\\site-packages\\numpy\\core\\fromnumeric.py:3702: RuntimeWarning: Degrees of freedom <= 0 for slice\n",
      "  return _methods._var(a, axis=axis, dtype=dtype, out=out, ddof=ddof,\n",
      "C:\\Users\\babaina_mv\\Anaconda3\\lib\\site-packages\\numpy\\core\\fromnumeric.py:3702: RuntimeWarning: Degrees of freedom <= 0 for slice\n",
      "  return _methods._var(a, axis=axis, dtype=dtype, out=out, ddof=ddof,\n",
      "C:\\Users\\babaina_mv\\Anaconda3\\lib\\site-packages\\numpy\\core\\fromnumeric.py:3702: RuntimeWarning: Degrees of freedom <= 0 for slice\n",
      "  return _methods._var(a, axis=axis, dtype=dtype, out=out, ddof=ddof,\n",
      "C:\\Users\\babaina_mv\\Anaconda3\\lib\\site-packages\\numpy\\core\\fromnumeric.py:3702: RuntimeWarning: Degrees of freedom <= 0 for slice\n",
      "  return _methods._var(a, axis=axis, dtype=dtype, out=out, ddof=ddof,\n",
      "C:\\Users\\babaina_mv\\Anaconda3\\lib\\site-packages\\numpy\\core\\fromnumeric.py:3702: RuntimeWarning: Degrees of freedom <= 0 for slice\n",
      "  return _methods._var(a, axis=axis, dtype=dtype, out=out, ddof=ddof,\n",
      "C:\\Users\\babaina_mv\\Anaconda3\\lib\\site-packages\\numpy\\core\\fromnumeric.py:3702: RuntimeWarning: Degrees of freedom <= 0 for slice\n",
      "  return _methods._var(a, axis=axis, dtype=dtype, out=out, ddof=ddof,\n",
      "C:\\Users\\babaina_mv\\Anaconda3\\lib\\site-packages\\numpy\\core\\fromnumeric.py:3702: RuntimeWarning: Degrees of freedom <= 0 for slice\n",
      "  return _methods._var(a, axis=axis, dtype=dtype, out=out, ddof=ddof,\n",
      "C:\\Users\\babaina_mv\\Anaconda3\\lib\\site-packages\\numpy\\core\\fromnumeric.py:3702: RuntimeWarning: Degrees of freedom <= 0 for slice\n",
      "  return _methods._var(a, axis=axis, dtype=dtype, out=out, ddof=ddof,\n",
      "C:\\Users\\babaina_mv\\Anaconda3\\lib\\site-packages\\numpy\\core\\fromnumeric.py:3702: RuntimeWarning: Degrees of freedom <= 0 for slice\n",
      "  return _methods._var(a, axis=axis, dtype=dtype, out=out, ddof=ddof,\n",
      "C:\\Users\\babaina_mv\\Anaconda3\\lib\\site-packages\\numpy\\core\\fromnumeric.py:3702: RuntimeWarning: Degrees of freedom <= 0 for slice\n",
      "  return _methods._var(a, axis=axis, dtype=dtype, out=out, ddof=ddof,\n",
      "C:\\Users\\babaina_mv\\Anaconda3\\lib\\site-packages\\numpy\\core\\fromnumeric.py:3702: RuntimeWarning: Degrees of freedom <= 0 for slice\n",
      "  return _methods._var(a, axis=axis, dtype=dtype, out=out, ddof=ddof,\n",
      "C:\\Users\\babaina_mv\\Anaconda3\\lib\\site-packages\\numpy\\core\\fromnumeric.py:3702: RuntimeWarning: Degrees of freedom <= 0 for slice\n",
      "  return _methods._var(a, axis=axis, dtype=dtype, out=out, ddof=ddof,\n",
      "C:\\Users\\babaina_mv\\Anaconda3\\lib\\site-packages\\numpy\\core\\fromnumeric.py:3702: RuntimeWarning: Degrees of freedom <= 0 for slice\n",
      "  return _methods._var(a, axis=axis, dtype=dtype, out=out, ddof=ddof,\n",
      "C:\\Users\\babaina_mv\\Anaconda3\\lib\\site-packages\\numpy\\core\\fromnumeric.py:3702: RuntimeWarning: Degrees of freedom <= 0 for slice\n",
      "  return _methods._var(a, axis=axis, dtype=dtype, out=out, ddof=ddof,\n",
      "C:\\Users\\babaina_mv\\Anaconda3\\lib\\site-packages\\numpy\\core\\fromnumeric.py:3702: RuntimeWarning: Degrees of freedom <= 0 for slice\n",
      "  return _methods._var(a, axis=axis, dtype=dtype, out=out, ddof=ddof,\n",
      "C:\\Users\\babaina_mv\\Anaconda3\\lib\\site-packages\\numpy\\core\\fromnumeric.py:3702: RuntimeWarning: Degrees of freedom <= 0 for slice\n",
      "  return _methods._var(a, axis=axis, dtype=dtype, out=out, ddof=ddof,\n",
      "C:\\Users\\babaina_mv\\Anaconda3\\lib\\site-packages\\numpy\\core\\fromnumeric.py:3702: RuntimeWarning: Degrees of freedom <= 0 for slice\n",
      "  return _methods._var(a, axis=axis, dtype=dtype, out=out, ddof=ddof,\n",
      "C:\\Users\\babaina_mv\\Anaconda3\\lib\\site-packages\\numpy\\core\\fromnumeric.py:3702: RuntimeWarning: Degrees of freedom <= 0 for slice\n",
      "  return _methods._var(a, axis=axis, dtype=dtype, out=out, ddof=ddof,\n",
      "C:\\Users\\babaina_mv\\Anaconda3\\lib\\site-packages\\numpy\\core\\fromnumeric.py:3702: RuntimeWarning: Degrees of freedom <= 0 for slice\n",
      "  return _methods._var(a, axis=axis, dtype=dtype, out=out, ddof=ddof,\n",
      "C:\\Users\\babaina_mv\\Anaconda3\\lib\\site-packages\\numpy\\core\\fromnumeric.py:3702: RuntimeWarning: Degrees of freedom <= 0 for slice\n",
      "  return _methods._var(a, axis=axis, dtype=dtype, out=out, ddof=ddof,\n",
      "C:\\Users\\babaina_mv\\Anaconda3\\lib\\site-packages\\numpy\\core\\fromnumeric.py:3702: RuntimeWarning: Degrees of freedom <= 0 for slice\n",
      "  return _methods._var(a, axis=axis, dtype=dtype, out=out, ddof=ddof,\n",
      "C:\\Users\\babaina_mv\\Anaconda3\\lib\\site-packages\\numpy\\core\\fromnumeric.py:3702: RuntimeWarning: Degrees of freedom <= 0 for slice\n",
      "  return _methods._var(a, axis=axis, dtype=dtype, out=out, ddof=ddof,\n",
      "C:\\Users\\babaina_mv\\Anaconda3\\lib\\site-packages\\numpy\\core\\fromnumeric.py:3702: RuntimeWarning: Degrees of freedom <= 0 for slice\n",
      "  return _methods._var(a, axis=axis, dtype=dtype, out=out, ddof=ddof,\n",
      "C:\\Users\\babaina_mv\\Anaconda3\\lib\\site-packages\\numpy\\core\\fromnumeric.py:3702: RuntimeWarning: Degrees of freedom <= 0 for slice\n",
      "  return _methods._var(a, axis=axis, dtype=dtype, out=out, ddof=ddof,\n",
      "C:\\Users\\babaina_mv\\Anaconda3\\lib\\site-packages\\numpy\\core\\fromnumeric.py:3702: RuntimeWarning: Degrees of freedom <= 0 for slice\n",
      "  return _methods._var(a, axis=axis, dtype=dtype, out=out, ddof=ddof,\n",
      "C:\\Users\\babaina_mv\\Anaconda3\\lib\\site-packages\\numpy\\core\\fromnumeric.py:3702: RuntimeWarning: Degrees of freedom <= 0 for slice\n",
      "  return _methods._var(a, axis=axis, dtype=dtype, out=out, ddof=ddof,\n",
      "C:\\Users\\babaina_mv\\Anaconda3\\lib\\site-packages\\numpy\\core\\fromnumeric.py:3702: RuntimeWarning: Degrees of freedom <= 0 for slice\n",
      "  return _methods._var(a, axis=axis, dtype=dtype, out=out, ddof=ddof,\n"
     ]
    },
    {
     "name": "stdout",
     "output_type": "stream",
     "text": [
      "Найдены статистически значимые различия для колонки model_name\n"
     ]
    }
   ],
   "source": [
    "def get_stat_dif(column):\n",
    "    cols = df.loc[:, column].value_counts()\n",
    "    combinations_all = list(combinations(cols, 2))\n",
    "    for comb in combinations_all:\n",
    "        if stats.ttest_ind(df.loc[df.loc[:, column] == comb[0], 'price'], \n",
    "                        df.loc[df.loc[:, column] == comb[1], 'price']).pvalue \\\n",
    "            <= 0.05/len(combinations_all): # Учли поправку Бонферони\n",
    "            print('Найдены статистически значимые различия для колонки', column)\n",
    "            break\n",
    "            \n",
    "for col in cat_f:\n",
    "    get_stat_dif(col)"
   ]
  },
  {
   "cell_type": "code",
   "execution_count": 709,
   "metadata": {},
   "outputs": [],
   "source": [
    "#Так как число уникальных значений для поля model_name очень большое не включаем его в модель\n",
    "cat_f.remove('model_name')\n",
    "data_full.drop(columns=['model_name'], inplace=True)"
   ]
  },
  {
   "cell_type": "code",
   "execution_count": 710,
   "metadata": {},
   "outputs": [],
   "source": [
    "#Создадим дамми переменные\n",
    "data_full = pd.get_dummies(data_full, columns = cat_f)"
   ]
  },
  {
   "cell_type": "code",
   "execution_count": 711,
   "metadata": {},
   "outputs": [],
   "source": [
    "first_index_cat_f = data_full.columns.to_list().index('sample_')+1\n",
    "cat_f = data_full.columns[first_index_cat_f:].to_list()"
   ]
  },
  {
   "cell_type": "markdown",
   "metadata": {},
   "source": [
    "Выводы\n",
    "Спарсилось очень много дублей. Спарсенные данные не везде совпадают с тестовым датасетом, пришлось делать дополнительную обработку. В данных очень много категориальных признаков. Некоторые признаки несбалансированы."
   ]
  },
  {
   "cell_type": "markdown",
   "metadata": {},
   "source": [
    "# Обучение и моделирование"
   ]
  },
  {
   "cell_type": "code",
   "execution_count": 714,
   "metadata": {},
   "outputs": [],
   "source": [
    "#Сначала выделим тестовую и тренировочную части.\n",
    "data_train = data_full[data_full.sample_ == 0]\n",
    "data_test = data_full[data_full.sample_ == 1].drop(['price', 'sample_'], axis=1)"
   ]
  },
  {
   "cell_type": "code",
   "execution_count": 600,
   "metadata": {},
   "outputs": [],
   "source": [
    "#Делим данные на еще один тест и трейн, для валидации, чтобы проверить, как хорошо модель работает, до отправки submission на kaggle.\n",
    "X = data_train.drop(['price', 'sample_'], axis=1).values\n",
    "Y = data_train['price'].values\n",
    "\n",
    "X_train, X_test, y_train, y_test = train_test_split(X, Y, test_size=0.20, random_state=42)"
   ]
  },
  {
   "cell_type": "markdown",
   "metadata": {},
   "source": [
    "Model 1. \"Наивная\"  "
   ]
  },
  {
   "cell_type": "code",
   "execution_count": 604,
   "metadata": {},
   "outputs": [
    {
     "name": "stdout",
     "output_type": "stream",
     "text": [
      "Точность модели по метрике MAPE: 18.38%\n"
     ]
    }
   ],
   "source": [
    "lr = LinearRegression().fit(X_train, np.log(y_train+1))\n",
    "print(f\"Точность модели по метрике MAPE: {(mape(y_test, np.exp(lr.predict(X_test))))*100:0.2f}%\")\n",
    "VERSION = 1\n",
    "predict_test = np.exp(lr.predict(X_test))\n",
    "predict_submission = np.exp(lr.predict(data_test))"
   ]
  },
  {
   "cell_type": "markdown",
   "metadata": {},
   "source": [
    "Random forest"
   ]
  },
  {
   "cell_type": "code",
   "execution_count": 605,
   "metadata": {},
   "outputs": [
    {
     "name": "stderr",
     "output_type": "stream",
     "text": [
      "[Parallel(n_jobs=-1)]: Using backend ThreadingBackend with 12 concurrent workers.\n",
      "[Parallel(n_jobs=-1)]: Done  26 tasks      | elapsed:    2.3s\n",
      "[Parallel(n_jobs=-1)]: Done 100 out of 100 | elapsed:    7.1s finished\n",
      "[Parallel(n_jobs=12)]: Using backend ThreadingBackend with 12 concurrent workers.\n",
      "[Parallel(n_jobs=12)]: Done  26 tasks      | elapsed:    0.0s\n",
      "[Parallel(n_jobs=12)]: Done 100 out of 100 | elapsed:    0.0s finished\n",
      "[Parallel(n_jobs=12)]: Using backend ThreadingBackend with 12 concurrent workers.\n",
      "[Parallel(n_jobs=12)]: Done  26 tasks      | elapsed:    0.0s\n"
     ]
    },
    {
     "name": "stdout",
     "output_type": "stream",
     "text": [
      "Точность модели по метрике MAPE: 12.19%\n"
     ]
    },
    {
     "name": "stderr",
     "output_type": "stream",
     "text": [
      "[Parallel(n_jobs=12)]: Done 100 out of 100 | elapsed:    0.0s finished\n",
      "[Parallel(n_jobs=12)]: Using backend ThreadingBackend with 12 concurrent workers.\n",
      "[Parallel(n_jobs=12)]: Done  26 tasks      | elapsed:    0.0s\n",
      "[Parallel(n_jobs=12)]: Done 100 out of 100 | elapsed:    0.0s finished\n"
     ]
    }
   ],
   "source": [
    "rf = RandomForestRegressor(random_state = RANDOM_SEED, n_jobs = -1, verbose = 1).fit(X_train, np.log(y_train+1))\n",
    "print(f\"Точность модели по метрике MAPE: {(mape(y_test, np.exp(rf.predict(X_test))))*100:0.2f}%\")\n",
    "VERSION = 2\n",
    "predict_test = np.exp(rf.predict(X_test))\n",
    "predict_submission = np.exp(rf.predict(data_test))"
   ]
  },
  {
   "cell_type": "code",
   "execution_count": null,
   "metadata": {},
   "outputs": [
    {
     "name": "stdout",
     "output_type": "stream",
     "text": [
      "Fitting 3 folds for each of 100 candidates, totalling 300 fits\n"
     ]
    }
   ],
   "source": [
    "# Подбор параметров для Random forest\n",
    "random_grid = {'n_estimators': [int(x) for x in np.linspace(start = 200, stop = 2000, num = 10)],\n",
    "               'max_features': ['auto', 'sqrt'],\n",
    "               'max_depth': [int(x) for x in np.linspace(10, 110, num = 11)],\n",
    "               'min_samples_split': [2, 5, 10],\n",
    "               'min_samples_leaf': [1, 2, 4],\n",
    "               'bootstrap': [True, False]}\n",
    "\n",
    "rf = RandomForestRegressor(random_state=RANDOM_SEED)\n",
    "rf_random = RandomizedSearchCV(estimator=rf, param_distributions=random_grid, n_iter=100, \n",
    "                               cv=3, verbose=2, random_state=RANDOM_SEED, n_jobs=-1)\n",
    "rf_random.fit(X_train, np.log(y_train+1))\n",
    "print(f\"Точность модели по метрике MAPE: {(mape(y_test, np.exp(rf_random.predict(X_test))))*100:0.2f}%\")\n",
    "VERSION = 8\n",
    "predict_test = np.exp(rf.predict(X_test))\n",
    "predict_submission = np.exp(rf.predict(data_test))"
   ]
  },
  {
   "cell_type": "markdown",
   "metadata": {},
   "source": [
    "Точность модели по метрике MAPE: 13.95%"
   ]
  },
  {
   "cell_type": "markdown",
   "metadata": {},
   "source": [
    "Бустинг. CatBoost"
   ]
  },
  {
   "cell_type": "code",
   "execution_count": 612,
   "metadata": {},
   "outputs": [
    {
     "name": "stdout",
     "output_type": "stream",
     "text": [
      "Точность модели по метрике MAPE: 11.65%\n"
     ]
    }
   ],
   "source": [
    "cb = CatBoostRegressor(iterations = 5000, random_seed = RANDOM_SEED, eval_metric='MAPE', \\\n",
    "                            custom_metric=['R2', 'MAE'], silent=True,)\n",
    "cb.fit(X_train, np.log(y_train+1), eval_set=(X_test, np.log(y_test+1)), verbose_eval=0, use_best_model=True)\n",
    "cb.save_model('catboost_single_model_2_baseline.model')\n",
    "print(f\"Точность модели по метрике MAPE: {(mape(y_test, np.exp(cb.predict(X_test))))*100:0.2f}%\")\n",
    "VERSION = 3\n",
    "predict_test = np.exp(cb.predict(X_test))\n",
    "predict_submission = np.exp(cb.predict(data_test))"
   ]
  },
  {
   "cell_type": "markdown",
   "metadata": {},
   "source": [
    "Бустинг. GradientBoostingRegressor"
   ]
  },
  {
   "cell_type": "code",
   "execution_count": 613,
   "metadata": {},
   "outputs": [
    {
     "name": "stdout",
     "output_type": "stream",
     "text": [
      "Точность модели по метрике MAPE: 11.65%\n"
     ]
    }
   ],
   "source": [
    "gb = GradientBoostingRegressor(min_samples_split=2, learning_rate=0.03, max_depth=10, n_estimators=300)\n",
    "gb.fit(X_train, np.log(y_train+1))\n",
    "print(f\"Точность модели по метрике MAPE: {(mape(y_test, np.exp(gb.predict(X_test))))*100:0.2f}%\")\n",
    "VERSION = 4\n",
    "predict_test = np.exp(gb.predict(X_test))\n",
    "predict_submission = np.exp(gb.predict(data_test))"
   ]
  },
  {
   "cell_type": "markdown",
   "metadata": {},
   "source": [
    "Бустинг xgboost"
   ]
  },
  {
   "cell_type": "code",
   "execution_count": 618,
   "metadata": {},
   "outputs": [
    {
     "name": "stdout",
     "output_type": "stream",
     "text": [
      "Точность модели по метрике MAPE: 11.51%\n"
     ]
    }
   ],
   "source": [
    "xb = xgb.XGBRegressor(objective='reg:squarederror', colsample_bytree=0.5, learning_rate=0.03, \\\n",
    "                      max_depth=12, alpha=1, n_jobs=-1, n_estimators=1000)\n",
    "xb.fit(X_train, np.log(y_train+1))\n",
    "print(f\"Точность модели по метрике MAPE: {(mape(y_test, np.exp(xb.predict(X_test))))*100:0.2f}%\")\n",
    "VERSION = 5\n",
    "predict_test = np.exp(xb.predict(X_test))\n",
    "predict_submission = np.exp(xb.predict(data_test))"
   ]
  },
  {
   "cell_type": "markdown",
   "metadata": {},
   "source": [
    "Стекинг"
   ]
  },
  {
   "cell_type": "code",
   "execution_count": 615,
   "metadata": {},
   "outputs": [
    {
     "data": {
      "application/vnd.jupyter.widget-view+json": {
       "model_id": "389af0d8a7ff427fa83317f3fe3f8b58",
       "version_major": 2,
       "version_minor": 0
      },
      "text/plain": [
       "  0%|          | 0/4 [00:00<?, ?it/s]"
      ]
     },
     "metadata": {},
     "output_type": "display_data"
    },
    {
     "name": "stderr",
     "output_type": "stream",
     "text": [
      "[Parallel(n_jobs=-1)]: Using backend ThreadingBackend with 12 concurrent workers.\n",
      "[Parallel(n_jobs=-1)]: Done  26 tasks      | elapsed:    0.8s\n",
      "[Parallel(n_jobs=-1)]: Done 176 tasks      | elapsed:    4.7s\n",
      "[Parallel(n_jobs=-1)]: Done 200 out of 200 | elapsed:    5.2s finished\n",
      "[Parallel(n_jobs=12)]: Using backend ThreadingBackend with 12 concurrent workers.\n",
      "[Parallel(n_jobs=12)]: Done  26 tasks      | elapsed:    0.0s\n",
      "[Parallel(n_jobs=12)]: Done 176 tasks      | elapsed:    0.0s\n",
      "[Parallel(n_jobs=12)]: Done 200 out of 200 | elapsed:    0.0s finished\n",
      "[Parallel(n_jobs=-1)]: Using backend ThreadingBackend with 12 concurrent workers.\n",
      "[Parallel(n_jobs=-1)]: Done  26 tasks      | elapsed:    0.8s\n",
      "[Parallel(n_jobs=-1)]: Done 176 tasks      | elapsed:    4.6s\n",
      "[Parallel(n_jobs=-1)]: Done 200 out of 200 | elapsed:    5.2s finished\n",
      "[Parallel(n_jobs=12)]: Using backend ThreadingBackend with 12 concurrent workers.\n",
      "[Parallel(n_jobs=12)]: Done  26 tasks      | elapsed:    0.0s\n",
      "[Parallel(n_jobs=12)]: Done 176 tasks      | elapsed:    0.0s\n",
      "[Parallel(n_jobs=12)]: Done 200 out of 200 | elapsed:    0.0s finished\n",
      "[Parallel(n_jobs=-1)]: Using backend ThreadingBackend with 12 concurrent workers.\n",
      "[Parallel(n_jobs=-1)]: Done  26 tasks      | elapsed:    0.9s\n",
      "[Parallel(n_jobs=-1)]: Done 176 tasks      | elapsed:    4.8s\n",
      "[Parallel(n_jobs=-1)]: Done 200 out of 200 | elapsed:    5.4s finished\n",
      "[Parallel(n_jobs=12)]: Using backend ThreadingBackend with 12 concurrent workers.\n",
      "[Parallel(n_jobs=12)]: Done  26 tasks      | elapsed:    0.0s\n",
      "[Parallel(n_jobs=12)]: Done 176 tasks      | elapsed:    0.0s\n",
      "[Parallel(n_jobs=12)]: Done 200 out of 200 | elapsed:    0.0s finished\n",
      "[Parallel(n_jobs=-1)]: Using backend ThreadingBackend with 12 concurrent workers.\n",
      "[Parallel(n_jobs=-1)]: Done  26 tasks      | elapsed:    0.8s\n",
      "[Parallel(n_jobs=-1)]: Done 176 tasks      | elapsed:    4.6s\n",
      "[Parallel(n_jobs=-1)]: Done 200 out of 200 | elapsed:    5.2s finished\n",
      "[Parallel(n_jobs=12)]: Using backend ThreadingBackend with 12 concurrent workers.\n",
      "[Parallel(n_jobs=12)]: Done  26 tasks      | elapsed:    0.0s\n",
      "[Parallel(n_jobs=12)]: Done 176 tasks      | elapsed:    0.0s\n",
      "[Parallel(n_jobs=12)]: Done 200 out of 200 | elapsed:    0.0s finished\n",
      "[Parallel(n_jobs=-1)]: Using backend ThreadingBackend with 12 concurrent workers.\n",
      "[Parallel(n_jobs=-1)]: Done  26 tasks      | elapsed:    0.8s\n",
      "[Parallel(n_jobs=-1)]: Done 176 tasks      | elapsed:    4.6s\n",
      "[Parallel(n_jobs=-1)]: Done 200 out of 200 | elapsed:    5.2s finished\n",
      "[Parallel(n_jobs=12)]: Using backend ThreadingBackend with 12 concurrent workers.\n",
      "[Parallel(n_jobs=12)]: Done  26 tasks      | elapsed:    0.0s\n",
      "[Parallel(n_jobs=12)]: Done 176 tasks      | elapsed:    0.0s\n",
      "[Parallel(n_jobs=12)]: Done 200 out of 200 | elapsed:    0.0s finished\n",
      "[Parallel(n_jobs=-1)]: Using backend ThreadingBackend with 12 concurrent workers.\n",
      "[Parallel(n_jobs=-1)]: Done  26 tasks      | elapsed:    1.2s\n",
      "[Parallel(n_jobs=-1)]: Done 176 tasks      | elapsed:    6.8s\n",
      "[Parallel(n_jobs=-1)]: Done 200 out of 200 | elapsed:    7.6s finished\n",
      "[Parallel(n_jobs=12)]: Using backend ThreadingBackend with 12 concurrent workers.\n",
      "[Parallel(n_jobs=12)]: Done  26 tasks      | elapsed:    0.0s\n",
      "[Parallel(n_jobs=12)]: Done 176 tasks      | elapsed:    0.0s\n",
      "[Parallel(n_jobs=12)]: Done 200 out of 200 | elapsed:    0.0s finished\n",
      "[Parallel(n_jobs=12)]: Using backend ThreadingBackend with 12 concurrent workers.\n",
      "[Parallel(n_jobs=12)]: Done  26 tasks      | elapsed:    0.0s\n",
      "[Parallel(n_jobs=12)]: Done 176 tasks      | elapsed:    0.0s\n",
      "[Parallel(n_jobs=12)]: Done 200 out of 200 | elapsed:    0.0s finished\n"
     ]
    },
    {
     "name": "stdout",
     "output_type": "stream",
     "text": [
      "Точность модели по метрике MAPE: 12.5891%\n"
     ]
    }
   ],
   "source": [
    "scaler = StandardScaler() \n",
    "X_train = scaler.fit_transform(X_train) \n",
    "X_test = scaler.transform(X_test) \n",
    "data_test = scaler.transform(data_test)\n",
    "\n",
    "y_train = y_train \n",
    "y_test = y_test\n",
    "\n",
    "cv = KFold(n_splits=5, shuffle=True, random_state=RANDOM_SEED)\n",
    "\n",
    "def compute_meta_feature(regr, X_train, X_test, y_train, cv, data_test):\n",
    "    X_meta_train = np.zeros_like(y_train, dtype=np.float32)    \n",
    "\n",
    "    splits = cv.split(X_train)\n",
    "    for train_fold_index, predict_fold_index in splits:\n",
    "        X_fold_train, X_fold_predict = X_train[train_fold_index], X_train[predict_fold_index]\n",
    "        y_fold_train = y_train[train_fold_index]\n",
    "\n",
    "        folded_regr = clone(regr)\n",
    "        folded_regr.fit(X_fold_train, y_fold_train)\n",
    "\n",
    "        X_meta_train[predict_fold_index] = folded_regr.predict(X_fold_predict)\n",
    "\n",
    "    meta_regr = clone(regr)\n",
    "    meta_regr.fit(X_train, y_train)\n",
    "\n",
    "    X_meta_test = meta_regr.predict(X_test)\n",
    "    X_meta_pred = meta_regr.predict(data_test)\n",
    "\n",
    "    return X_meta_train, X_meta_test, X_meta_pred\n",
    "\n",
    "def generate_meta_features(regr, X_train, X_test, y_train, cv, data_test):\n",
    "    features = [compute_meta_feature(regr, X_train, X_test, y_train, cv, data_test) for regr in tqdm(regr)]    \n",
    "    stacked_features_train = np.vstack([features_train for features_train, features_test, features_pred in features]).T\n",
    "    stacked_features_test = np.vstack([features_test for features_train, features_test, features_pred in features]).T\n",
    "    stacked_features_pred = np.vstack([features_pred for features_train, features_test, features_pred in features]).T\n",
    "    return stacked_features_train, stacked_features_test, stacked_features_pred\n",
    "\n",
    "regr = RandomForestRegressor(n_estimators=300, min_samples_split=2, min_samples_leaf=1, \n",
    "                             max_features=3, max_depth=19, bootstrap=True, random_state=RANDOM_SEED)\n",
    "\n",
    "stacked_features_train, stacked_features_test, stacked_features_pred = generate_meta_features([\n",
    "                            regr,\n",
    "                            RandomForestRegressor(random_state = RANDOM_SEED, n_jobs = -1, verbose = 1, max_depth=5, n_estimators=200),\n",
    "                            ExtraTreesRegressor(random_state=RANDOM_SEED), \n",
    "                            RandomForestRegressor(random_state=RANDOM_SEED, max_depth=15) \\\n",
    "], X_train, X_test, y_train, cv, data_test)\n",
    "\n",
    "def compute_metric(regr, X_train, y_train, X_test, y_test): \n",
    "    regr.fit(X_train, y_train) \n",
    "    y_test_pred = regr.predict(X_test) \n",
    "    return np.round(mape(y_test, y_test_pred)*100, 4)\n",
    "\n",
    "print(f\"Точность модели по метрике MAPE: {compute_metric(regr, stacked_features_train, y_train, stacked_features_test, y_test)}%\")\n",
    "VERSION = 6\n",
    "predict_test = regr.predict(stacked_features_test)\n",
    "predict_submission = regr.predict(stacked_features_pred)"
   ]
  },
  {
   "cell_type": "markdown",
   "metadata": {},
   "source": [
    "# Выводы \n",
    "Выводы следующие:\n",
    "Наилучшего показателя на имеющемся обучающем наборе данных удалось достигнуть с помощью бустинга. XGboost дал лучший результат, с небольшим отсаванием - Catboost\n",
    "Для финального submit выберем XGBoost"
   ]
  },
  {
   "cell_type": "markdown",
   "metadata": {},
   "source": [
    "# Submission"
   ]
  },
  {
   "cell_type": "code",
   "execution_count": 719,
   "metadata": {},
   "outputs": [
    {
     "data": {
      "text/html": [
       "<div>\n",
       "<style scoped>\n",
       "    .dataframe tbody tr th:only-of-type {\n",
       "        vertical-align: middle;\n",
       "    }\n",
       "\n",
       "    .dataframe tbody tr th {\n",
       "        vertical-align: top;\n",
       "    }\n",
       "\n",
       "    .dataframe thead th {\n",
       "        text-align: right;\n",
       "    }\n",
       "</style>\n",
       "<table border=\"1\" class=\"dataframe\">\n",
       "  <thead>\n",
       "    <tr style=\"text-align: right;\">\n",
       "      <th></th>\n",
       "      <th>sell_id</th>\n",
       "      <th>price</th>\n",
       "    </tr>\n",
       "  </thead>\n",
       "  <tbody>\n",
       "    <tr>\n",
       "      <th>0</th>\n",
       "      <td>1100575026</td>\n",
       "      <td>6.583829e+05</td>\n",
       "    </tr>\n",
       "    <tr>\n",
       "      <th>1</th>\n",
       "      <td>1100549428</td>\n",
       "      <td>9.204451e+05</td>\n",
       "    </tr>\n",
       "    <tr>\n",
       "      <th>2</th>\n",
       "      <td>1100658222</td>\n",
       "      <td>9.628076e+05</td>\n",
       "    </tr>\n",
       "    <tr>\n",
       "      <th>3</th>\n",
       "      <td>1100937408</td>\n",
       "      <td>7.590874e+05</td>\n",
       "    </tr>\n",
       "    <tr>\n",
       "      <th>4</th>\n",
       "      <td>1101037972</td>\n",
       "      <td>8.531288e+05</td>\n",
       "    </tr>\n",
       "    <tr>\n",
       "      <th>5</th>\n",
       "      <td>1100912634</td>\n",
       "      <td>8.628963e+05</td>\n",
       "    </tr>\n",
       "    <tr>\n",
       "      <th>6</th>\n",
       "      <td>1101228730</td>\n",
       "      <td>7.190371e+05</td>\n",
       "    </tr>\n",
       "    <tr>\n",
       "      <th>7</th>\n",
       "      <td>1100165896</td>\n",
       "      <td>4.719137e+05</td>\n",
       "    </tr>\n",
       "    <tr>\n",
       "      <th>8</th>\n",
       "      <td>1100768262</td>\n",
       "      <td>2.139517e+06</td>\n",
       "    </tr>\n",
       "    <tr>\n",
       "      <th>9</th>\n",
       "      <td>1101218501</td>\n",
       "      <td>9.526002e+05</td>\n",
       "    </tr>\n",
       "  </tbody>\n",
       "</table>\n",
       "</div>"
      ],
      "text/plain": [
       "      sell_id         price\n",
       "0  1100575026  6.583829e+05\n",
       "1  1100549428  9.204451e+05\n",
       "2  1100658222  9.628076e+05\n",
       "3  1100937408  7.590874e+05\n",
       "4  1101037972  8.531288e+05\n",
       "5  1100912634  8.628963e+05\n",
       "6  1101228730  7.190371e+05\n",
       "7  1100165896  4.719137e+05\n",
       "8  1100768262  2.139517e+06\n",
       "9  1101218501  9.526002e+05"
      ]
     },
     "execution_count": 719,
     "metadata": {},
     "output_type": "execute_result"
    }
   ],
   "source": [
    "#predict_test = np.exp(xb.predict(X_test))\n",
    "#predict_submission = np.exp(xb.predict(data_test))\n",
    "\n",
    "data_sample['price'] = predict_submission\n",
    "data_sample.to_csv('carprice_submission.csv', index=False)\n",
    "data_sample.head(10)"
   ]
  },
  {
   "cell_type": "code",
   "execution_count": null,
   "metadata": {},
   "outputs": [],
   "source": []
  }
 ],
 "metadata": {
  "kernelspec": {
   "display_name": "Python 3",
   "language": "python",
   "name": "python3"
  }
 },
 "nbformat": 4,
 "nbformat_minor": 4
}
